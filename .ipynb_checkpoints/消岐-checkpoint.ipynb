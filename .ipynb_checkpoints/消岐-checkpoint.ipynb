{
 "cells": [
  {
   "cell_type": "code",
   "execution_count": 86,
   "metadata": {},
   "outputs": [],
   "source": [
    "# coding:u8\n",
    "import json\n",
    "import numpy as np\n",
    "import pandas as pd\n",
    "from tqdm import tqdm as tqdm\n",
    "import gc\n",
    "from gensim.models import Word2Vec\n",
    "from sklearn.model_selection import KFold"
   ]
  },
  {
   "cell_type": "code",
   "execution_count": 87,
   "metadata": {},
   "outputs": [],
   "source": [
    "ner_result = pd.read_pickle('result/ner_bert_result.pkl')\n",
    "ner_result['text'] = ner_result['text'].apply(lambda x:''.join(x[1:-1]))"
   ]
  },
  {
   "cell_type": "code",
   "execution_count": 88,
   "metadata": {},
   "outputs": [
    {
     "data": {
      "text/html": [
       "<div>\n",
       "<style scoped>\n",
       "    .dataframe tbody tr th:only-of-type {\n",
       "        vertical-align: middle;\n",
       "    }\n",
       "\n",
       "    .dataframe tbody tr th {\n",
       "        vertical-align: top;\n",
       "    }\n",
       "\n",
       "    .dataframe thead th {\n",
       "        text-align: right;\n",
       "    }\n",
       "</style>\n",
       "<table border=\"1\" class=\"dataframe\">\n",
       "  <thead>\n",
       "    <tr style=\"text-align: right;\">\n",
       "      <th></th>\n",
       "      <th>text</th>\n",
       "      <th>pred</th>\n",
       "      <th>pos</th>\n",
       "    </tr>\n",
       "  </thead>\n",
       "  <tbody>\n",
       "    <tr>\n",
       "      <th>0</th>\n",
       "      <td>《忏悔录》 20111016 荒唐出轨</td>\n",
       "      <td>[忏悔录]</td>\n",
       "      <td>[(2, 5)]</td>\n",
       "    </tr>\n",
       "    <tr>\n",
       "      <th>1</th>\n",
       "      <td>《最终幻想世界》上线steam 11月22日发售</td>\n",
       "      <td>[最终幻想世界]</td>\n",
       "      <td>[(2, 8)]</td>\n",
       "    </tr>\n",
       "    <tr>\n",
       "      <th>2</th>\n",
       "      <td>《谢文东2》电视剧_全集(1-28集)高清在线观看</td>\n",
       "      <td>[谢文东2, 电视剧]</td>\n",
       "      <td>[(2, 6), (7, 10)]</td>\n",
       "    </tr>\n",
       "    <tr>\n",
       "      <th>3</th>\n",
       "      <td>进口喜宝奶粉有适合3岁以上的吗</td>\n",
       "      <td>[进口, 喜宝奶粉, 适合]</td>\n",
       "      <td>[(1, 3), (3, 7), (8, 10)]</td>\n",
       "    </tr>\n",
       "    <tr>\n",
       "      <th>4</th>\n",
       "      <td>“3·11”东日本大地震7周年悼念 仍有约七万人过着...</td>\n",
       "      <td>[]</td>\n",
       "      <td>[]</td>\n",
       "    </tr>\n",
       "  </tbody>\n",
       "</table>\n",
       "</div>"
      ],
      "text/plain": [
       "                            text            pred                        pos\n",
       "0            《忏悔录》 20111016 荒唐出轨           [忏悔录]                   [(2, 5)]\n",
       "1       《最终幻想世界》上线steam 11月22日发售        [最终幻想世界]                   [(2, 8)]\n",
       "2      《谢文东2》电视剧_全集(1-28集)高清在线观看     [谢文东2, 电视剧]          [(2, 6), (7, 10)]\n",
       "3                进口喜宝奶粉有适合3岁以上的吗  [进口, 喜宝奶粉, 适合]  [(1, 3), (3, 7), (8, 10)]\n",
       "4  “3·11”东日本大地震7周年悼念 仍有约七万人过着...              []                         []"
      ]
     },
     "execution_count": 88,
     "metadata": {},
     "output_type": "execute_result"
    }
   ],
   "source": [
    "ner_result.head()"
   ]
  },
  {
   "cell_type": "code",
   "execution_count": 89,
   "metadata": {},
   "outputs": [
    {
     "data": {
      "text/plain": [
       "(10000, 3)"
      ]
     },
     "execution_count": 89,
     "metadata": {},
     "output_type": "execute_result"
    }
   ],
   "source": [
    "ner_result.shape"
   ]
  },
  {
   "cell_type": "code",
   "execution_count": 90,
   "metadata": {},
   "outputs": [],
   "source": [
    "# 包装成和train_data一样的格式\n",
    "new_train_data = []\n",
    "for index,row in ner_result.iterrows():\n",
    "    item = {}\n",
    "    item['text_id'] = index+1\n",
    "    item['text'] = row['text']\n",
    "    item['mention_data'] = []\n",
    "    for i,p in enumerate(row['pos']):\n",
    "        item['mention_data'].append({'mention':row['pred'][i], 'offset':str(p[0]-1)})\n",
    "    new_train_data.append(item)"
   ]
  },
  {
   "cell_type": "code",
   "execution_count": 91,
   "metadata": {},
   "outputs": [
    {
     "data": {
      "text/plain": [
       "[{'text_id': 1,\n",
       "  'text': '《忏悔录》 20111016 荒唐出轨',\n",
       "  'mention_data': [{'mention': '忏悔录', 'offset': '1'}]},\n",
       " {'text_id': 2,\n",
       "  'text': '《最终幻想世界》上线steam 11月22日发售',\n",
       "  'mention_data': [{'mention': '最终幻想世界', 'offset': '1'}]},\n",
       " {'text_id': 3,\n",
       "  'text': '《谢文东2》电视剧_全集(1-28集)高清在线观看',\n",
       "  'mention_data': [{'mention': '谢文东2', 'offset': '1'},\n",
       "   {'mention': '电视剧', 'offset': '6'}]},\n",
       " {'text_id': 4,\n",
       "  'text': '进口喜宝奶粉有适合3岁以上的吗',\n",
       "  'mention_data': [{'mention': '进口', 'offset': '0'},\n",
       "   {'mention': '喜宝奶粉', 'offset': '2'},\n",
       "   {'mention': '适合', 'offset': '7'}]},\n",
       " {'text_id': 5, 'text': '“3·11”东日本大地震7周年悼念 仍有约七万人过着...', 'mention_data': []}]"
      ]
     },
     "execution_count": 91,
     "metadata": {},
     "output_type": "execute_result"
    }
   ],
   "source": [
    "new_train_data[0:5]"
   ]
  },
  {
   "cell_type": "code",
   "execution_count": 92,
   "metadata": {},
   "outputs": [
    {
     "data": {
      "text/plain": [
       "{'text_id': '1',\n",
       " 'text': '南京南站:坐高铁在南京南站下。南京南站',\n",
       " 'mention_data': [{'kb_id': '311223', 'mention': '南京南站', 'offset': '0'},\n",
       "  {'kb_id': '341096', 'mention': '高铁', 'offset': '6'},\n",
       "  {'kb_id': '311223', 'mention': '南京南站', 'offset': '9'},\n",
       "  {'kb_id': '311223', 'mention': '南京南站', 'offset': '15'}]}"
      ]
     },
     "execution_count": 92,
     "metadata": {},
     "output_type": "execute_result"
    }
   ],
   "source": [
    "train_data[0]"
   ]
  },
  {
   "cell_type": "code",
   "execution_count": 93,
   "metadata": {},
   "outputs": [],
   "source": [
    "train_data = []\n",
    "train_data_dict = {}\n",
    "with open('data/raw_data/train.json','r') as f:\n",
    "    for line in f:\n",
    "        raw = json.loads(line)\n",
    "        train_data.append(raw)\n",
    "        train_data_dict[raw['text_id']] = raw\n",
    "# 读取知识库\n",
    "kb_data = []\n",
    "kb = {}\n",
    "with open('data/raw_data/kb_data','r') as f:\n",
    "    for line in f:\n",
    "        item = json.loads(line)\n",
    "        kb[item['subject_id']] = item\n",
    "        kb_data.append(item)\n"
   ]
  },
  {
   "cell_type": "code",
   "execution_count": 94,
   "metadata": {},
   "outputs": [],
   "source": [
    "kb = {}\n",
    "with open('data/raw_data/kb_data','r') as f:\n",
    "    for line in f:\n",
    "        item = json.loads(line)\n",
    "        kb[item['subject_id']] = item\n",
    "        kb_data.append(item)\n",
    "# 补充别名实体进入kb\n",
    "for s in train_data:\n",
    "    for m in s['mention_data']:\n",
    "        \n",
    "        if m['kb_id']=='NIL': continue \n",
    "        name_list = kb[m['kb_id']]['alias']\n",
    "        name_list += [kb[m['kb_id']]['subject']]\n",
    "        if m['mention'] not in name_list:\n",
    "            kb[m['kb_id']]['alias'] += [m['mention']]\n",
    "name_id = {}\n",
    "for kb_id in kb:\n",
    "    for item in kb[kb_id]['alias']:\n",
    "        if item not in name_id:\n",
    "            name_id[item] = [kb_id]\n",
    "        else:\n",
    "            name_id[item].append(kb_id)\n",
    "    if kb[kb_id]['subject'] not in name_id:\n",
    "        name_id[kb[kb_id]['subject']] = [kb_id]\n",
    "    else:\n",
    "        name_id[kb[kb_id]['subject']].append(kb_id)\n",
    "# 去重\n",
    "for id in name_id:\n",
    "    name_id[id] = list(set(name_id[id]))"
   ]
  },
  {
   "cell_type": "code",
   "execution_count": 95,
   "metadata": {},
   "outputs": [
    {
     "name": "stderr",
     "output_type": "stream",
     "text": [
      "100%|██████████| 10000/10000 [00:01<00:00, 5694.92it/s]\n"
     ]
    }
   ],
   "source": [
    "kb_column = []\n",
    "train_column = []\n",
    "text_id = []\n",
    "# label_colum = []\n",
    "num_attrs = []\n",
    "num_abstract_words = []\n",
    "num_alias = []\n",
    "m_id = 0\n",
    "m_id_list = []\n",
    "num_candidate = []\n",
    "equal_subject = []\n",
    "shuminghao = [] \n",
    "entity_common = []\n",
    "len_mention = []\n",
    "mention_start = []\n",
    "for s in tqdm(new_train_data):\n",
    "    mention_ner = s['mention_data']\n",
    "    m_list = []\n",
    "    for m in mention_ner:\n",
    "        m_list.append(m['mention'])\n",
    "    for m in mention_ner:\n",
    "#         if m['mention'] not in name_id or m['kb_id']=='NIL':\n",
    "#             continue\n",
    "        candidate_ids = name_id[m['mention']]\n",
    "        for m_candidate_id in candidate_ids:\n",
    "            # 统计配对特征\n",
    "            candidate_numattrs = 0\n",
    "            candidate_abstract_numwords = 0\n",
    "            candidate_detail = kb[m_candidate_id]\n",
    "            candi_text = ''\n",
    "            for predicate in candidate_detail['data']:\n",
    "                candidate_numattrs += 1\n",
    "                candi_text += predicate['object']\n",
    "                if predicate['predicate'] == '摘要':\n",
    "                    candidate_abstract = predicate['object']\n",
    "                    candidate_abstract_numwords = len(candidate_abstract)\n",
    "#                 if predicate['predicate'] == '标签':\n",
    "#                     candidate_label += predicate['object']\n",
    "            train_column.append(m['mention'])\n",
    "            kb_column.append(m_candidate_id)\n",
    "            text_id.append(s['text_id'])\n",
    "            num_attrs.append(candidate_numattrs)\n",
    "            num_abstract_words.append(candidate_abstract_numwords)\n",
    "            num_alias.append(len(candidate_detail['alias']))\n",
    "            m_id_list.append(m_id)\n",
    "            num_candidate.append(len(candidate_ids))\n",
    "            equal_subject.append(candidate_detail['subject']==m['mention'])\n",
    "            shuminghao.append('《'+candidate_detail['subject']+'》' in candidate_abstract)\n",
    "            len_mention.append(len(m['mention']))\n",
    "            mention_start.append(m['offset'])\n",
    "            \n",
    "            i = 0\n",
    "            for item in m_list:\n",
    "                if item in candi_text: i+=1\n",
    "            entity_common.append(i)\n",
    "        m_id += 1\n",
    "        \n",
    "data = pd.DataFrame()\n",
    "data['text_id'] = text_id\n",
    "data['kb_id'] = kb_column\n",
    "data['train_mention'] = train_column\n",
    "# data['label'] = label_colum\n",
    "data['num_attrs'] = num_attrs\n",
    "data['num_abstract_words'] = num_abstract_words\n",
    "data['num_alias'] = num_alias\n",
    "data['m_id'] = m_id_list\n",
    "data['num_candidates'] = num_candidate \n",
    "data['mention_equal_subject'] = equal_subject\n",
    "data['shuminghao'] = shuminghao\n",
    "data['entity_common']  = entity_common\n",
    "data['len_mention'] = len_mention\n",
    "data['mention_start'] = list(map(int,mention_start))"
   ]
  },
  {
   "cell_type": "code",
   "execution_count": 96,
   "metadata": {},
   "outputs": [
    {
     "data": {
      "text/plain": [
       "(191953, 13)"
      ]
     },
     "execution_count": 96,
     "metadata": {},
     "output_type": "execute_result"
    }
   ],
   "source": [
    "data.shape"
   ]
  },
  {
   "cell_type": "code",
   "execution_count": null,
   "metadata": {},
   "outputs": [],
   "source": []
  },
  {
   "cell_type": "code",
   "execution_count": 97,
   "metadata": {},
   "outputs": [
    {
     "name": "stderr",
     "output_type": "stream",
     "text": [
      "100%|██████████| 90000/90000 [00:01<00:00, 65680.94it/s]\n"
     ]
    }
   ],
   "source": [
    "# 构建数据配对-只做有label的\n",
    "kb_column = []\n",
    "train_column = []\n",
    "text_id = []\n",
    "label_colum = []\n",
    "for s in tqdm(train_data):\n",
    "    mention_ner = s['mention_data']\n",
    "    for m in mention_ner:\n",
    "        if m['mention'] not in name_id:\n",
    "            continue\n",
    "        candidate_ids = name_id[m['mention']]\n",
    "        for m_candidate_id in candidate_ids:\n",
    "            if m_candidate_id==m['kb_id']:\n",
    "                label = 1\n",
    "            else:\n",
    "                label = 0\n",
    "            train_column.append(m['mention'])\n",
    "            kb_column.append(m_candidate_id)\n",
    "            text_id.append(s['text_id'])\n",
    "            label_colum.append(label)\n",
    "        \n",
    "stat_data = pd.DataFrame()\n",
    "stat_data['text_id'] = text_id\n",
    "stat_data['kb_id'] = kb_column\n",
    "stat_data['train_mention'] = train_column\n",
    "stat_data['label'] = label_colum\n"
   ]
  },
  {
   "cell_type": "code",
   "execution_count": 98,
   "metadata": {},
   "outputs": [
    {
     "name": "stdout",
     "output_type": "stream",
     "text": [
      "(191953, 13) (1821412, 4)\n"
     ]
    }
   ],
   "source": [
    "print(data.shape,stat_data.shape)"
   ]
  },
  {
   "cell_type": "code",
   "execution_count": 99,
   "metadata": {},
   "outputs": [
    {
     "name": "stderr",
     "output_type": "stream",
     "text": [
      "/home/zhukaihua/anaconda3/lib/python3.7/site-packages/ipykernel_launcher.py:5: FutureWarning: using a dict on a Series for aggregation\n",
      "is deprecated and will be removed in a future version\n",
      "  \"\"\"\n"
     ]
    }
   ],
   "source": [
    "# 流行度特征\n",
    "# 总流行度\n",
    "train_group = stat_data.groupby('kb_id',as_index=False)['label'].agg({'label_mean':'mean','label_count':'count'})\n",
    "data_ctr = data.merge(train_group,on='kb_id',how='left')\n",
    "train_group = stat_data.groupby(['kb_id','train_mention'])['label'].agg({'m_label_mean':'mean','m_label_count':'count'})\n",
    "data_ctr = data_ctr.merge(train_group,on=['kb_id','train_mention'],how='left')"
   ]
  },
  {
   "cell_type": "code",
   "execution_count": 100,
   "metadata": {},
   "outputs": [
    {
     "data": {
      "text/html": [
       "<div>\n",
       "<style scoped>\n",
       "    .dataframe tbody tr th:only-of-type {\n",
       "        vertical-align: middle;\n",
       "    }\n",
       "\n",
       "    .dataframe tbody tr th {\n",
       "        vertical-align: top;\n",
       "    }\n",
       "\n",
       "    .dataframe thead th {\n",
       "        text-align: right;\n",
       "    }\n",
       "</style>\n",
       "<table border=\"1\" class=\"dataframe\">\n",
       "  <thead>\n",
       "    <tr style=\"text-align: right;\">\n",
       "      <th></th>\n",
       "      <th>text_id</th>\n",
       "      <th>kb_id</th>\n",
       "      <th>train_mention</th>\n",
       "      <th>num_attrs</th>\n",
       "      <th>num_abstract_words</th>\n",
       "      <th>num_alias</th>\n",
       "      <th>m_id</th>\n",
       "      <th>num_candidates</th>\n",
       "      <th>mention_equal_subject</th>\n",
       "      <th>shuminghao</th>\n",
       "      <th>entity_common</th>\n",
       "      <th>len_mention</th>\n",
       "      <th>mention_start</th>\n",
       "      <th>label_mean</th>\n",
       "      <th>label_count</th>\n",
       "      <th>m_label_mean</th>\n",
       "      <th>m_label_count</th>\n",
       "    </tr>\n",
       "  </thead>\n",
       "  <tbody>\n",
       "    <tr>\n",
       "      <th>0</th>\n",
       "      <td>1</td>\n",
       "      <td>119304</td>\n",
       "      <td>忏悔录</td>\n",
       "      <td>13</td>\n",
       "      <td>158</td>\n",
       "      <td>16</td>\n",
       "      <td>0</td>\n",
       "      <td>5</td>\n",
       "      <td>True</td>\n",
       "      <td>True</td>\n",
       "      <td>1</td>\n",
       "      <td>3</td>\n",
       "      <td>1</td>\n",
       "      <td>0.833333</td>\n",
       "      <td>18.0</td>\n",
       "      <td>0.833333</td>\n",
       "      <td>18.0</td>\n",
       "    </tr>\n",
       "    <tr>\n",
       "      <th>1</th>\n",
       "      <td>1</td>\n",
       "      <td>372331</td>\n",
       "      <td>忏悔录</td>\n",
       "      <td>5</td>\n",
       "      <td>31</td>\n",
       "      <td>3</td>\n",
       "      <td>0</td>\n",
       "      <td>5</td>\n",
       "      <td>True</td>\n",
       "      <td>True</td>\n",
       "      <td>1</td>\n",
       "      <td>3</td>\n",
       "      <td>1</td>\n",
       "      <td>0.111111</td>\n",
       "      <td>18.0</td>\n",
       "      <td>0.111111</td>\n",
       "      <td>18.0</td>\n",
       "    </tr>\n",
       "    <tr>\n",
       "      <th>2</th>\n",
       "      <td>1</td>\n",
       "      <td>113234</td>\n",
       "      <td>忏悔录</td>\n",
       "      <td>14</td>\n",
       "      <td>360</td>\n",
       "      <td>8</td>\n",
       "      <td>0</td>\n",
       "      <td>5</td>\n",
       "      <td>True</td>\n",
       "      <td>True</td>\n",
       "      <td>1</td>\n",
       "      <td>3</td>\n",
       "      <td>1</td>\n",
       "      <td>0.055556</td>\n",
       "      <td>18.0</td>\n",
       "      <td>0.055556</td>\n",
       "      <td>18.0</td>\n",
       "    </tr>\n",
       "    <tr>\n",
       "      <th>3</th>\n",
       "      <td>1</td>\n",
       "      <td>38456</td>\n",
       "      <td>忏悔录</td>\n",
       "      <td>11</td>\n",
       "      <td>347</td>\n",
       "      <td>3</td>\n",
       "      <td>0</td>\n",
       "      <td>5</td>\n",
       "      <td>True</td>\n",
       "      <td>True</td>\n",
       "      <td>1</td>\n",
       "      <td>3</td>\n",
       "      <td>1</td>\n",
       "      <td>0.000000</td>\n",
       "      <td>18.0</td>\n",
       "      <td>0.000000</td>\n",
       "      <td>18.0</td>\n",
       "    </tr>\n",
       "    <tr>\n",
       "      <th>4</th>\n",
       "      <td>1</td>\n",
       "      <td>386314</td>\n",
       "      <td>忏悔录</td>\n",
       "      <td>14</td>\n",
       "      <td>226</td>\n",
       "      <td>1</td>\n",
       "      <td>0</td>\n",
       "      <td>5</td>\n",
       "      <td>True</td>\n",
       "      <td>True</td>\n",
       "      <td>1</td>\n",
       "      <td>3</td>\n",
       "      <td>1</td>\n",
       "      <td>0.000000</td>\n",
       "      <td>18.0</td>\n",
       "      <td>0.000000</td>\n",
       "      <td>18.0</td>\n",
       "    </tr>\n",
       "  </tbody>\n",
       "</table>\n",
       "</div>"
      ],
      "text/plain": [
       "   text_id   kb_id train_mention  num_attrs  num_abstract_words  num_alias  \\\n",
       "0        1  119304           忏悔录         13                 158         16   \n",
       "1        1  372331           忏悔录          5                  31          3   \n",
       "2        1  113234           忏悔录         14                 360          8   \n",
       "3        1   38456           忏悔录         11                 347          3   \n",
       "4        1  386314           忏悔录         14                 226          1   \n",
       "\n",
       "   m_id  num_candidates  mention_equal_subject  shuminghao  entity_common  \\\n",
       "0     0               5                   True        True              1   \n",
       "1     0               5                   True        True              1   \n",
       "2     0               5                   True        True              1   \n",
       "3     0               5                   True        True              1   \n",
       "4     0               5                   True        True              1   \n",
       "\n",
       "   len_mention  mention_start  label_mean  label_count  m_label_mean  \\\n",
       "0            3              1    0.833333         18.0      0.833333   \n",
       "1            3              1    0.111111         18.0      0.111111   \n",
       "2            3              1    0.055556         18.0      0.055556   \n",
       "3            3              1    0.000000         18.0      0.000000   \n",
       "4            3              1    0.000000         18.0      0.000000   \n",
       "\n",
       "   m_label_count  \n",
       "0           18.0  \n",
       "1           18.0  \n",
       "2           18.0  \n",
       "3           18.0  \n",
       "4           18.0  "
      ]
     },
     "execution_count": 100,
     "metadata": {},
     "output_type": "execute_result"
    }
   ],
   "source": [
    "data_ctr.head()"
   ]
  },
  {
   "cell_type": "code",
   "execution_count": 101,
   "metadata": {},
   "outputs": [],
   "source": [
    "to_rank = ['num_attrs', 'num_abstract_words', 'num_alias', 'label_mean', 'label_count', 'm_label_mean', \n",
    "             'm_label_count','num_candidates','mention_equal_subject','shuminghao','entity_common']\n",
    "for f in to_rank:\n",
    "    data_group = data_ctr.groupby('m_id')[f].rank(ascending=False)\n",
    "    data_ctr['rank_'+f] = data_group"
   ]
  },
  {
   "cell_type": "code",
   "execution_count": 102,
   "metadata": {},
   "outputs": [],
   "source": [
    "candidate_type_list = set(['AcademicDiscipline',\n",
    "               'Animal', 'AstronomicalObject', 'Athlete', 'AwardEventSeries', 'Brand',\n",
    "               'Building', 'CollegeOrUniversity', 'CommunicationMedium', 'Country',\n",
    "               'CreativeWork', 'CulturalHeritage', 'Currency', 'Curriculum',\n",
    "               'EducationMajor', 'EntertainmentPerson', 'Event', 'FamilyName',\n",
    "               'FictionalHuman', 'FictionalThing', 'Food', 'Formula', 'Game',\n",
    "               'HistoricalPeriod', 'HistoricalPerson', 'Human',\n",
    "               'InternationalOrganization', 'Language', 'Material', 'MedicalCondition',\n",
    "               'MedicalDepartmentType', 'Movie', 'Nation', 'Organism', 'Organization',\n",
    "               'Person', 'Place', 'Plant', 'Product', 'ScientificOrganization',\n",
    "               'Symbol', 'TVPlay', 'TVShow', 'Theorem', 'Thing', 'Tool', 'Vocabulary',\n",
    "               'ZodiacSign'])\n",
    "data_ctr['type'] = data_ctr.apply(lambda x:kb[x['kb_id']]['type'][0],axis=1)\n",
    "for t in candidate_type_list:\n",
    "    data_ctr[t] = data_ctr['type'].apply(lambda x:x in candidate_type_list)"
   ]
  },
  {
   "cell_type": "code",
   "execution_count": 103,
   "metadata": {},
   "outputs": [],
   "source": [
    "from sklearn.externals import joblib\n",
    "gbm_pickle = joblib.load('model_link/lgb.pkl')"
   ]
  },
  {
   "cell_type": "code",
   "execution_count": 104,
   "metadata": {},
   "outputs": [],
   "source": [
    "predictor = ['num_attrs', 'num_abstract_words', 'num_alias', 'label_mean', 'label_count', 'm_label_mean', \n",
    "             'm_label_count','AcademicDiscipline',\n",
    "               'Animal', 'AstronomicalObject', 'Athlete', 'AwardEventSeries', 'Brand',\n",
    "               'Building', 'CollegeOrUniversity', 'CommunicationMedium', 'Country',\n",
    "               'CreativeWork', 'CulturalHeritage', 'Currency', 'Curriculum',\n",
    "               'EducationMajor', 'EntertainmentPerson', 'Event', 'FamilyName',\n",
    "               'FictionalHuman', 'FictionalThing', 'Food', 'Formula', 'Game',\n",
    "               'HistoricalPeriod', 'HistoricalPerson', 'Human',\n",
    "               'InternationalOrganization', 'Language', 'Material', 'MedicalCondition',\n",
    "               'MedicalDepartmentType', 'Movie', 'Nation', 'Organism', 'Organization',\n",
    "               'Person', 'Place', 'Plant', 'Product', 'ScientificOrganization',\n",
    "               'Symbol', 'TVPlay', 'TVShow', 'Theorem', 'Thing', 'Tool', 'Vocabulary',\n",
    "               'ZodiacSign','num_candidates','mention_equal_subject','shuminghao','entity_common',\n",
    "            'rank_num_attrs', 'rank_num_abstract_words',\n",
    "       'rank_num_alias', 'rank_label_mean', 'rank_label_count',\n",
    "       'rank_m_label_mean', 'rank_m_label_count', 'rank_num_candidates',\n",
    "       'rank_mention_equal_subject', 'rank_shuminghao', 'rank_entity_common','len_mention','mention_start']\n",
    "link_grades = gbm_pickle.predict(data_ctr[predictor])"
   ]
  },
  {
   "cell_type": "code",
   "execution_count": 105,
   "metadata": {},
   "outputs": [
    {
     "data": {
      "text/plain": [
       "191953"
      ]
     },
     "execution_count": 105,
     "metadata": {},
     "output_type": "execute_result"
    }
   ],
   "source": [
    "len(link_grades)"
   ]
  },
  {
   "cell_type": "code",
   "execution_count": 106,
   "metadata": {},
   "outputs": [],
   "source": [
    "data_ctr['link_grade'] = link_grades"
   ]
  },
  {
   "cell_type": "code",
   "execution_count": 107,
   "metadata": {},
   "outputs": [
    {
     "data": {
      "text/html": [
       "<div>\n",
       "<style scoped>\n",
       "    .dataframe tbody tr th:only-of-type {\n",
       "        vertical-align: middle;\n",
       "    }\n",
       "\n",
       "    .dataframe tbody tr th {\n",
       "        vertical-align: top;\n",
       "    }\n",
       "\n",
       "    .dataframe thead th {\n",
       "        text-align: right;\n",
       "    }\n",
       "</style>\n",
       "<table border=\"1\" class=\"dataframe\">\n",
       "  <thead>\n",
       "    <tr style=\"text-align: right;\">\n",
       "      <th></th>\n",
       "      <th>text_id</th>\n",
       "      <th>kb_id</th>\n",
       "      <th>train_mention</th>\n",
       "      <th>num_attrs</th>\n",
       "      <th>num_abstract_words</th>\n",
       "      <th>num_alias</th>\n",
       "      <th>m_id</th>\n",
       "      <th>num_candidates</th>\n",
       "      <th>mention_equal_subject</th>\n",
       "      <th>shuminghao</th>\n",
       "      <th>...</th>\n",
       "      <th>Nation</th>\n",
       "      <th>Product</th>\n",
       "      <th>FictionalThing</th>\n",
       "      <th>Athlete</th>\n",
       "      <th>AstronomicalObject</th>\n",
       "      <th>ScientificOrganization</th>\n",
       "      <th>TVShow</th>\n",
       "      <th>Movie</th>\n",
       "      <th>AcademicDiscipline</th>\n",
       "      <th>link_grade</th>\n",
       "    </tr>\n",
       "  </thead>\n",
       "  <tbody>\n",
       "    <tr>\n",
       "      <th>0</th>\n",
       "      <td>1</td>\n",
       "      <td>119304</td>\n",
       "      <td>忏悔录</td>\n",
       "      <td>13</td>\n",
       "      <td>158</td>\n",
       "      <td>16</td>\n",
       "      <td>0</td>\n",
       "      <td>5</td>\n",
       "      <td>True</td>\n",
       "      <td>True</td>\n",
       "      <td>...</td>\n",
       "      <td>True</td>\n",
       "      <td>True</td>\n",
       "      <td>True</td>\n",
       "      <td>True</td>\n",
       "      <td>True</td>\n",
       "      <td>True</td>\n",
       "      <td>True</td>\n",
       "      <td>True</td>\n",
       "      <td>True</td>\n",
       "      <td>0.978312</td>\n",
       "    </tr>\n",
       "    <tr>\n",
       "      <th>1</th>\n",
       "      <td>1</td>\n",
       "      <td>372331</td>\n",
       "      <td>忏悔录</td>\n",
       "      <td>5</td>\n",
       "      <td>31</td>\n",
       "      <td>3</td>\n",
       "      <td>0</td>\n",
       "      <td>5</td>\n",
       "      <td>True</td>\n",
       "      <td>True</td>\n",
       "      <td>...</td>\n",
       "      <td>True</td>\n",
       "      <td>True</td>\n",
       "      <td>True</td>\n",
       "      <td>True</td>\n",
       "      <td>True</td>\n",
       "      <td>True</td>\n",
       "      <td>True</td>\n",
       "      <td>True</td>\n",
       "      <td>True</td>\n",
       "      <td>0.306917</td>\n",
       "    </tr>\n",
       "    <tr>\n",
       "      <th>2</th>\n",
       "      <td>1</td>\n",
       "      <td>113234</td>\n",
       "      <td>忏悔录</td>\n",
       "      <td>14</td>\n",
       "      <td>360</td>\n",
       "      <td>8</td>\n",
       "      <td>0</td>\n",
       "      <td>5</td>\n",
       "      <td>True</td>\n",
       "      <td>True</td>\n",
       "      <td>...</td>\n",
       "      <td>True</td>\n",
       "      <td>True</td>\n",
       "      <td>True</td>\n",
       "      <td>True</td>\n",
       "      <td>True</td>\n",
       "      <td>True</td>\n",
       "      <td>True</td>\n",
       "      <td>True</td>\n",
       "      <td>True</td>\n",
       "      <td>0.764129</td>\n",
       "    </tr>\n",
       "    <tr>\n",
       "      <th>3</th>\n",
       "      <td>1</td>\n",
       "      <td>38456</td>\n",
       "      <td>忏悔录</td>\n",
       "      <td>11</td>\n",
       "      <td>347</td>\n",
       "      <td>3</td>\n",
       "      <td>0</td>\n",
       "      <td>5</td>\n",
       "      <td>True</td>\n",
       "      <td>True</td>\n",
       "      <td>...</td>\n",
       "      <td>True</td>\n",
       "      <td>True</td>\n",
       "      <td>True</td>\n",
       "      <td>True</td>\n",
       "      <td>True</td>\n",
       "      <td>True</td>\n",
       "      <td>True</td>\n",
       "      <td>True</td>\n",
       "      <td>True</td>\n",
       "      <td>0.332558</td>\n",
       "    </tr>\n",
       "    <tr>\n",
       "      <th>4</th>\n",
       "      <td>1</td>\n",
       "      <td>386314</td>\n",
       "      <td>忏悔录</td>\n",
       "      <td>14</td>\n",
       "      <td>226</td>\n",
       "      <td>1</td>\n",
       "      <td>0</td>\n",
       "      <td>5</td>\n",
       "      <td>True</td>\n",
       "      <td>True</td>\n",
       "      <td>...</td>\n",
       "      <td>True</td>\n",
       "      <td>True</td>\n",
       "      <td>True</td>\n",
       "      <td>True</td>\n",
       "      <td>True</td>\n",
       "      <td>True</td>\n",
       "      <td>True</td>\n",
       "      <td>True</td>\n",
       "      <td>True</td>\n",
       "      <td>0.000023</td>\n",
       "    </tr>\n",
       "  </tbody>\n",
       "</table>\n",
       "<p>5 rows × 78 columns</p>\n",
       "</div>"
      ],
      "text/plain": [
       "   text_id   kb_id train_mention  num_attrs  num_abstract_words  num_alias  \\\n",
       "0        1  119304           忏悔录         13                 158         16   \n",
       "1        1  372331           忏悔录          5                  31          3   \n",
       "2        1  113234           忏悔录         14                 360          8   \n",
       "3        1   38456           忏悔录         11                 347          3   \n",
       "4        1  386314           忏悔录         14                 226          1   \n",
       "\n",
       "   m_id  num_candidates  mention_equal_subject  shuminghao  ...  Nation  \\\n",
       "0     0               5                   True        True  ...    True   \n",
       "1     0               5                   True        True  ...    True   \n",
       "2     0               5                   True        True  ...    True   \n",
       "3     0               5                   True        True  ...    True   \n",
       "4     0               5                   True        True  ...    True   \n",
       "\n",
       "   Product  FictionalThing  Athlete  AstronomicalObject  \\\n",
       "0     True            True     True                True   \n",
       "1     True            True     True                True   \n",
       "2     True            True     True                True   \n",
       "3     True            True     True                True   \n",
       "4     True            True     True                True   \n",
       "\n",
       "   ScientificOrganization  TVShow  Movie  AcademicDiscipline  link_grade  \n",
       "0                    True    True   True                True    0.978312  \n",
       "1                    True    True   True                True    0.306917  \n",
       "2                    True    True   True                True    0.764129  \n",
       "3                    True    True   True                True    0.332558  \n",
       "4                    True    True   True                True    0.000023  \n",
       "\n",
       "[5 rows x 78 columns]"
      ]
     },
     "execution_count": 107,
     "metadata": {},
     "output_type": "execute_result"
    }
   ],
   "source": [
    "data_ctr.head()"
   ]
  },
  {
   "cell_type": "code",
   "execution_count": 108,
   "metadata": {},
   "outputs": [],
   "source": [
    "# index_df = val_data.groupby('m_id')['index'].apply(list)\n",
    "# label_package = val_data.groupby('m_id',as_index=False)['label'].agg({'label_id_max':'idxmax'})['label_id_max']"
   ]
  },
  {
   "cell_type": "code",
   "execution_count": 109,
   "metadata": {},
   "outputs": [],
   "source": [
    "max_id = data_ctr.groupby('m_id',as_index=False)['link_grade'].agg({'max_id':'idxmax'})['max_id']"
   ]
  },
  {
   "cell_type": "code",
   "execution_count": 110,
   "metadata": {},
   "outputs": [
    {
     "data": {
      "text/plain": [
       "(27879,)"
      ]
     },
     "execution_count": 110,
     "metadata": {},
     "output_type": "execute_result"
    }
   ],
   "source": [
    "max_id.shape"
   ]
  },
  {
   "cell_type": "code",
   "execution_count": 111,
   "metadata": {},
   "outputs": [
    {
     "data": {
      "text/plain": [
       "27879"
      ]
     },
     "execution_count": 111,
     "metadata": {},
     "output_type": "execute_result"
    }
   ],
   "source": [
    "sum(ner_result['pred'].apply(lambda x:len(x)))"
   ]
  },
  {
   "cell_type": "code",
   "execution_count": 112,
   "metadata": {},
   "outputs": [],
   "source": [
    "valid_data = data_ctr.loc[max_id,:]"
   ]
  },
  {
   "cell_type": "code",
   "execution_count": 113,
   "metadata": {},
   "outputs": [
    {
     "data": {
      "text/html": [
       "<div>\n",
       "<style scoped>\n",
       "    .dataframe tbody tr th:only-of-type {\n",
       "        vertical-align: middle;\n",
       "    }\n",
       "\n",
       "    .dataframe tbody tr th {\n",
       "        vertical-align: top;\n",
       "    }\n",
       "\n",
       "    .dataframe thead th {\n",
       "        text-align: right;\n",
       "    }\n",
       "</style>\n",
       "<table border=\"1\" class=\"dataframe\">\n",
       "  <thead>\n",
       "    <tr style=\"text-align: right;\">\n",
       "      <th></th>\n",
       "      <th>text_id</th>\n",
       "      <th>kb_id</th>\n",
       "      <th>train_mention</th>\n",
       "      <th>num_attrs</th>\n",
       "      <th>num_abstract_words</th>\n",
       "      <th>num_alias</th>\n",
       "      <th>m_id</th>\n",
       "      <th>num_candidates</th>\n",
       "      <th>mention_equal_subject</th>\n",
       "      <th>shuminghao</th>\n",
       "      <th>...</th>\n",
       "      <th>Nation</th>\n",
       "      <th>Product</th>\n",
       "      <th>FictionalThing</th>\n",
       "      <th>Athlete</th>\n",
       "      <th>AstronomicalObject</th>\n",
       "      <th>ScientificOrganization</th>\n",
       "      <th>TVShow</th>\n",
       "      <th>Movie</th>\n",
       "      <th>AcademicDiscipline</th>\n",
       "      <th>link_grade</th>\n",
       "    </tr>\n",
       "  </thead>\n",
       "  <tbody>\n",
       "    <tr>\n",
       "      <th>0</th>\n",
       "      <td>1</td>\n",
       "      <td>119304</td>\n",
       "      <td>忏悔录</td>\n",
       "      <td>13</td>\n",
       "      <td>158</td>\n",
       "      <td>16</td>\n",
       "      <td>0</td>\n",
       "      <td>5</td>\n",
       "      <td>True</td>\n",
       "      <td>True</td>\n",
       "      <td>...</td>\n",
       "      <td>True</td>\n",
       "      <td>True</td>\n",
       "      <td>True</td>\n",
       "      <td>True</td>\n",
       "      <td>True</td>\n",
       "      <td>True</td>\n",
       "      <td>True</td>\n",
       "      <td>True</td>\n",
       "      <td>True</td>\n",
       "      <td>0.978312</td>\n",
       "    </tr>\n",
       "    <tr>\n",
       "      <th>5</th>\n",
       "      <td>2</td>\n",
       "      <td>303980</td>\n",
       "      <td>最终幻想世界</td>\n",
       "      <td>12</td>\n",
       "      <td>132</td>\n",
       "      <td>6</td>\n",
       "      <td>1</td>\n",
       "      <td>2</td>\n",
       "      <td>True</td>\n",
       "      <td>False</td>\n",
       "      <td>...</td>\n",
       "      <td>True</td>\n",
       "      <td>True</td>\n",
       "      <td>True</td>\n",
       "      <td>True</td>\n",
       "      <td>True</td>\n",
       "      <td>True</td>\n",
       "      <td>True</td>\n",
       "      <td>True</td>\n",
       "      <td>True</td>\n",
       "      <td>0.542264</td>\n",
       "    </tr>\n",
       "    <tr>\n",
       "      <th>8</th>\n",
       "      <td>3</td>\n",
       "      <td>64062</td>\n",
       "      <td>谢文东2</td>\n",
       "      <td>18</td>\n",
       "      <td>129</td>\n",
       "      <td>3</td>\n",
       "      <td>2</td>\n",
       "      <td>2</td>\n",
       "      <td>False</td>\n",
       "      <td>True</td>\n",
       "      <td>...</td>\n",
       "      <td>True</td>\n",
       "      <td>True</td>\n",
       "      <td>True</td>\n",
       "      <td>True</td>\n",
       "      <td>True</td>\n",
       "      <td>True</td>\n",
       "      <td>True</td>\n",
       "      <td>True</td>\n",
       "      <td>True</td>\n",
       "      <td>0.991166</td>\n",
       "    </tr>\n",
       "    <tr>\n",
       "      <th>12</th>\n",
       "      <td>3</td>\n",
       "      <td>202048</td>\n",
       "      <td>电视剧</td>\n",
       "      <td>14</td>\n",
       "      <td>426</td>\n",
       "      <td>2995</td>\n",
       "      <td>3</td>\n",
       "      <td>8</td>\n",
       "      <td>True</td>\n",
       "      <td>False</td>\n",
       "      <td>...</td>\n",
       "      <td>True</td>\n",
       "      <td>True</td>\n",
       "      <td>True</td>\n",
       "      <td>True</td>\n",
       "      <td>True</td>\n",
       "      <td>True</td>\n",
       "      <td>True</td>\n",
       "      <td>True</td>\n",
       "      <td>True</td>\n",
       "      <td>0.999897</td>\n",
       "    </tr>\n",
       "    <tr>\n",
       "      <th>17</th>\n",
       "      <td>4</td>\n",
       "      <td>79540</td>\n",
       "      <td>进口</td>\n",
       "      <td>9</td>\n",
       "      <td>68</td>\n",
       "      <td>7</td>\n",
       "      <td>4</td>\n",
       "      <td>1</td>\n",
       "      <td>True</td>\n",
       "      <td>False</td>\n",
       "      <td>...</td>\n",
       "      <td>True</td>\n",
       "      <td>True</td>\n",
       "      <td>True</td>\n",
       "      <td>True</td>\n",
       "      <td>True</td>\n",
       "      <td>True</td>\n",
       "      <td>True</td>\n",
       "      <td>True</td>\n",
       "      <td>True</td>\n",
       "      <td>0.999928</td>\n",
       "    </tr>\n",
       "  </tbody>\n",
       "</table>\n",
       "<p>5 rows × 78 columns</p>\n",
       "</div>"
      ],
      "text/plain": [
       "    text_id   kb_id train_mention  num_attrs  num_abstract_words  num_alias  \\\n",
       "0         1  119304           忏悔录         13                 158         16   \n",
       "5         2  303980        最终幻想世界         12                 132          6   \n",
       "8         3   64062          谢文东2         18                 129          3   \n",
       "12        3  202048           电视剧         14                 426       2995   \n",
       "17        4   79540            进口          9                  68          7   \n",
       "\n",
       "    m_id  num_candidates  mention_equal_subject  shuminghao  ...  Nation  \\\n",
       "0      0               5                   True        True  ...    True   \n",
       "5      1               2                   True       False  ...    True   \n",
       "8      2               2                  False        True  ...    True   \n",
       "12     3               8                   True       False  ...    True   \n",
       "17     4               1                   True       False  ...    True   \n",
       "\n",
       "    Product  FictionalThing  Athlete  AstronomicalObject  \\\n",
       "0      True            True     True                True   \n",
       "5      True            True     True                True   \n",
       "8      True            True     True                True   \n",
       "12     True            True     True                True   \n",
       "17     True            True     True                True   \n",
       "\n",
       "    ScientificOrganization  TVShow  Movie  AcademicDiscipline  link_grade  \n",
       "0                     True    True   True                True    0.978312  \n",
       "5                     True    True   True                True    0.542264  \n",
       "8                     True    True   True                True    0.991166  \n",
       "12                    True    True   True                True    0.999897  \n",
       "17                    True    True   True                True    0.999928  \n",
       "\n",
       "[5 rows x 78 columns]"
      ]
     },
     "execution_count": 113,
     "metadata": {},
     "output_type": "execute_result"
    }
   ],
   "source": [
    "valid_data.head()"
   ]
  },
  {
   "cell_type": "code",
   "execution_count": 114,
   "metadata": {},
   "outputs": [
    {
     "data": {
      "text/plain": [
       "[{'text_id': 1,\n",
       "  'text': '《忏悔录》 20111016 荒唐出轨',\n",
       "  'mention_data': [{'mention': '忏悔录', 'offset': '1'}]},\n",
       " {'text_id': 2,\n",
       "  'text': '《最终幻想世界》上线steam 11月22日发售',\n",
       "  'mention_data': [{'mention': '最终幻想世界', 'offset': '1'}]},\n",
       " {'text_id': 3,\n",
       "  'text': '《谢文东2》电视剧_全集(1-28集)高清在线观看',\n",
       "  'mention_data': [{'mention': '谢文东2', 'offset': '1'},\n",
       "   {'mention': '电视剧', 'offset': '6'}]}]"
      ]
     },
     "execution_count": 114,
     "metadata": {},
     "output_type": "execute_result"
    }
   ],
   "source": [
    "new_train_data[0:3]"
   ]
  },
  {
   "cell_type": "code",
   "execution_count": 115,
   "metadata": {},
   "outputs": [
    {
     "name": "stderr",
     "output_type": "stream",
     "text": [
      "10000it [00:00, 41851.18it/s]\n"
     ]
    }
   ],
   "source": [
    "testfile_name = 'data/raw_data/develop.json'\n",
    "submit = []\n",
    "with open(testfile_name, 'r') as f:\n",
    "    for line in tqdm(f):\n",
    "        s = json.loads(line)\n",
    "        submit.append(s)"
   ]
  },
  {
   "cell_type": "code",
   "execution_count": 118,
   "metadata": {},
   "outputs": [],
   "source": [
    "kbid_finder = {}\n",
    "for index,row in valid_data.iterrows():\n",
    "    kbid_finder[str(row['text_id'])+row['train_mention']] = row['kb_id']"
   ]
  },
  {
   "cell_type": "code",
   "execution_count": 119,
   "metadata": {},
   "outputs": [],
   "source": [
    "submit_data = []\n",
    "for item in new_train_data:\n",
    "    new_m = item\n",
    "    for m in item['mention_data']:\n",
    "        new_m['kb_id'] = kbid_finder[str(item['text_id'])+m['mention']]\n",
    "    submit_data.append(new_m)"
   ]
  },
  {
   "cell_type": "code",
   "execution_count": null,
   "metadata": {},
   "outputs": [],
   "source": [
    "js.result.json"
   ]
  },
  {
   "cell_type": "code",
   "execution_count": 121,
   "metadata": {},
   "outputs": [],
   "source": [
    "import json\n",
    "with open('submit/result.json', 'w') as f:\n",
    "    json.dump(submit_data, f)"
   ]
  },
  {
   "cell_type": "code",
   "execution_count": 122,
   "metadata": {},
   "outputs": [
    {
     "data": {
      "text/plain": [
       "10000"
      ]
     },
     "execution_count": 122,
     "metadata": {},
     "output_type": "execute_result"
    }
   ],
   "source": [
    "len(submit_data)"
   ]
  },
  {
   "cell_type": "code",
   "execution_count": null,
   "metadata": {},
   "outputs": [],
   "source": []
  }
 ],
 "metadata": {
  "kernelspec": {
   "display_name": "Python 3",
   "language": "python",
   "name": "python3"
  },
  "language_info": {
   "codemirror_mode": {
    "name": "ipython",
    "version": 3
   },
   "file_extension": ".py",
   "mimetype": "text/x-python",
   "name": "python",
   "nbconvert_exporter": "python",
   "pygments_lexer": "ipython3",
   "version": "3.7.3"
  }
 },
 "nbformat": 4,
 "nbformat_minor": 2
}
