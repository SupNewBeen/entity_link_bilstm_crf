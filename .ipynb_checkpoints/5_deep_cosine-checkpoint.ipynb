{
 "cells": [
  {
   "cell_type": "code",
   "execution_count": 1,
   "metadata": {},
   "outputs": [],
   "source": [
    "from sklearn.metrics.pairwise import cosine_similarity\n",
    "import pandas as pd\n",
    "# 数值特征\n",
    "import pandas as pd\n",
    "import numpy as np\n",
    "import json\n",
    "from tqdm import tqdm as tqdm\n",
    "from sklearn.model_selection import KFold\n",
    "from gensim.models import word2vec\n",
    "from gensim.models import Word2Vec\n",
    "from sklearn.metrics import mean_squared_error as mse"
   ]
  },
  {
   "cell_type": "code",
   "execution_count": 2,
   "metadata": {},
   "outputs": [
    {
     "data": {
      "text/plain": [
       "3"
      ]
     },
     "execution_count": 2,
     "metadata": {},
     "output_type": "execute_result"
    }
   ],
   "source": [
    "3"
   ]
  },
  {
   "cell_type": "code",
   "execution_count": 3,
   "metadata": {},
   "outputs": [],
   "source": [
    "import multiprocessing\n",
    "\n",
    "def cal_distance(params) :\n",
    "    index,left,right = params\n",
    "#     left = entity_embedding.wv.word_vec(left)\n",
    "#     right = mention_vector(right)\n",
    "    return index,mse(left,right),cosine_similarity(left.reshape(1,-1),right.reshape(1,-1))\n",
    "  "
   ]
  },
  {
   "cell_type": "code",
   "execution_count": 4,
   "metadata": {},
   "outputs": [
    {
     "name": "stderr",
     "output_type": "stream",
     "text": [
      "/home/zhukaihua/anaconda3/lib/python3.7/site-packages/pandas/core/indexing.py:1494: FutureWarning: \n",
      "Passing list-likes to .loc or [] with any missing label will raise\n",
      "KeyError in the future, you can use .reindex() as an alternative.\n",
      "\n",
      "See the documentation here:\n",
      "https://pandas.pydata.org/pandas-docs/stable/indexing.html#deprecate-loc-reindex-listlike\n",
      "  return self._getitem_tuple(key)\n"
     ]
    }
   ],
   "source": [
    "data = pd.read_pickle('data/step1.pkl').loc[:,['text_id','kb_id','m_id','train_mention','label']]\n",
    "test_data = pd.read_pickle('data/step1_test.pkl').loc[:,['text_id','kb_id','m_id','train_mention','label']]"
   ]
  },
  {
   "cell_type": "code",
   "execution_count": 5,
   "metadata": {},
   "outputs": [
    {
     "name": "stderr",
     "output_type": "stream",
     "text": [
      "/home/zhukaihua/anaconda3/lib/python3.7/site-packages/smart_open/smart_open_lib.py:398: UserWarning: This function is deprecated, use smart_open.open instead. See the migration notes for details: https://github.com/RaRe-Technologies/smart_open/blob/master/README.rst#migrating-to-the-new-open-function\n",
      "  'See the migration notes for details: %s' % _MIGRATION_NOTES_URL\n"
     ]
    }
   ],
   "source": [
    "\n",
    "# 引入embedding特征\n",
    "mention_vector = np.load('entity_embedding/gensim_vector.npy')\n",
    "entity_embedding = Word2Vec.load('embedding/w2v.model')\n"
   ]
  },
  {
   "cell_type": "code",
   "execution_count": 6,
   "metadata": {},
   "outputs": [],
   "source": [
    "numlist = []\n",
    "for index,row in data.iterrows():\n",
    "    numlist.append((index,entity_embedding.wv.word_vec(row['kb_id']),mention_vector[index]))\n",
    "p = multiprocessing.Pool(6)\n",
    "res = p.map(cal_distance, numlist)\n",
    "res = sorted(res,key=lambda x:x[0],reverse=False)"
   ]
  },
  {
   "cell_type": "code",
   "execution_count": 7,
   "metadata": {},
   "outputs": [],
   "source": [
    "data['cos_distance'] = [x[1] for x in res]\n",
    "data['mse_distance'] = [x[2] for x in res]\n",
    "data['mse_distance'] = data['mse_distance'].apply(lambda x:x[0][0])"
   ]
  },
  {
   "cell_type": "code",
   "execution_count": null,
   "metadata": {},
   "outputs": [],
   "source": []
  },
  {
   "cell_type": "code",
   "execution_count": 8,
   "metadata": {},
   "outputs": [],
   "source": [
    "test_mention_data = np.load('entity_embedding/gensim_vector_predict.npy')"
   ]
  },
  {
   "cell_type": "code",
   "execution_count": 9,
   "metadata": {},
   "outputs": [
    {
     "data": {
      "text/plain": [
       "(562194, 500)"
      ]
     },
     "execution_count": 9,
     "metadata": {},
     "output_type": "execute_result"
    }
   ],
   "source": [
    "test_mention_data.shape"
   ]
  },
  {
   "cell_type": "code",
   "execution_count": 10,
   "metadata": {},
   "outputs": [],
   "source": [
    "mention_vector = []\n",
    "for i in range(5):\n",
    "    mention_vector.append(test_mention_data[:,i*100:(i+1)*100])"
   ]
  },
  {
   "cell_type": "code",
   "execution_count": 11,
   "metadata": {},
   "outputs": [],
   "source": [
    "mention_vector = sum(mention_vector)/5"
   ]
  },
  {
   "cell_type": "code",
   "execution_count": 12,
   "metadata": {},
   "outputs": [
    {
     "data": {
      "text/plain": [
       "(562194, 100)"
      ]
     },
     "execution_count": 12,
     "metadata": {},
     "output_type": "execute_result"
    }
   ],
   "source": [
    "mention_vector.shape"
   ]
  },
  {
   "cell_type": "code",
   "execution_count": 13,
   "metadata": {},
   "outputs": [],
   "source": [
    "numlist = []\n",
    "for index,row in test_data.iterrows():\n",
    "    numlist.append((index,entity_embedding.wv.word_vec(row['kb_id']),mention_vector[index]))\n",
    "p = multiprocessing.Pool(6)\n",
    "res = p.map(cal_distance, numlist)\n",
    "res = sorted(res,key=lambda x:x[0],reverse=False)"
   ]
  },
  {
   "cell_type": "code",
   "execution_count": null,
   "metadata": {},
   "outputs": [],
   "source": []
  },
  {
   "cell_type": "code",
   "execution_count": 14,
   "metadata": {},
   "outputs": [],
   "source": [
    "test_data['cos_distance'] = [x[1] for x in res]\n",
    "test_data['mse_distance'] = [x[2] for x in res]\n",
    "test_data['mse_distance'] = test_data['mse_distance'].apply(lambda x:x[0][0])"
   ]
  },
  {
   "cell_type": "code",
   "execution_count": 15,
   "metadata": {},
   "outputs": [],
   "source": [
    "# rank特征"
   ]
  },
  {
   "cell_type": "code",
   "execution_count": 16,
   "metadata": {},
   "outputs": [],
   "source": [
    "test_data['label'] = -1"
   ]
  },
  {
   "cell_type": "code",
   "execution_count": 17,
   "metadata": {},
   "outputs": [],
   "source": [
    "data_all = data.append(test_data).reset_index(drop=True)"
   ]
  },
  {
   "cell_type": "code",
   "execution_count": 18,
   "metadata": {},
   "outputs": [],
   "source": [
    "numerical_clolumns = ['cos_distance','mse_distance']"
   ]
  },
  {
   "cell_type": "code",
   "execution_count": 19,
   "metadata": {},
   "outputs": [],
   "source": [
    "# rank 特征\n",
    "to_rank = numerical_clolumns\n",
    "for f in to_rank:\n",
    "    data_group = data_all.groupby('kb_id')[f].rank(ascending=False)\n",
    "    data_all['kbid_rank_'+f] = data_group"
   ]
  },
  {
   "cell_type": "code",
   "execution_count": 20,
   "metadata": {},
   "outputs": [
    {
     "name": "stderr",
     "output_type": "stream",
     "text": [
      "  0%|          | 0/2 [00:00<?, ?it/s]/home/zhukaihua/anaconda3/lib/python3.7/site-packages/ipykernel_launcher.py:5: FutureWarning: using a dict on a Series for aggregation\n",
      "is deprecated and will be removed in a future version\n",
      "  \"\"\"\n",
      "100%|██████████| 2/2 [00:14<00:00,  6.15s/it]\n"
     ]
    }
   ],
   "source": [
    "# mean and var\n",
    "to_rank = numerical_clolumns\n",
    "for f in tqdm(to_rank):\n",
    "    data_group = data_all.groupby('kb_id')[f].agg({'kb_'+f+'_var':'var','kb_'+f+'_mean':'mean','kb_'+f+'_max':'max',\n",
    "                                                   'kb_'+f+'_min':'min'})\n",
    "    data_all = data_all.merge(data_group,on='kb_id',how='left')"
   ]
  },
  {
   "cell_type": "code",
   "execution_count": 21,
   "metadata": {},
   "outputs": [
    {
     "name": "stderr",
     "output_type": "stream",
     "text": [
      "  0%|          | 0/2 [00:00<?, ?it/s]/home/zhukaihua/anaconda3/lib/python3.7/site-packages/ipykernel_launcher.py:6: FutureWarning: using a dict on a Series for aggregation\n",
      "is deprecated and will be removed in a future version\n",
      "  \n",
      "100%|██████████| 2/2 [00:08<00:00,  4.09s/it]\n"
     ]
    }
   ],
   "source": [
    "# mean and var\n",
    "to_rank = numerical_clolumns\n",
    "for f in tqdm(to_rank):\n",
    "    data_group = data_all.groupby(['kb_id','train_mention'])[f].agg({'kb_m_'+f+'_var':'var','kb_m_'+f+'_mean':'mean',\n",
    "                                                                 'kb_m_'+f+'_max':'max',\n",
    "                                                   'kb_m_'+f+'_min':'min'})\n",
    "    data_all = data_all.merge(data_group,on=['kb_id','train_mention'],how='left')"
   ]
  },
  {
   "cell_type": "code",
   "execution_count": 22,
   "metadata": {},
   "outputs": [],
   "source": [
    "# rank 特征\n",
    "to_rank = numerical_clolumns\n",
    "for f in to_rank:\n",
    "    data_group = data_all.groupby(['kb_id','train_mention'])[f].rank(ascending=False)\n",
    "    data_all['kb_m_rank_'+f] = data_group\n",
    "   "
   ]
  },
  {
   "cell_type": "code",
   "execution_count": 23,
   "metadata": {},
   "outputs": [],
   "source": [
    "for f in to_rank:\n",
    "    data_group = data_all.groupby('m_id')[f].rank(ascending=False)\n",
    "    data_all['m_rank_'+f] = data_group"
   ]
  },
  {
   "cell_type": "code",
   "execution_count": 24,
   "metadata": {},
   "outputs": [
    {
     "name": "stderr",
     "output_type": "stream",
     "text": [
      "  0%|          | 0/2 [00:00<?, ?it/s]/home/zhukaihua/anaconda3/lib/python3.7/site-packages/ipykernel_launcher.py:3: FutureWarning: using a dict on a Series for aggregation\n",
      "is deprecated and will be removed in a future version\n",
      "  This is separate from the ipykernel package so we can avoid doing imports until\n",
      "100%|██████████| 2/2 [00:02<00:00,  1.41s/it]\n"
     ]
    }
   ],
   "source": [
    "for f in tqdm(to_rank):\n",
    "    data_group = data_all.groupby('m_id')[f].agg({'mid_'+f+'_var':'var','mid_'+f+'_mean':'mean',\n",
    "                                                  'mid_'+f+'_max':'max','mid_'+f+'_min':'min'})\n",
    "    data_all = data_all.merge(data_group,on='m_id',how='left')"
   ]
  },
  {
   "cell_type": "code",
   "execution_count": 25,
   "metadata": {},
   "outputs": [
    {
     "name": "stdout",
     "output_type": "stream",
     "text": [
      "cos_distance\n",
      "mse_distance\n",
      "kbid_rank_cos_distance\n",
      "kbid_rank_mse_distance\n",
      "kb_cos_distance_var\n",
      "kb_cos_distance_mean\n",
      "kb_cos_distance_max\n",
      "kb_cos_distance_min\n",
      "kb_mse_distance_var\n",
      "kb_mse_distance_mean\n",
      "kb_mse_distance_max\n",
      "kb_mse_distance_min\n",
      "kb_m_cos_distance_var\n",
      "kb_m_cos_distance_mean\n",
      "kb_m_cos_distance_max\n",
      "kb_m_cos_distance_min\n",
      "kb_m_mse_distance_var\n",
      "kb_m_mse_distance_mean\n",
      "kb_m_mse_distance_max\n",
      "kb_m_mse_distance_min\n",
      "kb_m_rank_cos_distance\n",
      "kb_m_rank_mse_distance\n",
      "m_rank_cos_distance\n",
      "m_rank_mse_distance\n",
      "mid_cos_distance_var\n",
      "mid_cos_distance_mean\n",
      "mid_cos_distance_max\n",
      "mid_cos_distance_min\n",
      "mid_mse_distance_var\n",
      "mid_mse_distance_mean\n",
      "mid_mse_distance_max\n",
      "mid_mse_distance_min\n"
     ]
    }
   ],
   "source": [
    "for item in data_all.columns:\n",
    "    if data_all.dtypes[item]=='float64':\n",
    "        print(item)\n",
    "        data_all[item] = data_all[item].astype('float32')\n",
    "    if data_all.dtypes[item]=='int64':\n",
    "        data_all[item] = data_all[item].astype('int32')\n",
    "    if data_all.dtypes[item]=='bool':\n",
    "        data_all[item] = data_all[item].astype('int8')"
   ]
  },
  {
   "cell_type": "code",
   "execution_count": 26,
   "metadata": {},
   "outputs": [],
   "source": [
    "data = data_all.iloc[0:data.shape[0],:]\n",
    "test_data = data_all.iloc[data.shape[0]:,:]\n",
    "data.reset_index(drop=True,inplace=True)\n",
    "test_data.reset_index(drop=True,inplace=True)"
   ]
  },
  {
   "cell_type": "code",
   "execution_count": 27,
   "metadata": {},
   "outputs": [],
   "source": [
    "data.to_pickle('data/step5.pkl')\n",
    "test_data.to_pickle('data/step5_test.pkl')"
   ]
  },
  {
   "cell_type": "code",
   "execution_count": null,
   "metadata": {},
   "outputs": [],
   "source": []
  }
 ],
 "metadata": {
  "kernelspec": {
   "display_name": "Python 3",
   "language": "python",
   "name": "python3"
  },
  "language_info": {
   "codemirror_mode": {
    "name": "ipython",
    "version": 3
   },
   "file_extension": ".py",
   "mimetype": "text/x-python",
   "name": "python",
   "nbconvert_exporter": "python",
   "pygments_lexer": "ipython3",
   "version": "3.7.3"
  }
 },
 "nbformat": 4,
 "nbformat_minor": 2
}
