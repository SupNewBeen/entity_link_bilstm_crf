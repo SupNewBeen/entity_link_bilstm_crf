{
 "cells": [
  {
   "cell_type": "code",
   "execution_count": 1,
   "metadata": {},
   "outputs": [
    {
     "name": "stderr",
     "output_type": "stream",
     "text": [
      "/home/zhukaihua/anaconda3/lib/python3.7/site-packages/sklearn/externals/joblib/__init__.py:15: DeprecationWarning: sklearn.externals.joblib is deprecated in 0.21 and will be removed in 0.23. Please import this functionality directly from joblib, which can be installed with: pip install joblib. If this warning is raised when loading pickled models, you may need to re-serialize those models with scikit-learn 0.21+.\n",
      "  warnings.warn(msg, category=DeprecationWarning)\n"
     ]
    }
   ],
   "source": [
    "# coding:u8\n",
    "import pandas as pd\n",
    "import numpy as np\n",
    "import copy,gc\n",
    "import lightgbm as lgb\n",
    "from sklearn.model_selection import KFold, train_test_split\n",
    "from sklearn.metrics import f1_score,classification_report\n",
    "import matplotlib.pyplot as plt\n",
    "from tqdm import tqdm as tqdm\n",
    "import seaborn as sns\n",
    "from sklearn.externals import joblib\n",
    "import gc"
   ]
  },
  {
   "cell_type": "code",
   "execution_count": 2,
   "metadata": {},
   "outputs": [],
   "source": [
    "data = pd.read_pickle('data/step1_5.pkl') #nume"
   ]
  },
  {
   "cell_type": "code",
   "execution_count": 3,
   "metadata": {},
   "outputs": [],
   "source": [
    "data2 = pd.read_pickle('data/step2.pkl') #ctr\n",
    "data3 = pd.read_pickle('data/step5.pkl') # deep cosine"
   ]
  },
  {
   "cell_type": "code",
   "execution_count": 4,
   "metadata": {},
   "outputs": [],
   "source": [
    "data4 = pd.read_pickle('data/step3.pkl') # tfidf \n",
    "data5 = pd.read_pickle('data/step7.pkl') # bert distance"
   ]
  },
  {
   "cell_type": "code",
   "execution_count": 5,
   "metadata": {},
   "outputs": [],
   "source": [
    "data6 = pd.read_pickle('data/step4.pkl') #deepmatch\n",
    "data7 = pd.read_pickle('data/step6_feature.pkl') # deeptype"
   ]
  },
  {
   "cell_type": "code",
   "execution_count": 8,
   "metadata": {},
   "outputs": [],
   "source": [
    "data7 = data7[['type_loss', 'type_equal', 'var_loss','m_rank_type_loss',\n",
    "       'm_rank_type_equal', 'm_rank_var_loss', 'mid_type_loss_var',\n",
    "       'mid_type_loss_mean', 'mid_type_loss_max', 'mid_type_loss_min',\n",
    "       'mid_type_equal_var', 'mid_type_equal_mean', 'mid_type_equal_max',\n",
    "       'mid_type_equal_min', 'mid_var_loss_var', 'mid_var_loss_mean',\n",
    "       'mid_var_loss_max', 'mid_var_loss_min']]"
   ]
  },
  {
   "cell_type": "code",
   "execution_count": 9,
   "metadata": {},
   "outputs": [
    {
     "data": {
      "text/plain": [
       "Index(['create_works', 'end_with_line', 'end_with_line2', 'end_with_point',\n",
       "       'end_with_shuminghao', 'entity_common', 'kb_id', 'label', 'len_mention',\n",
       "       'm_id',\n",
       "       ...\n",
       "       'mid_type_label_mean_max', 'mid_type_label_mean_min',\n",
       "       'mid_type_label_count_var', 'mid_type_label_count_mean',\n",
       "       'mid_type_label_count_max', 'mid_type_label_count_min',\n",
       "       'mid_works_match_var', 'mid_works_match_mean', 'mid_works_match_max',\n",
       "       'mid_works_match_min'],\n",
       "      dtype='object', length=504)"
      ]
     },
     "execution_count": 9,
     "metadata": {},
     "output_type": "execute_result"
    }
   ],
   "source": [
    "data.columns"
   ]
  },
  {
   "cell_type": "code",
   "execution_count": 10,
   "metadata": {},
   "outputs": [
    {
     "data": {
      "text/html": [
       "<div>\n",
       "<style scoped>\n",
       "    .dataframe tbody tr th:only-of-type {\n",
       "        vertical-align: middle;\n",
       "    }\n",
       "\n",
       "    .dataframe tbody tr th {\n",
       "        vertical-align: top;\n",
       "    }\n",
       "\n",
       "    .dataframe thead th {\n",
       "        text-align: right;\n",
       "    }\n",
       "</style>\n",
       "<table border=\"1\" class=\"dataframe\">\n",
       "  <thead>\n",
       "    <tr style=\"text-align: right;\">\n",
       "      <th></th>\n",
       "      <th>text_id</th>\n",
       "      <th>train_mention</th>\n",
       "      <th>kb_id</th>\n",
       "      <th>label</th>\n",
       "      <th>num_candidates</th>\n",
       "    </tr>\n",
       "  </thead>\n",
       "  <tbody>\n",
       "    <tr>\n",
       "      <th>0</th>\n",
       "      <td>1</td>\n",
       "      <td>南京南站</td>\n",
       "      <td>130287</td>\n",
       "      <td>0</td>\n",
       "      <td>2</td>\n",
       "    </tr>\n",
       "    <tr>\n",
       "      <th>1</th>\n",
       "      <td>1</td>\n",
       "      <td>南京南站</td>\n",
       "      <td>311223</td>\n",
       "      <td>1</td>\n",
       "      <td>2</td>\n",
       "    </tr>\n",
       "    <tr>\n",
       "      <th>2</th>\n",
       "      <td>1</td>\n",
       "      <td>高铁</td>\n",
       "      <td>341096</td>\n",
       "      <td>1</td>\n",
       "      <td>1</td>\n",
       "    </tr>\n",
       "    <tr>\n",
       "      <th>3</th>\n",
       "      <td>1</td>\n",
       "      <td>南京南站</td>\n",
       "      <td>130287</td>\n",
       "      <td>0</td>\n",
       "      <td>2</td>\n",
       "    </tr>\n",
       "    <tr>\n",
       "      <th>4</th>\n",
       "      <td>1</td>\n",
       "      <td>南京南站</td>\n",
       "      <td>311223</td>\n",
       "      <td>1</td>\n",
       "      <td>2</td>\n",
       "    </tr>\n",
       "  </tbody>\n",
       "</table>\n",
       "</div>"
      ],
      "text/plain": [
       "  text_id train_mention   kb_id  label  num_candidates\n",
       "0       1          南京南站  130287      0               2\n",
       "1       1          南京南站  311223      1               2\n",
       "2       1            高铁  341096      1               1\n",
       "3       1          南京南站  130287      0               2\n",
       "4       1          南京南站  311223      1               2"
      ]
     },
     "execution_count": 10,
     "metadata": {},
     "output_type": "execute_result"
    }
   ],
   "source": [
    "data[['text_id','train_mention','kb_id','label','num_candidates']].head(5)"
   ]
  },
  {
   "cell_type": "code",
   "execution_count": 11,
   "metadata": {},
   "outputs": [],
   "source": [
    "for df in [data2,data3,data4,data5,data6,data7]:\n",
    "    \n",
    "    for c in df.columns:\n",
    "        if c not in data.columns:\n",
    "            data[c] = df[c]\n",
    "    del df\n",
    "    gc.collect()\n",
    "# for c in data4.columns:\n",
    "#     if c not in data.columns:\n",
    "#         data[c] = data4[c]"
   ]
  },
  {
   "cell_type": "code",
   "execution_count": 9,
   "metadata": {},
   "outputs": [],
   "source": [
    "# data.to_pickle('data/tpot.pkl')"
   ]
  },
  {
   "cell_type": "code",
   "execution_count": 10,
   "metadata": {},
   "outputs": [
    {
     "data": {
      "text/plain": [
       "(1566680, 733)"
      ]
     },
     "execution_count": 10,
     "metadata": {},
     "output_type": "execute_result"
    }
   ],
   "source": [
    "data.shape"
   ]
  },
  {
   "cell_type": "code",
   "execution_count": 12,
   "metadata": {},
   "outputs": [],
   "source": [
    "predictor=data.columns"
   ]
  },
  {
   "cell_type": "code",
   "execution_count": 13,
   "metadata": {},
   "outputs": [],
   "source": [
    "exclude = ['text_id',\n",
    " 'kb_id',\n",
    " 'train_mention',\n",
    " 'label',\n",
    " 'm_id','type','type_vectors']\n",
    "# exclude = []\n",
    "temp = []\n",
    "for x in predictor:\n",
    "    if x not in exclude :temp.append(x)\n",
    "predictor2 = temp "
   ]
  },
  {
   "cell_type": "code",
   "execution_count": 14,
   "metadata": {},
   "outputs": [],
   "source": [
    "param = {\n",
    "    #'num_leaves':100,\n",
    "    'objective':'binary',\n",
    "    'metric':'binary_logloss',\n",
    "    'metric_freq':20,\n",
    "    'learning_rate': 0.05,\n",
    "    'num_threads':6,\n",
    "    #'min_sum_hessian_in_leaf':10,\n",
    "    'boosting_type':'gbdt',\n",
    "    'subsample':0.9,\n",
    "    #'xgboost_dart_mode':True,\n",
    "    'colsample_bytree':0.5,\n",
    "    'n_estimators':5000,\n",
    "    'min_child_weight':5,\n",
    "    'subsample_freq':2,\n",
    "    'num_leaves':32,\n",
    "    'n_jobs':-1,\n",
    "}\n"
   ]
  },
  {
   "cell_type": "code",
   "execution_count": 15,
   "metadata": {},
   "outputs": [
    {
     "data": {
      "text/plain": [
       "(1566680, 702)"
      ]
     },
     "execution_count": 15,
     "metadata": {},
     "output_type": "execute_result"
    }
   ],
   "source": [
    "data.shape"
   ]
  },
  {
   "cell_type": "code",
   "execution_count": 16,
   "metadata": {},
   "outputs": [
    {
     "name": "stdout",
     "output_type": "stream",
     "text": [
      "(1253344, 702) (313336, 702)\n"
     ]
    },
    {
     "name": "stderr",
     "output_type": "stream",
     "text": [
      "/home/zhukaihua/anaconda3/lib/python3.7/site-packages/lightgbm/engine.py:118: UserWarning: Found `n_estimators` in params. Will use it instead of argument\n",
      "  warnings.warn(\"Found `{}` in params. Will use it instead of argument\".format(alias))\n"
     ]
    },
    {
     "name": "stdout",
     "output_type": "stream",
     "text": [
      "Training until validation scores don't improve for 200 rounds.\n",
      "[100]\tvalid_0's binary_logloss: 0.0672541\n",
      "[200]\tvalid_0's binary_logloss: 0.064743\n",
      "[300]\tvalid_0's binary_logloss: 0.0642422\n",
      "[400]\tvalid_0's binary_logloss: 0.0639828\n",
      "[500]\tvalid_0's binary_logloss: 0.0637877\n",
      "[600]\tvalid_0's binary_logloss: 0.063694\n",
      "[700]\tvalid_0's binary_logloss: 0.0635975\n",
      "[800]\tvalid_0's binary_logloss: 0.0635226\n",
      "[900]\tvalid_0's binary_logloss: 0.063443\n",
      "[1000]\tvalid_0's binary_logloss: 0.0633719\n",
      "[1100]\tvalid_0's binary_logloss: 0.0633494\n",
      "[1200]\tvalid_0's binary_logloss: 0.0633296\n",
      "[1300]\tvalid_0's binary_logloss: 0.0632968\n",
      "[1400]\tvalid_0's binary_logloss: 0.0632536\n",
      "[1500]\tvalid_0's binary_logloss: 0.0632442\n",
      "[1600]\tvalid_0's binary_logloss: 0.0632364\n",
      "[1700]\tvalid_0's binary_logloss: 0.0632445\n",
      "[1800]\tvalid_0's binary_logloss: 0.0632452\n",
      "Early stopping, best iteration is:\n",
      "[1624]\tvalid_0's binary_logloss: 0.0632279\n",
      "(1253344, 702) (313336, 702)\n"
     ]
    },
    {
     "name": "stderr",
     "output_type": "stream",
     "text": [
      "/home/zhukaihua/anaconda3/lib/python3.7/site-packages/lightgbm/engine.py:118: UserWarning: Found `n_estimators` in params. Will use it instead of argument\n",
      "  warnings.warn(\"Found `{}` in params. Will use it instead of argument\".format(alias))\n"
     ]
    },
    {
     "name": "stdout",
     "output_type": "stream",
     "text": [
      "Training until validation scores don't improve for 200 rounds.\n",
      "[100]\tvalid_0's binary_logloss: 0.0660694\n",
      "[200]\tvalid_0's binary_logloss: 0.0633119\n",
      "[300]\tvalid_0's binary_logloss: 0.0627994\n",
      "[400]\tvalid_0's binary_logloss: 0.0624975\n",
      "[500]\tvalid_0's binary_logloss: 0.0623139\n",
      "[600]\tvalid_0's binary_logloss: 0.0621601\n",
      "[700]\tvalid_0's binary_logloss: 0.0620477\n",
      "[800]\tvalid_0's binary_logloss: 0.0619349\n",
      "[900]\tvalid_0's binary_logloss: 0.0618379\n",
      "[1000]\tvalid_0's binary_logloss: 0.0617827\n",
      "[1100]\tvalid_0's binary_logloss: 0.0617324\n",
      "[1200]\tvalid_0's binary_logloss: 0.0616702\n",
      "[1300]\tvalid_0's binary_logloss: 0.0616476\n",
      "[1400]\tvalid_0's binary_logloss: 0.0616139\n",
      "[1500]\tvalid_0's binary_logloss: 0.0615831\n",
      "[1600]\tvalid_0's binary_logloss: 0.0615717\n",
      "[1700]\tvalid_0's binary_logloss: 0.0615552\n",
      "[1800]\tvalid_0's binary_logloss: 0.0615458\n",
      "[1900]\tvalid_0's binary_logloss: 0.0615294\n",
      "[2000]\tvalid_0's binary_logloss: 0.0615313\n",
      "[2100]\tvalid_0's binary_logloss: 0.0615282\n",
      "Early stopping, best iteration is:\n",
      "[1942]\tvalid_0's binary_logloss: 0.0615133\n",
      "(1253344, 702) (313336, 702)\n"
     ]
    },
    {
     "name": "stderr",
     "output_type": "stream",
     "text": [
      "/home/zhukaihua/anaconda3/lib/python3.7/site-packages/lightgbm/engine.py:118: UserWarning: Found `n_estimators` in params. Will use it instead of argument\n",
      "  warnings.warn(\"Found `{}` in params. Will use it instead of argument\".format(alias))\n"
     ]
    },
    {
     "name": "stdout",
     "output_type": "stream",
     "text": [
      "Training until validation scores don't improve for 200 rounds.\n",
      "[100]\tvalid_0's binary_logloss: 0.0680076\n",
      "[200]\tvalid_0's binary_logloss: 0.065547\n",
      "[300]\tvalid_0's binary_logloss: 0.0650121\n",
      "[400]\tvalid_0's binary_logloss: 0.0647535\n",
      "[500]\tvalid_0's binary_logloss: 0.0645958\n",
      "[600]\tvalid_0's binary_logloss: 0.064485\n",
      "[700]\tvalid_0's binary_logloss: 0.0643918\n",
      "[800]\tvalid_0's binary_logloss: 0.0643031\n",
      "[900]\tvalid_0's binary_logloss: 0.0642537\n",
      "[1000]\tvalid_0's binary_logloss: 0.0642398\n",
      "[1100]\tvalid_0's binary_logloss: 0.0642111\n",
      "[1200]\tvalid_0's binary_logloss: 0.0641681\n",
      "[1300]\tvalid_0's binary_logloss: 0.0641462\n",
      "[1400]\tvalid_0's binary_logloss: 0.0641421\n",
      "[1500]\tvalid_0's binary_logloss: 0.0641129\n",
      "[1600]\tvalid_0's binary_logloss: 0.0641095\n",
      "[1700]\tvalid_0's binary_logloss: 0.0641113\n",
      "Early stopping, best iteration is:\n",
      "[1594]\tvalid_0's binary_logloss: 0.0641057\n",
      "(1253344, 702) (313336, 702)\n"
     ]
    },
    {
     "name": "stderr",
     "output_type": "stream",
     "text": [
      "/home/zhukaihua/anaconda3/lib/python3.7/site-packages/lightgbm/engine.py:118: UserWarning: Found `n_estimators` in params. Will use it instead of argument\n",
      "  warnings.warn(\"Found `{}` in params. Will use it instead of argument\".format(alias))\n"
     ]
    },
    {
     "name": "stdout",
     "output_type": "stream",
     "text": [
      "Training until validation scores don't improve for 200 rounds.\n",
      "[100]\tvalid_0's binary_logloss: 0.0677679\n",
      "[200]\tvalid_0's binary_logloss: 0.0653054\n",
      "[300]\tvalid_0's binary_logloss: 0.0648102\n",
      "[400]\tvalid_0's binary_logloss: 0.0645399\n",
      "[500]\tvalid_0's binary_logloss: 0.0643595\n",
      "[600]\tvalid_0's binary_logloss: 0.0642487\n",
      "[700]\tvalid_0's binary_logloss: 0.0641469\n",
      "[800]\tvalid_0's binary_logloss: 0.0640342\n",
      "[900]\tvalid_0's binary_logloss: 0.0639287\n",
      "[1000]\tvalid_0's binary_logloss: 0.0638458\n",
      "[1100]\tvalid_0's binary_logloss: 0.0638361\n",
      "[1200]\tvalid_0's binary_logloss: 0.063823\n",
      "[1300]\tvalid_0's binary_logloss: 0.0638097\n",
      "[1400]\tvalid_0's binary_logloss: 0.0637772\n",
      "[1500]\tvalid_0's binary_logloss: 0.0637576\n",
      "[1600]\tvalid_0's binary_logloss: 0.0637316\n",
      "[1700]\tvalid_0's binary_logloss: 0.063738\n",
      "[1800]\tvalid_0's binary_logloss: 0.0637245\n",
      "[1900]\tvalid_0's binary_logloss: 0.0637212\n",
      "[2000]\tvalid_0's binary_logloss: 0.0637183\n",
      "[2100]\tvalid_0's binary_logloss: 0.0637473\n",
      "[2200]\tvalid_0's binary_logloss: 0.0637467\n",
      "Early stopping, best iteration is:\n",
      "[2014]\tvalid_0's binary_logloss: 0.0637111\n",
      "(1253344, 702) (313336, 702)\n"
     ]
    },
    {
     "name": "stderr",
     "output_type": "stream",
     "text": [
      "/home/zhukaihua/anaconda3/lib/python3.7/site-packages/lightgbm/engine.py:118: UserWarning: Found `n_estimators` in params. Will use it instead of argument\n",
      "  warnings.warn(\"Found `{}` in params. Will use it instead of argument\".format(alias))\n"
     ]
    },
    {
     "name": "stdout",
     "output_type": "stream",
     "text": [
      "Training until validation scores don't improve for 200 rounds.\n",
      "[100]\tvalid_0's binary_logloss: 0.0676115\n",
      "[200]\tvalid_0's binary_logloss: 0.0650076\n",
      "[300]\tvalid_0's binary_logloss: 0.0645345\n",
      "[400]\tvalid_0's binary_logloss: 0.0642696\n",
      "[500]\tvalid_0's binary_logloss: 0.0640905\n",
      "[600]\tvalid_0's binary_logloss: 0.0639406\n",
      "[700]\tvalid_0's binary_logloss: 0.063818\n",
      "[800]\tvalid_0's binary_logloss: 0.0637397\n",
      "[900]\tvalid_0's binary_logloss: 0.063674\n",
      "[1000]\tvalid_0's binary_logloss: 0.0636584\n",
      "[1100]\tvalid_0's binary_logloss: 0.0636207\n",
      "[1200]\tvalid_0's binary_logloss: 0.0635811\n",
      "[1300]\tvalid_0's binary_logloss: 0.063574\n",
      "[1400]\tvalid_0's binary_logloss: 0.0635549\n",
      "[1500]\tvalid_0's binary_logloss: 0.0635416\n",
      "[1600]\tvalid_0's binary_logloss: 0.0635314\n",
      "[1700]\tvalid_0's binary_logloss: 0.0635421\n",
      "Early stopping, best iteration is:\n",
      "[1535]\tvalid_0's binary_logloss: 0.0635174\n"
     ]
    }
   ],
   "source": [
    "kfold = KFold(n_splits=5,shuffle=False,random_state=2019)\n",
    "c = 0\n",
    "for train_index,test_index in kfold.split(data):\n",
    "    #train_data,val_data = data.loc[train_index,:],data.loc[test_index,:]\n",
    "    train_data,val_data = data.loc[train_index,:],data.loc[test_index,:]\n",
    "    print(train_data.shape,val_data.shape)\n",
    "    train = lgb.Dataset(train_data[predictor2],label=train_data['label'])\n",
    "    \n",
    "    validation_data = lgb.Dataset(val_data[predictor2],label=val_data['label'])\n",
    "    #break\n",
    "#     val_data.reset_index(inplace=True,drop=True)\n",
    "#     val_data.reset_index(inplace=True)\n",
    "#     index_df = val_data.groupby('m_id')['index'].apply(list)\n",
    "    \n",
    "#     label_package = val_data.groupby('m_id',as_index=False)['label'].agg({'label_id_max':'idxmax'})['label_id_max']\n",
    "\n",
    "    bst = lgb.train(param, train, valid_sets=[validation_data],early_stopping_rounds=200,\n",
    "                    verbose_eval=100)\n",
    "    joblib.dump(bst, 'model_link/lgb_gbdt_%d.pkl'%c)\n",
    "    c+=1\n",
    "    #break\n",
    "\n",
    "    # 观察阈值\n",
    "#     val_data['link_grade'] = bst.predict(val_data[predictor2])\n",
    "#     max_id = val_data.groupby('m_id',as_index=False)['link_grade'].agg({'max_id':'idxmax'})['max_id']\n",
    "#     val_data_temp = val_data.loc[max_id,:]\n",
    "#     # 假设label为１的数据有0.84的概率为真\n",
    "#     m = 0\n",
    "#     n = 0\n",
    "#     hit = 0\n",
    "#     for i in range(100):\n",
    "#         i = i/100\n",
    "#         filter_val = val_data_temp[val_data_temp['link_grade']>i]\n",
    "#         m = filter_val.shape[0]\n",
    "#         n = 28000\n",
    "#         hit = filter_val['label'].mean()*m*0.83\n",
    "#         acc = hit/m\n",
    "#         recall = hit/n\n",
    "#         f1 = 2*acc*recall/(acc+recall)\n",
    "#         print(f1,acc,recall,i)\n",
    "        \n",
    "#０．９１５\n",
    "# [1344]\tvalid_0's binary_logloss: 0.0767459\tvalid_0's acc: 0.897395\n",
    "# [405]\tvalid_0's binary_logloss: 0.0681472\tvalid_0's acc: 0.913129\n",
    "# [1600]\tvalid_0's binary_logloss: 0.0672695\tvalid_0's acc: 0.91415\n",
    "# [2898]\tvalid_0's binary_logloss: 0.0717056\n",
    "# [100]\tvalid_0's binary_logloss: 0.0787558 0.071\n",
    "# [12100]\tvalid_0's binary_logloss: 0.068946 dart\n",
    "# [3476]\tvalid_0's binary_logloss: 0.0705663\n",
    "# [1879]\tvalid_0's binary_logloss: 0.0697744 gbdt\n",
    "# [8200]\tvalid_0's binary_logloss: 0.068178 dart\n",
    "# pure hello [2162]\tvalid_0's binary_logloss: 0.0516024\n",
    "# hello train,data test \n",
    "# [3100]\tvalid_0's binary_logloss: 0.0671858 gbdt\n",
    "# 2737 0.0676\n",
    "# 0.035\n",
    "# 0.0343\n",
    "# 0.0349\n",
    "# [2499]\tvalid_0's binary_logloss: 0.0697551\n",
    "# [2298]\tvalid_0's binary_logloss: 0.0684312\n",
    "# [100]\tvalid_0's binary_logloss: 0.146277\n",
    "# [1945]\tvalid_0's binary_logloss: 0.0693056\n",
    "# [28]\tvalid_0's binary_logloss: 0.314403\n",
    "# [87]\tvalid_0's binary_logloss: 0.0789237\n"
   ]
  },
  {
   "cell_type": "code",
   "execution_count": null,
   "metadata": {},
   "outputs": [],
   "source": [
    "data['m_id'].max()"
   ]
  },
  {
   "cell_type": "code",
   "execution_count": null,
   "metadata": {},
   "outputs": [],
   "source": [
    "bst.current_iteration()"
   ]
  },
  {
   "cell_type": "code",
   "execution_count": null,
   "metadata": {},
   "outputs": [],
   "source": [
    "# \n",
    "# joblib.dump(bst, 'model_link/lgb_dart.pkl')\n",
    "#import copy\n",
    "bst = joblib.load('model_link/lgb_gbdt_0.pkl')\n",
    "#pred2 = bst2.predict(val_data_dart[predictor2])\n"
   ]
  },
  {
   "cell_type": "code",
   "execution_count": null,
   "metadata": {},
   "outputs": [],
   "source": [
    "def lgb_f1_score(y_hat, data):\n",
    "        y_true = data.get_label()\n",
    "        span = list(np.linspace(0,1, 100))\n",
    "        scores = []\n",
    "        for i in span:\n",
    "            predict_y =  np.where(y_hat >= i, 1,0)\n",
    "            score = f1_score(y_true, predict_y)\n",
    "            scores.append(score)\n",
    "        #print(scores)\n",
    "        best_score = max(scores)"
   ]
  },
  {
   "cell_type": "code",
   "execution_count": null,
   "metadata": {},
   "outputs": [],
   "source": [
    "valid_data = val_data[val_data.pred>0.4]\n",
    "submit = valid_data.groupby('m_id',as_index=False)['pred'].agg({'label_id_max':'idxmax'})\n",
    "m = submit.shape[0]\n",
    "n = sum(val_data.groupby('m_id')['label'].sum())"
   ]
  },
  {
   "cell_type": "code",
   "execution_count": null,
   "metadata": {},
   "outputs": [],
   "source": [
    "m"
   ]
  },
  {
   "cell_type": "code",
   "execution_count": null,
   "metadata": {},
   "outputs": [],
   "source": [
    "# 标注错误总结\n",
    "1 非nil标注为nil\n",
    "2 kb_id链接到其他词汇\n",
    "3 可标可不标\n",
    "4 纯粹标注错误\n",
    "label=0 预测偏大 纠正\n",
    "label=1 预测偏小 纠正"
   ]
  },
  {
   "cell_type": "code",
   "execution_count": null,
   "metadata": {},
   "outputs": [],
   "source": [
    "val_data.to_pickle('data/old.pkl')"
   ]
  },
  {
   "cell_type": "code",
   "execution_count": null,
   "metadata": {},
   "outputs": [],
   "source": [
    "val_data = pd.read_pickle('data/t_val.pkl')"
   ]
  },
  {
   "cell_type": "code",
   "execution_count": 17,
   "metadata": {},
   "outputs": [],
   "source": [
    "pred = bst.predict(val_data[predictor2])\n",
    "val_data['pred'] = pred"
   ]
  },
  {
   "cell_type": "code",
   "execution_count": null,
   "metadata": {},
   "outputs": [],
   "source": [
    "data[data.label==1]['m_id'].nunique()"
   ]
  },
  {
   "cell_type": "code",
   "execution_count": null,
   "metadata": {},
   "outputs": [],
   "source": [
    "data['m_id'].max()"
   ]
  },
  {
   "cell_type": "code",
   "execution_count": 18,
   "metadata": {},
   "outputs": [
    {
     "name": "stdout",
     "output_type": "stream",
     "text": [
      "50459 49740 46224\n",
      "0.3 0.7786599020987336 0.7899155609167672 0.784247347777922\n",
      "50314 49740 46165\n",
      "0.3222222222222222 0.7799071828914418 0.7889073180538801 0.7843814340256263\n",
      "50157 49740 46112\n",
      "0.34444444444444444 0.7814502462268477 0.7880016083634901 0.7847122536212298\n",
      "50002 49740 46059\n",
      "0.36666666666666664 0.7829716811327547 0.7870958986731 0.7850283732028633\n",
      "49840 49740 45988\n",
      "0.3888888888888889 0.7843057784911718 0.785882589465219 0.7850933922474392\n",
      "49648 49740 45905\n",
      "0.4111111111111111 0.7859178617466968 0.7844642139123441 0.7851903650340082\n",
      "49462 49740 45817\n",
      "0.43333333333333335 0.7873610044074238 0.7829603940490552 0.7851545331747344\n",
      "49242 49740 45712\n",
      "0.45555555555555555 0.7890662442630274 0.7811660635303579 0.7850962801317412\n",
      "49016 49740 45594\n",
      "0.47777777777777775 0.7906581524400196 0.7791495778045838 0.7848616792903722\n",
      "48769 49740 45480\n",
      "0.5 0.7926756751214911 0.7772014475271412 0.7848622968459734\n"
     ]
    }
   ],
   "source": [
    "span = list(np.linspace(0.3,0.5, 10))\n",
    "scores = []\n",
    "for i in span:\n",
    "#     predict_y =  np.where(pred >= i, 1,0)\n",
    "#     score = f1_score(val_data['label'], predict_y)\n",
    "#     #print(i,score)\n",
    "#     scores.append(score)\n",
    "#     best_score = max(scores)\n",
    "    n = i\n",
    "    #val_data.loc[(val_data.label_mean>0.99)&(val_data.label_count>10),'pred']=1\n",
    "    valid_data = val_data[(val_data.pred>n)]\n",
    "    v_index = valid_data.loc[valid_data.pred>0.99,'pred'].index\n",
    "\n",
    "    #valid_data.loc[(valid_data.label_mean==0)&(valid_data.label_count>15),'pred']=0\n",
    "\n",
    "    submit = valid_data.groupby('m_id',as_index=False)['pred'].agg({'label_id_max':'idxmax'})\n",
    "    submit_index = np.array(list(set(list(submit['label_id_max'])+list(v_index))))\n",
    "    m = submit.shape[0]\n",
    "    n = sum(val_data.groupby('m_id')['label'].sum())\n",
    "    #hit = valid_data.loc[submit['label_id_max']|valid_data.pred>0.9,:]['label'].sum()\n",
    "    hit = valid_data.loc[submit_index,:]['label'].sum()\n",
    "    print(m,n,hit)\n",
    "    acc = hit/m*0.85\n",
    "    recall = hit/n*0.85\n",
    "    print(i,acc,recall,2*acc*recall/(acc+recall))\n",
    "# 0.358974358974359 0.9064828744358535 0.9083260297984225 0.9074035161448484\n",
    "# 0.41025641025641024 0.9134305067915026 0.9029272567922875 0.9081485138041677\n",
    "# 0.4358974358974359 0.9561564043528741 0.9456976585764612 0.9508982739050452\n",
    "# 0.1794871794871795 0.8884175317656177 0.8817278302937068 0.8850600402300017\n",
    "# 0.4358974358974359 0.9231731834406925 0.9112650102261912 0.9171804461474181\n",
    "# 0.358974358974359 0.9152727272727272 0.9174412247129579 0.9163556930918358\n"
   ]
  },
  {
   "cell_type": "code",
   "execution_count": null,
   "metadata": {},
   "outputs": [],
   "source": []
  },
  {
   "cell_type": "code",
   "execution_count": null,
   "metadata": {},
   "outputs": [],
   "source": [
    "valid_data = val_data[val_data.pred>0.4]\n",
    "\n",
    "submit = valid_data.groupby('m_id',as_index=False)['pred'].agg({'label_id_max':'idxmax'})\n",
    "val_data['positive'] = 0\n",
    "val_data.loc[submit['label_id_max'],'positive'] = 1"
   ]
  },
  {
   "cell_type": "code",
   "execution_count": null,
   "metadata": {},
   "outputs": [],
   "source": [
    "a = val_data[val_data.positive!=val_data.label][['text_id','kb_id','train_mention','num_candidates','label','label_mean','label_count','m_label_mean','m_label_count',\n",
    "          'cos_distance','pred']]\n",
    "a[a.pred>0.8]"
   ]
  },
  {
   "cell_type": "code",
   "execution_count": null,
   "metadata": {},
   "outputs": [],
   "source": [
    "a[(a.label_mean>=0.99)&(a.label_count>10)]"
   ]
  },
  {
   "cell_type": "code",
   "execution_count": null,
   "metadata": {},
   "outputs": [],
   "source": [
    "val_data[(val_data.m_label_count>10)&(val_data.m_label_mean==1)&(val_data.positive!=val_data.label)]\\\n",
    "[['text_id','kb_id','train_mention','num_candidates','label','label_mean','label_count','m_label_mean','m_label_count',\n",
    "          'pred']]"
   ]
  },
  {
   "cell_type": "code",
   "execution_count": null,
   "metadata": {},
   "outputs": [],
   "source": [
    "val_data[(val_data.m_label_count>10)&(val_data.m_label_mean==1)&(val_data.positive!=val_data.label)]\\\n",
    "[['text_id','kb_id','train_mention','num_candidates','label','label_mean','label_count','m_label_mean','m_label_count',\n",
    "          'pred']]"
   ]
  },
  {
   "cell_type": "code",
   "execution_count": null,
   "metadata": {},
   "outputs": [],
   "source": [
    "val_data[val_data.positive!=val_data.label].shape"
   ]
  },
  {
   "cell_type": "code",
   "execution_count": null,
   "metadata": {},
   "outputs": [],
   "source": [
    "val_data.shape"
   ]
  },
  {
   "cell_type": "code",
   "execution_count": null,
   "metadata": {},
   "outputs": [],
   "source": [
    "# a = val_data[val_data.positive!=val_data.label][['text_id','kb_id','train_mention','num_candidates','label','label_mean','label_count','m_label_mean','m_label_count',\n",
    "#           'pred']]\n",
    "# a[a.pred>0.8]"
   ]
  },
  {
   "cell_type": "code",
   "execution_count": null,
   "metadata": {},
   "outputs": [],
   "source": [
    "# val_data[['text_id','kb_id','train_mention','label','label_mean','label_count','m_label_mean','m_label_count',\n",
    "#           'cos_distance','rank_cos_distance','pred']]"
   ]
  },
  {
   "cell_type": "code",
   "execution_count": null,
   "metadata": {},
   "outputs": [],
   "source": [
    "# span = list(np.linspace(0,1, 100))\n",
    "# scores = []\n",
    "# for i in span:\n",
    "#     predict_y =  np.where(pred >= i, 1,0)\n",
    "#     score = f1_score(val_data['label'], predict_y)\n",
    "#     #print(i,score)\n",
    "#     scores.append(score)\n",
    "# best_score = max(scores)\n",
    "# n = scores.index(best_score)/100\n",
    "# print(n)"
   ]
  },
  {
   "cell_type": "code",
   "execution_count": null,
   "metadata": {},
   "outputs": [],
   "source": [
    "############################## for submit  #####################################\n",
    "\n",
    "train = lgb.Dataset(data[predictor2],label=data['label'])\n",
    "param = {\n",
    "    #'num_leaves':100,\n",
    "    'objective':'binary',\n",
    "    'metric':'binary_logloss',\n",
    "    'metric_freq':20,\n",
    "    'learning_rate': 0.05,\n",
    "    'num_threads':6,\n",
    "    #'min_sum_hessian_in_leaf':10,\n",
    "    'boosting_type':'gbdt',\n",
    "    'subsample':0.9,\n",
    "    #'xgboost_dart_mode':True,\n",
    "    'colsample_bytree':0.8,\n",
    "    'n_estimators':2000,\n",
    "    'min_child_weight':2,\n",
    "    'subsample_freq':2,\n",
    "    'num_leaves':32,\n",
    "    'n_jobs':-1,\n",
    "}\n",
    "\n",
    "\n",
    "bst = lgb.train(param, train)\n",
    "from sklearn.externals import joblib\n",
    "joblib.dump(bst, 'model_link/lgb.pkl')\n",
    "\n",
    "# save model\n",
    "# load model\n",
    "#gbm_pickle = joblib.load('lgb.pkl')\n",
    "# break"
   ]
  },
  {
   "cell_type": "code",
   "execution_count": null,
   "metadata": {},
   "outputs": [],
   "source": [
    "predictor2"
   ]
  },
  {
   "cell_type": "code",
   "execution_count": null,
   "metadata": {},
   "outputs": [],
   "source": [
    "# val_data"
   ]
  },
  {
   "cell_type": "code",
   "execution_count": null,
   "metadata": {},
   "outputs": [],
   "source": [
    "list(best_features.sort_values(by=['importance'])['feature'])"
   ]
  },
  {
   "cell_type": "code",
   "execution_count": null,
   "metadata": {},
   "outputs": [],
   "source": [
    "data[['text_id','kb_id','train_mention','label','label_mean','label_count','kbid_rank_label_mean']].sort_values(by='kb_id')"
   ]
  },
  {
   "cell_type": "code",
   "execution_count": null,
   "metadata": {},
   "outputs": [],
   "source": [
    "max(data['m_id'])"
   ]
  },
  {
   "cell_type": "code",
   "execution_count": 20,
   "metadata": {},
   "outputs": [
    {
     "data": {
      "image/png": "[encoded data removed]",
      "text/plain": [
       "<Figure size 1008x1800 with 1 Axes>"
      ]
     },
     "metadata": {
      "needs_background": "light"
     },
     "output_type": "display_data"
    }
   ],
   "source": [
    "fold_importance_df = pd.DataFrame()\n",
    "fold_importance_df[\"feature\"] = predictor2\n",
    "fold_importance_df[\"importance\"] = bst.feature_importance()\n",
    "cols = (fold_importance_df[[\"feature\", \"importance\"]]\n",
    "        .groupby(\"feature\")\n",
    "        .mean()\n",
    "        .sort_values(by=\"importance\", ascending=False)[:100].index)\n",
    "\n",
    "best_features = fold_importance_df.loc[fold_importance_df.feature.isin(cols)]\n",
    "\n",
    "plt.figure(figsize=(14,25))\n",
    "sns.barplot(x=\"importance\",\n",
    "            y=\"feature\",\n",
    "            data=best_features.sort_values(by=\"importance\",\n",
    "                                           ascending=False))\n",
    "plt.title('LightGBM Features (avg over folds)')\n",
    "plt.tight_layout()\n",
    "plt.savefig('lgbm_importances.png')"
   ]
  },
  {
   "cell_type": "code",
   "execution_count": null,
   "metadata": {},
   "outputs": [],
   "source": [
    "fold_importance_df = pd.DataFrame()\n",
    "fold_importance_df[\"feature\"] = predictor2\n",
    "fold_importance_df[\"importance\"] = bst.feature_importance()\n",
    "cols = (fold_importance_df[[\"feature\", \"importance\"]]\n",
    "        .groupby(\"feature\")\n",
    "        .mean()\n",
    "        .sort_values(by=\"importance\", ascending=False)[:1000].index)\n",
    "\n",
    "best_features = fold_importance_df.loc[fold_importance_df.feature.isin(cols)]\n",
    "\n",
    "plt.figure(figsize=(14,25))\n",
    "sns.barplot(x=\"importance\",\n",
    "            y=\"feature\",\n",
    "            data=best_features.sort_values(by=\"importance\",\n",
    "                                           ascending=False))\n",
    "plt.title('LightGBM Features (avg over folds)')\n",
    "plt.tight_layout()\n",
    "plt.savefig('lgbm_importances.png')"
   ]
  },
  {
   "cell_type": "code",
   "execution_count": null,
   "metadata": {},
   "outputs": [],
   "source": [
    "fold_importance_df = pd.DataFrame()\n",
    "fold_importance_df[\"feature\"] = predictor2\n",
    "fold_importance_df[\"importance\"] = bst.feature_importance()\n",
    "cols = (fold_importance_df[[\"feature\", \"importance\"]]\n",
    "        .groupby(\"feature\")\n",
    "        .mean()\n",
    "        .sort_values(by=\"importance\", ascending=False)[:1000].index)\n",
    "\n",
    "best_features = fold_importance_df.loc[fold_importance_df.feature.isin(cols)]\n",
    "\n",
    "plt.figure(figsize=(14,25))\n",
    "sns.barplot(x=\"importance\",\n",
    "            y=\"feature\",\n",
    "            data=best_features.sort_values(by=\"importance\",\n",
    "                                           ascending=False))\n",
    "plt.title('LightGBM Features (avg over folds)')\n",
    "plt.tight_layout()\n",
    "plt.savefig('lgbm_importances.png')"
   ]
  },
  {
   "cell_type": "code",
   "execution_count": null,
   "metadata": {},
   "outputs": [],
   "source": []
  }
 ],
 "metadata": {
  "kernelspec": {
   "display_name": "Python 3",
   "language": "python",
   "name": "python3"
  },
  "language_info": {
   "codemirror_mode": {
    "name": "ipython",
    "version": 3
   },
   "file_extension": ".py",
   "mimetype": "text/x-python",
   "name": "python",
   "nbconvert_exporter": "python",
   "pygments_lexer": "ipython3",
   "version": "3.7.3"
  }
 },
 "nbformat": 4,
 "nbformat_minor": 2
}
