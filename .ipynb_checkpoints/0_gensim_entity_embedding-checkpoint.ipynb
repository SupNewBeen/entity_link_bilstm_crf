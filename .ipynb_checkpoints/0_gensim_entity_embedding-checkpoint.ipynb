{
 "cells": [
  {
   "cell_type": "code",
   "execution_count": 1,
   "metadata": {},
   "outputs": [
    {
     "data": {
      "text/plain": [
       "'\\ntodo\\n三种方法：\\n1 gensim 训练\\u3000embedding\\n2 openKE 训练\\u3000embedding\\n3 openKE\\u3000分词训练\\u3000embedding\\u3000\\n'"
      ]
     },
     "execution_count": 1,
     "metadata": {},
     "output_type": "execute_result"
    }
   ],
   "source": [
    "\"\"\"\n",
    "todo\n",
    "三种方法：\n",
    "1 gensim 训练　embedding\n",
    "2 openKE 训练　embedding\n",
    "3 openKE　分词训练　embedding　\n",
    "\"\"\""
   ]
  },
  {
   "cell_type": "code",
   "execution_count": 2,
   "metadata": {},
   "outputs": [],
   "source": [
    "# coding:u8\n",
    "import json\n",
    "import numpy as np\n",
    "from collections import defaultdict\n",
    "from tqdm import tqdm as tqdm\n",
    "from gensim.models import word2vec\n",
    "import jieba"
   ]
  },
  {
   "cell_type": "code",
   "execution_count": 3,
   "metadata": {},
   "outputs": [],
   "source": [
    "# 读取知识库\n",
    "kb_data = []\n",
    "kb = {}\n",
    "with open('data/raw_data/kb_data','r') as f:\n",
    "    for line in f:\n",
    "        item = eval(str(json.loads(line)).lower())\n",
    "        kb[item['subject_id']] = item\n",
    "        kb_data.append(item)\n"
   ]
  },
  {
   "cell_type": "code",
   "execution_count": 4,
   "metadata": {},
   "outputs": [],
   "source": [
    "# OpenKE 默认方法"
   ]
  },
  {
   "cell_type": "code",
   "execution_count": 5,
   "metadata": {},
   "outputs": [],
   "source": [
    "predicate = {}\n",
    "subject = {}\n",
    "type_object = {}"
   ]
  },
  {
   "cell_type": "code",
   "execution_count": 6,
   "metadata": {},
   "outputs": [],
   "source": [
    "# for item in tqdm(kb_data):\n",
    "#     if item['subject_id'] not in subject:\n",
    "#         subject[item['subject_id']] = len(subject)\n",
    "#     for t in item['data']:\n",
    "#         if t['predicate'] == '摘要':continue\n",
    "#         if t['predicate'] not in predicate:\n",
    "#             predicate[t['predicate']] = len(predicate)\n",
    "#         if t['object'] not in type_object:\n",
    "#             type_object[t['object']] = len(type_object)\n",
    "#     for t_type in item['type']:\n",
    "#         if t_type not in type_object:\n",
    "#             type_object[t_type] = len(type_object)\n",
    "# if 'type' not in predicate:\n",
    "#     predicate['type'] = len(predicate)"
   ]
  },
  {
   "cell_type": "code",
   "execution_count": 7,
   "metadata": {},
   "outputs": [],
   "source": [
    "# spo = []\n",
    "# for item in tqdm(kb_data):\n",
    "#     subject_id = subject[item['subject_id']]\n",
    "#     for t_type in item['type']:\n",
    "#         spo.append([subject_id,predicate['type'],type_object[t_type]])\n",
    "#     for p in item['data']:\n",
    "#         if p['predicate'] == '摘要':continue\n",
    "#         spo.append([subject_id,predicate[p['predicate']],type_object[p['object']]])"
   ]
  },
  {
   "cell_type": "code",
   "execution_count": 8,
   "metadata": {},
   "outputs": [],
   "source": [
    "# with open('entity_embedding/train2id.txt','w') as f:\n",
    "#     #0 1 0\n",
    "#     f.write(str(len(spo))+'\\n')\n",
    "#     for spo_line in spo:\n",
    "#         f.write(str(spo_line[0])+' '+str(spo_line[1])+' '+str(spo_line[2])+'\\n')"
   ]
  },
  {
   "cell_type": "code",
   "execution_count": 9,
   "metadata": {},
   "outputs": [],
   "source": [
    "# # 14951\n",
    "# # /m/027rn\t0\n",
    "# with open('entity_embedding/entity2id.txt','w') as f:\n",
    "#     f.write(str(len(type_object))+'\\n')\n",
    "#     for key in type_object:\n",
    "#         f.write(str(key)+' '+str(type_object[key])+'\\n')"
   ]
  },
  {
   "cell_type": "code",
   "execution_count": 10,
   "metadata": {},
   "outputs": [],
   "source": [
    "# with open('entity_embedding/relation2id.txt','w') as f:\n",
    "#     f.write(str(len(predicate))+'\\n')\n",
    "#     for key in predicate:\n",
    "#         f.write(str(key)+' '+str(predicate[key])+'\\n')"
   ]
  },
  {
   "cell_type": "code",
   "execution_count": 11,
   "metadata": {},
   "outputs": [],
   "source": [
    "# gensim method"
   ]
  },
  {
   "cell_type": "code",
   "execution_count": 12,
   "metadata": {},
   "outputs": [
    {
     "name": "stderr",
     "output_type": "stream",
     "text": [
      "  0%|          | 0/399252 [00:00<?, ?it/s]Building prefix dict from the default dictionary ...\n",
      "Loading model from cache /tmp/jieba.cache\n",
      "Loading model cost 0.575 seconds.\n",
      "Prefix dict has been built succesfully.\n",
      "100%|██████████| 399252/399252 [00:03<00:00, 122263.23it/s]\n"
     ]
    }
   ],
   "source": [
    "# jieba加字典\n",
    "for item in tqdm(kb_data):\n",
    "    jieba.add_word(item['subject'],freq=10000)\n",
    "    for name in item['alias']:\n",
    "        jieba.add_word(name, freq=10000)"
   ]
  },
  {
   "cell_type": "code",
   "execution_count": 13,
   "metadata": {},
   "outputs": [
    {
     "name": "stderr",
     "output_type": "stream",
     "text": [
      "100%|██████████| 399252/399252 [03:53<00:00, 1710.18it/s]\n"
     ]
    }
   ],
   "source": [
    "\n",
    "\n",
    "sentence = []\n",
    "for item in tqdm(kb_data):\n",
    "    sentence.append([item['subject_id'],item['type'][0]])\n",
    "    for t in item['data']:\n",
    "        temp = []\n",
    "        if t['predicate'] == '摘要':\n",
    "            abstract = jieba.lcut(t['object'])\n",
    "            for word in abstract:\n",
    "                if word !=item['subject']:\n",
    "                    temp.append(word)\n",
    "                else:\n",
    "                    temp.append(item['subject_id'])\n",
    "            sentence.append(temp)\n",
    "        else:\n",
    "            temp.append(item['subject_id'])\n",
    "            temp.append(t['predicate'])\n",
    "            for w in jieba.lcut(t['object']):\n",
    "                temp.append(w)\n",
    "            sentence.append(temp)"
   ]
  },
  {
   "cell_type": "code",
   "execution_count": 14,
   "metadata": {},
   "outputs": [],
   "source": [
    "train_data = []\n",
    "with open('data/raw_data/train.json','r') as f:\n",
    "    for line in f:\n",
    "        sentence.append(jieba.lcut(eval(str(json.loads(line)).lower())['text']))\n",
    "with open('data/raw_data/develop.json','r') as f:\n",
    "    for line in f:\n",
    "        sentence.append(jieba.lcut(eval(str(json.loads(line)).lower())['text']))\n",
    "with open('data/raw_data/eval722.json','r') as f:\n",
    "    for line in f:\n",
    "        sentence.append(jieba.lcut(eval(str(json.loads(line)).lower())['text']))"
   ]
  },
  {
   "cell_type": "code",
   "execution_count": 15,
   "metadata": {},
   "outputs": [
    {
     "name": "stdout",
     "output_type": "stream",
     "text": [
      "[-0.20761679  0.53718174  1.45141    -0.5151315   1.7814724   0.2270715\n",
      " -0.7151291  -0.994257    0.5597219  -2.1849551   0.8316236  -0.20439675\n",
      " -0.38021526 -0.6431497   0.27598852 -1.0831734  -0.6310404  -1.2744648\n",
      " -0.31811717  0.92404705  0.53045064 -1.7718449   1.1442256  -0.13060579\n",
      " -1.0765924  -0.09133261 -1.5899589   0.06340884  0.59835625 -1.803584\n",
      " -3.1743948   2.1532505   1.9909008   0.03750582 -0.54817903 -0.7718513\n",
      "  0.10421506 -0.6075097   0.5132391   0.05837578  0.29839802  0.6074623\n",
      "  1.1312692   0.384182   -0.7624435  -0.8270353   0.58883107 -0.8802555\n",
      " -1.1838204   1.3438617   0.6660204  -0.55428976  0.32565337  0.09914057\n",
      " -0.36124063  0.5330093  -0.29010788  0.5408511   0.35807163 -0.47213158\n",
      "  0.80878323  2.128112    0.8308887  -0.56880057  0.0759609   1.0731701\n",
      " -0.21431936  1.5129195  -0.48011464 -1.077027    0.8324273   0.7115086\n",
      " -2.2688897   0.25788125  0.1462385  -2.046214   -1.6721193  -2.4112086\n",
      " -0.69673157 -1.1669629  -0.25723395  2.5382397   0.42350256  1.3663236\n",
      "  0.249073   -2.0514233   0.625615    3.0679774   0.06632584 -0.89940166\n",
      " -0.99782753  0.10992682 -0.09055284 -0.8754779   0.51458186  0.46922675\n",
      " -3.6826751   1.3459882   2.788606   -0.5501481 ]\n",
      "[('crazy', 0.8990679979324341), ('beautiful', 0.8927437663078308)]\n"
     ]
    },
    {
     "name": "stderr",
     "output_type": "stream",
     "text": [
      "/home/zhukaihua/anaconda3/lib/python3.7/site-packages/smart_open/smart_open_lib.py:398: UserWarning: This function is deprecated, use smart_open.open instead. See the migration notes for details: https://github.com/RaRe-Technologies/smart_open/blob/master/README.rst#migrating-to-the-new-open-function\n",
      "  'See the migration notes for details: %s' % _MIGRATION_NOTES_URL\n"
     ]
    }
   ],
   "source": [
    "model = word2vec.Word2Vec(sentence, size=100, window=5, min_count=1, workers=10)\n",
    "# 打印单词'good'的词向量\n",
    "print(model.wv.word_vec('good'))\n",
    "# 打印和'good'相似的前2个单词\n",
    "print(model.wv.most_similar('good', topn=2))\n",
    "# 保存模型到文件\n",
    "model.save('embedding/w2v.model')"
   ]
  },
  {
   "cell_type": "code",
   "execution_count": 16,
   "metadata": {},
   "outputs": [
    {
     "name": "stderr",
     "output_type": "stream",
     "text": [
      "/home/zhukaihua/anaconda3/lib/python3.7/site-packages/smart_open/smart_open_lib.py:398: UserWarning: This function is deprecated, use smart_open.open instead. See the migration notes for details: https://github.com/RaRe-Technologies/smart_open/blob/master/README.rst#migrating-to-the-new-open-function\n",
      "  'See the migration notes for details: %s' % _MIGRATION_NOTES_URL\n"
     ]
    },
    {
     "name": "stdout",
     "output_type": "stream",
     "text": [
      "[-1.05207825e+00 -3.35161120e-01 -1.02631736e+00 -5.26478775e-02\n",
      "  1.12763119e+00 -1.14178121e+00 -1.45514977e+00 -1.99757552e+00\n",
      "  1.64486602e-01  1.76536000e+00 -6.10622764e-02  2.00522208e+00\n",
      " -1.71190703e+00 -1.04757977e+00  1.39703381e+00  1.90876245e+00\n",
      "  4.30581897e-01 -8.88107240e-01  1.57538688e+00  5.97194172e-02\n",
      " -7.08271146e-01 -3.77678901e-01 -5.71549952e-01 -3.99087697e-01\n",
      " -5.18872380e-01  1.11026216e+00 -1.81342438e-02  1.47064216e-03\n",
      " -1.93311870e-01 -2.61409593e+00  1.16703704e-01 -2.69741178e-01\n",
      "  1.51647627e+00 -1.35039604e+00  8.97967875e-01  4.12483186e-01\n",
      " -1.11456752e+00  1.46996044e-03 -4.48323250e-01  2.98159480e-01\n",
      "  1.37124449e-01  1.16322374e+00 -1.01818752e+00  2.52390024e-03\n",
      " -3.21926385e-01  7.09044188e-03  3.01090982e-02 -1.46693289e+00\n",
      "  7.77334690e-01  2.43393734e-01 -1.73732899e-02  1.94141877e+00\n",
      "  4.96552974e-01 -2.22136259e+00 -2.67824054e-01  1.79909539e+00\n",
      "  1.35301733e+00  2.37769023e-01 -1.25609362e+00  5.34196317e-01\n",
      " -1.46889716e-01  2.25465345e+00  3.75676125e-01 -5.40459931e-01\n",
      "  7.75160551e-01  1.48635530e+00  1.09253436e-01  5.94213188e-01\n",
      "  4.87032801e-01 -1.04424977e+00  5.46009123e-01  1.37192786e+00\n",
      "  4.29118067e-01 -4.79181468e-01  2.95428326e-03  1.25830173e+00\n",
      " -2.96509117e-01 -1.28715134e+00 -6.17553949e-01  1.30846643e+00\n",
      " -1.23425710e+00  8.98481607e-02  6.60443902e-01  1.05390370e+00\n",
      "  1.42607856e+00 -8.54400337e-01 -4.97805700e-03 -4.15450952e-04\n",
      "  9.19436336e-01 -5.87430477e-01 -1.16668928e+00  6.04003072e-01\n",
      " -1.51452518e+00 -3.15573066e-01  1.21549857e+00  1.47713268e+00\n",
      " -1.24345076e+00  4.92513388e-01  1.66460478e+00 -5.46143711e-01]\n"
     ]
    }
   ],
   "source": [
    "from gensim.models import Word2Vec\n",
    "\n",
    "entity_embedding = Word2Vec.load('embedding/w2v.model')\n",
    "print(entity_embedding.wv.word_vec('搜索'))"
   ]
  }
 ],
 "metadata": {
  "kernelspec": {
   "display_name": "Python 3",
   "language": "python",
   "name": "python3"
  },
  "language_info": {
   "codemirror_mode": {
    "name": "ipython",
    "version": 3
   },
   "file_extension": ".py",
   "mimetype": "text/x-python",
   "name": "python",
   "nbconvert_exporter": "python",
   "pygments_lexer": "ipython3",
   "version": "3.7.3"
  }
 },
 "nbformat": 4,
 "nbformat_minor": 2
}
