{
 "cells": [
  {
   "cell_type": "code",
   "execution_count": 2,
   "metadata": {},
   "outputs": [],
   "source": [
    "import ahocorasick\n",
    "A = ahocorasick.Automaton()"
   ]
  },
  {
   "cell_type": "code",
   "execution_count": 8,
   "metadata": {},
   "outputs": [
    {
     "name": "stdout",
     "output_type": "stream",
     "text": [
      "0 he\n",
      "1 her\n",
      "2 hers\n",
      "3 she\n"
     ]
    }
   ],
   "source": [
    "for idx, key in enumerate('he her hers she'.split()):\n",
    "    print(idx, key)\n",
    "    A.add_word(key, (idx, key))"
   ]
  },
  {
   "cell_type": "code",
   "execution_count": 4,
   "metadata": {},
   "outputs": [],
   "source": [
    "A.make_automaton()"
   ]
  },
  {
   "cell_type": "code",
   "execution_count": 6,
   "metadata": {},
   "outputs": [],
   "source": [
    "haystack = 'where is my bag, are you killing me?'"
   ]
  },
  {
   "cell_type": "code",
   "execution_count": 7,
   "metadata": {},
   "outputs": [
    {
     "name": "stdout",
     "output_type": "stream",
     "text": [
      "(1, 2, (0, 'he'))\n",
      "(1, 3, (1, 'her'))\n"
     ]
    }
   ],
   "source": [
    "for end_index, (insert_order, original_value) in A.iter(haystack):\n",
    "    start_index = end_index - len(original_value) + 1\n",
    "    print((start_index, end_index, (insert_order, original_value)))\n",
    "    assert haystack[start_index:start_index + len(original_value)] == original_value"
   ]
  },
  {
   "cell_type": "code",
   "execution_count": null,
   "metadata": {},
   "outputs": [],
   "source": []
  }
 ],
 "metadata": {
  "kernelspec": {
   "display_name": "Python 3",
   "language": "python",
   "name": "python3"
  },
  "language_info": {
   "codemirror_mode": {
    "name": "ipython",
    "version": 3
   },
   "file_extension": ".py",
   "mimetype": "text/x-python",
   "name": "python",
   "nbconvert_exporter": "python",
   "pygments_lexer": "ipython3",
   "version": "3.7.3"
  }
 },
 "nbformat": 4,
 "nbformat_minor": 2
}
