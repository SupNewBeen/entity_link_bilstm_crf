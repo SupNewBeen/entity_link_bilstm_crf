{
 "cells": [
  {
   "cell_type": "code",
   "execution_count": 1,
   "metadata": {},
   "outputs": [],
   "source": [
    "from sklearn.metrics.pairwise import cosine_similarity\n",
    "import pandas as pd\n",
    "# 数值特征\n",
    "import pandas as pd\n",
    "import numpy as np\n",
    "import json\n",
    "from tqdm import tqdm as tqdm\n",
    "from sklearn.model_selection import KFold\n",
    "from gensim.models import word2vec\n",
    "from gensim.models import Word2Vec"
   ]
  },
  {
   "cell_type": "code",
   "execution_count": 2,
   "metadata": {},
   "outputs": [
    {
     "name": "stdout",
     "output_type": "stream",
     "text": [
      "(1566680, 39) (764217, 38)\n"
     ]
    }
   ],
   "source": [
    "data = pd.read_pickle('data/step1.pkl')\n",
    "test_data = pd.read_pickle('data/step1_test.pkl')\n",
    "print(data.shape,test_data.shape)"
   ]
  },
  {
   "cell_type": "code",
   "execution_count": 3,
   "metadata": {},
   "outputs": [
    {
     "name": "stdout",
     "output_type": "stream",
     "text": [
      "(1566680, 3) (1566680, 3)\n"
     ]
    }
   ],
   "source": [
    "bert_dis = pd.read_pickle('data/bert_dis.pkl')\n",
    "bert_dis_test = pd.read_pickle('data/bert_dis.pkl')\n",
    "print(bert_dis.shape,bert_dis_test.shape)"
   ]
  },
  {
   "cell_type": "code",
   "execution_count": 6,
   "metadata": {},
   "outputs": [
    {
     "data": {
      "text/html": [
       "<div>\n",
       "<style scoped>\n",
       "    .dataframe tbody tr th:only-of-type {\n",
       "        vertical-align: middle;\n",
       "    }\n",
       "\n",
       "    .dataframe tbody tr th {\n",
       "        vertical-align: top;\n",
       "    }\n",
       "\n",
       "    .dataframe thead th {\n",
       "        text-align: right;\n",
       "    }\n",
       "</style>\n",
       "<table border=\"1\" class=\"dataframe\">\n",
       "  <thead>\n",
       "    <tr style=\"text-align: right;\">\n",
       "      <th></th>\n",
       "      <th>bert_cos_distance</th>\n",
       "      <th>bert_point_distance</th>\n",
       "      <th>bert_mse_distance</th>\n",
       "    </tr>\n",
       "  </thead>\n",
       "  <tbody>\n",
       "    <tr>\n",
       "      <th>0</th>\n",
       "      <td>0.553898</td>\n",
       "      <td>468.470293</td>\n",
       "      <td>0.757678</td>\n",
       "    </tr>\n",
       "    <tr>\n",
       "      <th>1</th>\n",
       "      <td>0.539827</td>\n",
       "      <td>480.524415</td>\n",
       "      <td>0.734460</td>\n",
       "    </tr>\n",
       "    <tr>\n",
       "      <th>2</th>\n",
       "      <td>0.860696</td>\n",
       "      <td>150.400578</td>\n",
       "      <td>1.215053</td>\n",
       "    </tr>\n",
       "    <tr>\n",
       "      <th>3</th>\n",
       "      <td>0.571109</td>\n",
       "      <td>474.667747</td>\n",
       "      <td>0.826867</td>\n",
       "    </tr>\n",
       "    <tr>\n",
       "      <th>4</th>\n",
       "      <td>0.598334</td>\n",
       "      <td>442.032795</td>\n",
       "      <td>0.861838</td>\n",
       "    </tr>\n",
       "  </tbody>\n",
       "</table>\n",
       "</div>"
      ],
      "text/plain": [
       "   bert_cos_distance  bert_point_distance  bert_mse_distance\n",
       "0           0.553898           468.470293           0.757678\n",
       "1           0.539827           480.524415           0.734460\n",
       "2           0.860696           150.400578           1.215053\n",
       "3           0.571109           474.667747           0.826867\n",
       "4           0.598334           442.032795           0.861838"
      ]
     },
     "execution_count": 6,
     "metadata": {},
     "output_type": "execute_result"
    }
   ],
   "source": [
    "bert_dis.head()"
   ]
  },
  {
   "cell_type": "code",
   "execution_count": 7,
   "metadata": {},
   "outputs": [],
   "source": [
    "data['bert_cos'] = bert_dis['bert_cos_distance']\n",
    "data['bert_point'] = bert_dis['bert_point_distance']\n",
    "data['bert_mse'] = bert_dis['bert_mse_distance']"
   ]
  },
  {
   "cell_type": "code",
   "execution_count": 9,
   "metadata": {},
   "outputs": [],
   "source": [
    "test_data['bert_cos'] = bert_dis_test['bert_cos_distance']\n",
    "test_data['bert_point'] = bert_dis_test['bert_point_distance']\n",
    "test_data['bert_mse'] = bert_dis_test['bert_mse_distance']"
   ]
  },
  {
   "cell_type": "code",
   "execution_count": 10,
   "metadata": {},
   "outputs": [
    {
     "name": "stderr",
     "output_type": "stream",
     "text": [
      "/home/zhukaihua/anaconda3/lib/python3.7/site-packages/pandas/core/frame.py:6692: FutureWarning: Sorting because non-concatenation axis is not aligned. A future version\n",
      "of pandas will change to not sort by default.\n",
      "\n",
      "To accept the future behavior, pass 'sort=False'.\n",
      "\n",
      "To retain the current behavior and silence the warning, pass 'sort=True'.\n",
      "\n",
      "  sort=sort)\n"
     ]
    }
   ],
   "source": [
    "test_data['label'] = -1\n",
    "data_all = data.append(test_data).reset_index(drop=True)"
   ]
  },
  {
   "cell_type": "code",
   "execution_count": 11,
   "metadata": {},
   "outputs": [],
   "source": [
    "numerical_clolumns = ['bert_cos','bert_point','bert_mse']"
   ]
  },
  {
   "cell_type": "code",
   "execution_count": 12,
   "metadata": {},
   "outputs": [],
   "source": [
    "# rank 特征\n",
    "to_rank = numerical_clolumns\n",
    "for f in to_rank:\n",
    "    data_group = data_all.groupby('kb_id')[f].rank(ascending=False)\n",
    "    data_all['kbid_rank_'+f] = data_group"
   ]
  },
  {
   "cell_type": "code",
   "execution_count": 13,
   "metadata": {},
   "outputs": [
    {
     "name": "stderr",
     "output_type": "stream",
     "text": [
      "  0%|          | 0/3 [00:00<?, ?it/s]/home/zhukaihua/anaconda3/lib/python3.7/site-packages/ipykernel_launcher.py:5: FutureWarning: using a dict on a Series for aggregation\n",
      "is deprecated and will be removed in a future version\n",
      "  \"\"\"\n",
      "100%|██████████| 3/3 [00:13<00:00,  4.22s/it]\n"
     ]
    }
   ],
   "source": [
    "# mean and var\n",
    "to_rank = numerical_clolumns\n",
    "for f in tqdm(to_rank):\n",
    "    data_group = data_all.groupby('kb_id')[f].agg({'kb_'+f+'_var':'var','kb_'+f+'_mean':'mean','kb_'+f+'_max':'max',\n",
    "                                                   'kb_'+f+'_min':'min'})\n",
    "    data_all = data_all.merge(data_group,on='kb_id',how='left')"
   ]
  },
  {
   "cell_type": "code",
   "execution_count": 14,
   "metadata": {},
   "outputs": [
    {
     "name": "stderr",
     "output_type": "stream",
     "text": [
      "  0%|          | 0/3 [00:00<?, ?it/s]/home/zhukaihua/anaconda3/lib/python3.7/site-packages/ipykernel_launcher.py:6: FutureWarning: using a dict on a Series for aggregation\n",
      "is deprecated and will be removed in a future version\n",
      "  \n",
      "100%|██████████| 3/3 [00:17<00:00,  5.81s/it]\n"
     ]
    }
   ],
   "source": [
    "# mean and var\n",
    "to_rank = numerical_clolumns\n",
    "for f in tqdm(to_rank):\n",
    "    data_group = data_all.groupby(['kb_id','train_mention'])[f].agg({'kb_m_'+f+'_var':'var','kb_m_'+f+'_mean':'mean',\n",
    "                                                                 'kb_m_'+f+'_max':'max',\n",
    "                                                   'kb_m_'+f+'_min':'min'})\n",
    "    data_all = data_all.merge(data_group,on=['kb_id','train_mention'],how='left')"
   ]
  },
  {
   "cell_type": "code",
   "execution_count": 15,
   "metadata": {},
   "outputs": [],
   "source": [
    "# rank 特征\n",
    "to_rank = numerical_clolumns\n",
    "for f in to_rank:\n",
    "    data_group = data_all.groupby(['kb_id','train_mention'])[f].rank(ascending=False)\n",
    "    data_all['kb_m_rank_'+f] = data_group\n",
    "   "
   ]
  },
  {
   "cell_type": "code",
   "execution_count": 16,
   "metadata": {},
   "outputs": [],
   "source": [
    "for f in to_rank:\n",
    "    data_group = data_all.groupby('m_id')[f].rank(ascending=False)\n",
    "    data_all['m_rank_'+f] = data_group"
   ]
  },
  {
   "cell_type": "code",
   "execution_count": 17,
   "metadata": {},
   "outputs": [
    {
     "name": "stderr",
     "output_type": "stream",
     "text": [
      "  0%|          | 0/3 [00:00<?, ?it/s]/home/zhukaihua/anaconda3/lib/python3.7/site-packages/ipykernel_launcher.py:3: FutureWarning: using a dict on a Series for aggregation\n",
      "is deprecated and will be removed in a future version\n",
      "  This is separate from the ipykernel package so we can avoid doing imports until\n",
      "100%|██████████| 3/3 [00:14<00:00,  4.82s/it]\n"
     ]
    }
   ],
   "source": [
    "for f in tqdm(to_rank):\n",
    "    data_group = data_all.groupby('m_id')[f].agg({'mid_'+f+'_var':'var','mid_'+f+'_mean':'mean',\n",
    "                                                  'mid_'+f+'_max':'max','mid_'+f+'_min':'min'})\n",
    "    data_all = data_all.merge(data_group,on='m_id',how='left')"
   ]
  },
  {
   "cell_type": "code",
   "execution_count": 18,
   "metadata": {},
   "outputs": [
    {
     "name": "stdout",
     "output_type": "stream",
     "text": [
      "bert_cos\n",
      "bert_mse\n",
      "bert_point\n",
      "numerical_0\n",
      "numerical_1\n",
      "numerical_10\n",
      "numerical_11\n",
      "numerical_12\n",
      "numerical_13\n",
      "numerical_14\n",
      "numerical_2\n",
      "numerical_3\n",
      "numerical_4\n",
      "numerical_5\n",
      "numerical_6\n",
      "numerical_7\n",
      "numerical_8\n",
      "numerical_9\n",
      "type_label_count\n",
      "type_label_mean\n",
      "kbid_rank_bert_cos\n",
      "kbid_rank_bert_point\n",
      "kbid_rank_bert_mse\n",
      "kb_bert_cos_var\n",
      "kb_bert_cos_mean\n",
      "kb_bert_cos_max\n",
      "kb_bert_cos_min\n",
      "kb_bert_point_var\n",
      "kb_bert_point_mean\n",
      "kb_bert_point_max\n",
      "kb_bert_point_min\n",
      "kb_bert_mse_var\n",
      "kb_bert_mse_mean\n",
      "kb_bert_mse_max\n",
      "kb_bert_mse_min\n",
      "kb_m_bert_cos_var\n",
      "kb_m_bert_cos_mean\n",
      "kb_m_bert_cos_max\n",
      "kb_m_bert_cos_min\n",
      "kb_m_bert_point_var\n",
      "kb_m_bert_point_mean\n",
      "kb_m_bert_point_max\n",
      "kb_m_bert_point_min\n",
      "kb_m_bert_mse_var\n",
      "kb_m_bert_mse_mean\n",
      "kb_m_bert_mse_max\n",
      "kb_m_bert_mse_min\n",
      "kb_m_rank_bert_cos\n",
      "kb_m_rank_bert_point\n",
      "kb_m_rank_bert_mse\n",
      "m_rank_bert_cos\n",
      "m_rank_bert_point\n",
      "m_rank_bert_mse\n",
      "mid_bert_cos_var\n",
      "mid_bert_cos_mean\n",
      "mid_bert_cos_max\n",
      "mid_bert_cos_min\n",
      "mid_bert_point_var\n",
      "mid_bert_point_mean\n",
      "mid_bert_point_max\n",
      "mid_bert_point_min\n",
      "mid_bert_mse_var\n",
      "mid_bert_mse_mean\n",
      "mid_bert_mse_max\n",
      "mid_bert_mse_min\n"
     ]
    }
   ],
   "source": [
    "for item in data_all.columns:\n",
    "    if data_all.dtypes[item]=='float64':\n",
    "        print(item)\n",
    "        data_all[item] = data_all[item].astype('float32')\n",
    "    if data_all.dtypes[item]=='int64':\n",
    "        data_all[item] = data_all[item].astype('int32')\n",
    "    if data_all.dtypes[item]=='bool':\n",
    "        data_all[item] = data_all[item].astype('int8')"
   ]
  },
  {
   "cell_type": "code",
   "execution_count": 19,
   "metadata": {},
   "outputs": [],
   "source": [
    "data = data_all.iloc[0:data.shape[0],:]\n",
    "test_data = data_all.iloc[data.shape[0]:,:]\n",
    "data.reset_index(drop=True,inplace=True)\n",
    "test_data.reset_index(drop=True,inplace=True)"
   ]
  },
  {
   "cell_type": "code",
   "execution_count": 20,
   "metadata": {},
   "outputs": [],
   "source": [
    "data.to_pickle('data/step7.pkl')\n",
    "test_data.to_pickle('data/step7_test.pkl')"
   ]
  },
  {
   "cell_type": "code",
   "execution_count": 21,
   "metadata": {},
   "outputs": [
    {
     "data": {
      "text/plain": [
       "(764217, 87)"
      ]
     },
     "execution_count": 21,
     "metadata": {},
     "output_type": "execute_result"
    }
   ],
   "source": [
    "test_data.shape"
   ]
  },
  {
   "cell_type": "code",
   "execution_count": null,
   "metadata": {},
   "outputs": [],
   "source": []
  }
 ],
 "metadata": {
  "kernelspec": {
   "display_name": "Python 3",
   "language": "python",
   "name": "python3"
  },
  "language_info": {
   "codemirror_mode": {
    "name": "ipython",
    "version": 3
   },
   "file_extension": ".py",
   "mimetype": "text/x-python",
   "name": "python",
   "nbconvert_exporter": "python",
   "pygments_lexer": "ipython3",
   "version": "3.7.3"
  }
 },
 "nbformat": 4,
 "nbformat_minor": 2
}
