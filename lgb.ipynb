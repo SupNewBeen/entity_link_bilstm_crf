{
 "cells": [
  {
   "cell_type": "code",
   "execution_count": 1,
   "metadata": {},
   "outputs": [
    {
     "name": "stderr",
     "output_type": "stream",
     "text": [
      "/home/zhukaihua/anaconda3/lib/python3.7/site-packages/sklearn/externals/joblib/__init__.py:15: DeprecationWarning: sklearn.externals.joblib is deprecated in 0.21 and will be removed in 0.23. Please import this functionality directly from joblib, which can be installed with: pip install joblib. If this warning is raised when loading pickled models, you may need to re-serialize those models with scikit-learn 0.21+.\n",
      "  warnings.warn(msg, category=DeprecationWarning)\n"
     ]
    }
   ],
   "source": [
    "# coding:u8\n",
    "import pandas as pd\n",
    "import numpy as np\n",
    "import copy,gc\n",
    "import lightgbm as lgb\n",
    "from sklearn.model_selection import KFold, train_test_split\n",
    "from sklearn.metrics import f1_score,classification_report\n",
    "import matplotlib.pyplot as plt\n",
    "from tqdm import tqdm as tqdm\n",
    "import seaborn as sns\n",
    "from sklearn.externals import joblib\n",
    "import gc"
   ]
  },
  {
   "cell_type": "code",
   "execution_count": 2,
   "metadata": {},
   "outputs": [],
   "source": [
    "data = pd.read_pickle('data/step1_5.pkl') #nume"
   ]
  },
  {
   "cell_type": "code",
   "execution_count": 3,
   "metadata": {},
   "outputs": [],
   "source": [
    "data2 = pd.read_pickle('data/step2.pkl') #ctr\n",
    "data3 = pd.read_pickle('data/step5.pkl') # deep cosine"
   ]
  },
  {
   "cell_type": "code",
   "execution_count": 4,
   "metadata": {},
   "outputs": [],
   "source": [
    "data4 = pd.read_pickle('data/step3.pkl') # tfidf \n",
    "data5 = pd.read_pickle('data/step7.pkl') # bert distance"
   ]
  },
  {
   "cell_type": "code",
   "execution_count": 5,
   "metadata": {},
   "outputs": [],
   "source": [
    "data6 = pd.read_pickle('data/step4.pkl') #deepmatch\n",
    "data7 = pd.read_pickle('data/step6_feature.pkl') # deeptype"
   ]
  },
  {
   "cell_type": "code",
   "execution_count": 6,
   "metadata": {},
   "outputs": [],
   "source": [
    "data8 = pd.read_pickle('data/step6_v2_feature.pkl') # deeptype"
   ]
  },
  {
   "cell_type": "code",
   "execution_count": 7,
   "metadata": {},
   "outputs": [],
   "source": [
    "exclude = ['text_id',\n",
    " 'kb_id',\n",
    " 'train_mention',\n",
    " 'label',\n",
    " 'm_id','type','type_vectors']\n",
    "for item in data8.columns:\n",
    "    if item not in exclude:\n",
    "        data8.rename(columns={item:'v2_'+item},inplace=True)"
   ]
  },
  {
   "cell_type": "code",
   "execution_count": 8,
   "metadata": {},
   "outputs": [],
   "source": [
    "data8['type_loss_all'] = (data8['v2_type_loss']+data7['type_loss'])/2"
   ]
  },
  {
   "cell_type": "code",
   "execution_count": 9,
   "metadata": {},
   "outputs": [
    {
     "data": {
      "text/html": [
       "<div>\n",
       "<style scoped>\n",
       "    .dataframe tbody tr th:only-of-type {\n",
       "        vertical-align: middle;\n",
       "    }\n",
       "\n",
       "    .dataframe tbody tr th {\n",
       "        vertical-align: top;\n",
       "    }\n",
       "\n",
       "    .dataframe thead th {\n",
       "        text-align: right;\n",
       "    }\n",
       "</style>\n",
       "<table border=\"1\" class=\"dataframe\">\n",
       "  <thead>\n",
       "    <tr style=\"text-align: right;\">\n",
       "      <th></th>\n",
       "      <th>text_id</th>\n",
       "      <th>train_mention</th>\n",
       "      <th>kb_id</th>\n",
       "      <th>label</th>\n",
       "      <th>num_candidates</th>\n",
       "    </tr>\n",
       "  </thead>\n",
       "  <tbody>\n",
       "    <tr>\n",
       "      <th>0</th>\n",
       "      <td>1</td>\n",
       "      <td>南京南站</td>\n",
       "      <td>130287</td>\n",
       "      <td>0</td>\n",
       "      <td>2</td>\n",
       "    </tr>\n",
       "    <tr>\n",
       "      <th>1</th>\n",
       "      <td>1</td>\n",
       "      <td>南京南站</td>\n",
       "      <td>311223</td>\n",
       "      <td>1</td>\n",
       "      <td>2</td>\n",
       "    </tr>\n",
       "    <tr>\n",
       "      <th>2</th>\n",
       "      <td>1</td>\n",
       "      <td>高铁</td>\n",
       "      <td>341096</td>\n",
       "      <td>1</td>\n",
       "      <td>1</td>\n",
       "    </tr>\n",
       "    <tr>\n",
       "      <th>3</th>\n",
       "      <td>1</td>\n",
       "      <td>南京南站</td>\n",
       "      <td>130287</td>\n",
       "      <td>0</td>\n",
       "      <td>2</td>\n",
       "    </tr>\n",
       "    <tr>\n",
       "      <th>4</th>\n",
       "      <td>1</td>\n",
       "      <td>南京南站</td>\n",
       "      <td>311223</td>\n",
       "      <td>1</td>\n",
       "      <td>2</td>\n",
       "    </tr>\n",
       "  </tbody>\n",
       "</table>\n",
       "</div>"
      ],
      "text/plain": [
       "  text_id train_mention   kb_id  label  num_candidates\n",
       "0       1          南京南站  130287      0               2\n",
       "1       1          南京南站  311223      1               2\n",
       "2       1            高铁  341096      1               1\n",
       "3       1          南京南站  130287      0               2\n",
       "4       1          南京南站  311223      1               2"
      ]
     },
     "execution_count": 9,
     "metadata": {},
     "output_type": "execute_result"
    }
   ],
   "source": [
    "data[['text_id','train_mention','kb_id','label','num_candidates']].head(5)"
   ]
  },
  {
   "cell_type": "code",
   "execution_count": 10,
   "metadata": {},
   "outputs": [],
   "source": [
    "for df in [data2,data3,data4,data5,data6,data7,data8]:\n",
    "    \n",
    "    for c in df.columns:\n",
    "        if c not in data.columns:\n",
    "            data[c] = df[c]\n",
    "    del df\n",
    "    gc.collect()\n",
    "# for c in data4.columns:\n",
    "#     if c not in data.columns:\n",
    "#         data[c] = data4[c]"
   ]
  },
  {
   "cell_type": "code",
   "execution_count": 11,
   "metadata": {},
   "outputs": [],
   "source": [
    "# # 距离相对特征\n",
    "# data_rel = []\n",
    "# kfold = KFold(n_splits=5,shuffle=False,random_state=2019)\n",
    "# for train_index,test_index in tqdm(kfold.split(data)):\n",
    "#     print(test_index)\n",
    "#     stat_train_data,stat_test_data = data.loc[train_index,:],data.loc[test_index,:]\n",
    "#     dist_columns = ['bert_cos','bert_mse','entity_common', 'numerical_2','numerical_3', \n",
    "#                     'numerical_4', 'numerical_5', 'numerical_6', 'numerical_7', 'numerical_8',\n",
    "#                     'numerical_9', 'numerical_10', 'numerical_11', 'numerical_12', 'numerical_13', 'type_loss']\n",
    "#     for f in dist_columns:\n",
    "#         pos = stat_train_data[stat_train_data.label==1]\n",
    "#         train_group = pos.groupby(['kb_id','train_mention'],as_index=False)[f].agg({'dismean_'+f:'mean',\n",
    "#                                                                                     'discount'+f:'count'})\n",
    "#         stat_test_data = stat_test_data.merge(train_group,on=['kb_id','train_mention'],how='left')\n",
    "    \n",
    "#     data_rel.append(stat_test_data)\n",
    "# data_rel = pd.concat(data_rel,axis=0)\n"
   ]
  },
  {
   "cell_type": "code",
   "execution_count": 12,
   "metadata": {},
   "outputs": [],
   "source": [
    "# for f in dist_columns:\n",
    "#     data_rel['rel_'+f] = data_rel['dismean_'+f]-data_rel[f]"
   ]
  },
  {
   "cell_type": "code",
   "execution_count": 9,
   "metadata": {},
   "outputs": [],
   "source": [
    "# del data\n",
    "# gc.collect()\n",
    "# data = data_rel.reset_index(drop=True)"
   ]
  },
  {
   "cell_type": "code",
   "execution_count": 17,
   "metadata": {},
   "outputs": [],
   "source": [
    "# data.to_pickle('data/data_all.pkl')"
   ]
  },
  {
   "cell_type": "code",
   "execution_count": 2,
   "metadata": {},
   "outputs": [],
   "source": [
    "# data = pd.read_pickle('data/data_all.pkl')"
   ]
  },
  {
   "cell_type": "code",
   "execution_count": 11,
   "metadata": {},
   "outputs": [],
   "source": [
    "predictor=data.columns"
   ]
  },
  {
   "cell_type": "code",
   "execution_count": 12,
   "metadata": {},
   "outputs": [],
   "source": [
    "exclude = ['text_id',\n",
    " 'kb_id',\n",
    " 'train_mention',\n",
    " 'label',\n",
    " 'm_id','type','type_vectors']\n",
    "# exclude = []\n",
    "temp = []\n",
    "for x in predictor:\n",
    "    if x not in exclude :temp.append(x)\n",
    "predictor2 = temp "
   ]
  },
  {
   "cell_type": "code",
   "execution_count": 13,
   "metadata": {},
   "outputs": [],
   "source": [
    "param = {\n",
    "    #'num_leaves':100,\n",
    "    'objective':'binary',\n",
    "    'metric':'binary_logloss',\n",
    "    'metric_freq':20,\n",
    "    'learning_rate': 0.05,\n",
    "    'num_threads':6,\n",
    "    #'min_sum_hessian_in_leaf':10,\n",
    "    'boosting_type':'gbdt',\n",
    "    'subsample':0.9,\n",
    "    #'xgboost_dart_mode':True,\n",
    "    'colsample_bytree':0.5,\n",
    "    'n_estimators':5000,\n",
    "    'min_child_weight':5,\n",
    "    'subsample_freq':2,\n",
    "    'num_leaves':32,\n",
    "    'n_jobs':-1,\n",
    "}\n"
   ]
  },
  {
   "cell_type": "code",
   "execution_count": 16,
   "metadata": {},
   "outputs": [
    {
     "data": {
      "text/plain": [
       "(1566680, 782)"
      ]
     },
     "execution_count": 16,
     "metadata": {},
     "output_type": "execute_result"
    }
   ],
   "source": [
    "data.shape"
   ]
  },
  {
   "cell_type": "code",
   "execution_count": 14,
   "metadata": {},
   "outputs": [
    {
     "name": "stdout",
     "output_type": "stream",
     "text": [
      "(1253344, 782) (313336, 782)\n"
     ]
    },
    {
     "name": "stderr",
     "output_type": "stream",
     "text": [
      "/home/zhukaihua/anaconda3/lib/python3.7/site-packages/lightgbm/engine.py:118: UserWarning: Found `n_estimators` in params. Will use it instead of argument\n",
      "  warnings.warn(\"Found `{}` in params. Will use it instead of argument\".format(alias))\n"
     ]
    },
    {
     "name": "stdout",
     "output_type": "stream",
     "text": [
      "Training until validation scores don't improve for 200 rounds.\n",
      "[100]\tvalid_0's binary_logloss: 0.0656267\n",
      "[200]\tvalid_0's binary_logloss: 0.0625694\n",
      "[300]\tvalid_0's binary_logloss: 0.0619294\n",
      "[400]\tvalid_0's binary_logloss: 0.0615979\n",
      "[500]\tvalid_0's binary_logloss: 0.0613171\n",
      "[600]\tvalid_0's binary_logloss: 0.0611661\n",
      "[700]\tvalid_0's binary_logloss: 0.0609882\n",
      "[800]\tvalid_0's binary_logloss: 0.0608508\n",
      "[900]\tvalid_0's binary_logloss: 0.060741\n",
      "[1000]\tvalid_0's binary_logloss: 0.0606541\n",
      "[1100]\tvalid_0's binary_logloss: 0.0606077\n",
      "[1200]\tvalid_0's binary_logloss: 0.0605713\n",
      "[1300]\tvalid_0's binary_logloss: 0.0605059\n",
      "[1400]\tvalid_0's binary_logloss: 0.0604634\n",
      "[1500]\tvalid_0's binary_logloss: 0.0604281\n",
      "[1600]\tvalid_0's binary_logloss: 0.0604064\n",
      "[1700]\tvalid_0's binary_logloss: 0.0603616\n",
      "[1800]\tvalid_0's binary_logloss: 0.0603506\n",
      "[1900]\tvalid_0's binary_logloss: 0.0603358\n",
      "[2000]\tvalid_0's binary_logloss: 0.0603382\n",
      "[2100]\tvalid_0's binary_logloss: 0.0603249\n",
      "[2200]\tvalid_0's binary_logloss: 0.0603105\n",
      "[2300]\tvalid_0's binary_logloss: 0.0602885\n",
      "[2400]\tvalid_0's binary_logloss: 0.0603064\n",
      "[2500]\tvalid_0's binary_logloss: 0.0603144\n",
      "Early stopping, best iteration is:\n",
      "[2311]\tvalid_0's binary_logloss: 0.0602854\n",
      "(1253344, 782) (313336, 782)\n"
     ]
    },
    {
     "name": "stderr",
     "output_type": "stream",
     "text": [
      "/home/zhukaihua/anaconda3/lib/python3.7/site-packages/lightgbm/engine.py:118: UserWarning: Found `n_estimators` in params. Will use it instead of argument\n",
      "  warnings.warn(\"Found `{}` in params. Will use it instead of argument\".format(alias))\n"
     ]
    },
    {
     "name": "stdout",
     "output_type": "stream",
     "text": [
      "Training until validation scores don't improve for 200 rounds.\n",
      "[100]\tvalid_0's binary_logloss: 0.0673982\n",
      "[200]\tvalid_0's binary_logloss: 0.0645594\n",
      "[300]\tvalid_0's binary_logloss: 0.0639123\n",
      "[400]\tvalid_0's binary_logloss: 0.0635984\n",
      "[500]\tvalid_0's binary_logloss: 0.0633563\n",
      "[600]\tvalid_0's binary_logloss: 0.0631864\n",
      "[700]\tvalid_0's binary_logloss: 0.0630681\n",
      "[800]\tvalid_0's binary_logloss: 0.0629306\n",
      "[900]\tvalid_0's binary_logloss: 0.0628349\n",
      "[1000]\tvalid_0's binary_logloss: 0.0628099\n",
      "[1100]\tvalid_0's binary_logloss: 0.062728\n",
      "[1200]\tvalid_0's binary_logloss: 0.0626644\n",
      "[1300]\tvalid_0's binary_logloss: 0.0626202\n",
      "[1400]\tvalid_0's binary_logloss: 0.0625956\n",
      "[1500]\tvalid_0's binary_logloss: 0.0625443\n",
      "[1600]\tvalid_0's binary_logloss: 0.0625223\n",
      "[1700]\tvalid_0's binary_logloss: 0.0624934\n",
      "[1800]\tvalid_0's binary_logloss: 0.0624695\n",
      "[1900]\tvalid_0's binary_logloss: 0.0624727\n",
      "[2000]\tvalid_0's binary_logloss: 0.0624667\n",
      "Early stopping, best iteration is:\n",
      "[1846]\tvalid_0's binary_logloss: 0.0624532\n",
      "(1253344, 782) (313336, 782)\n"
     ]
    },
    {
     "name": "stderr",
     "output_type": "stream",
     "text": [
      "/home/zhukaihua/anaconda3/lib/python3.7/site-packages/lightgbm/engine.py:118: UserWarning: Found `n_estimators` in params. Will use it instead of argument\n",
      "  warnings.warn(\"Found `{}` in params. Will use it instead of argument\".format(alias))\n"
     ]
    },
    {
     "ename": "KeyboardInterrupt",
     "evalue": "",
     "output_type": "error",
     "traceback": [
      "\u001b[0;31m---------------------------------------------------------------------------\u001b[0m",
      "\u001b[0;31mKeyboardInterrupt\u001b[0m                         Traceback (most recent call last)",
      "\u001b[0;32m<ipython-input-14-633c755e6236>\u001b[0m in \u001b[0;36m<module>\u001b[0;34m\u001b[0m\n\u001b[1;32m     20\u001b[0m \u001b[0;34m\u001b[0m\u001b[0m\n\u001b[1;32m     21\u001b[0m     bst = lgb.train(param, train, valid_sets=[validation_data],early_stopping_rounds=200,\n\u001b[0;32m---> 22\u001b[0;31m                     verbose_eval=100)\n\u001b[0m\u001b[1;32m     23\u001b[0m     \u001b[0mjoblib\u001b[0m\u001b[0;34m.\u001b[0m\u001b[0mdump\u001b[0m\u001b[0;34m(\u001b[0m\u001b[0mbst\u001b[0m\u001b[0;34m,\u001b[0m \u001b[0;34m'model_link/lgb_gbdt_%d.pkl'\u001b[0m\u001b[0;34m%\u001b[0m\u001b[0mc\u001b[0m\u001b[0;34m)\u001b[0m\u001b[0;34m\u001b[0m\u001b[0;34m\u001b[0m\u001b[0m\n\u001b[1;32m     24\u001b[0m     \u001b[0mc\u001b[0m\u001b[0;34m+=\u001b[0m\u001b[0;36m1\u001b[0m\u001b[0;34m\u001b[0m\u001b[0;34m\u001b[0m\u001b[0m\n",
      "\u001b[0;32m~/anaconda3/lib/python3.7/site-packages/lightgbm/engine.py\u001b[0m in \u001b[0;36mtrain\u001b[0;34m(params, train_set, num_boost_round, valid_sets, valid_names, fobj, feval, init_model, feature_name, categorical_feature, early_stopping_rounds, evals_result, verbose_eval, learning_rates, keep_training_booster, callbacks)\u001b[0m\n\u001b[1;32m    199\u001b[0m             \u001b[0mbooster\u001b[0m\u001b[0;34m.\u001b[0m\u001b[0mset_train_data_name\u001b[0m\u001b[0;34m(\u001b[0m\u001b[0mtrain_data_name\u001b[0m\u001b[0;34m)\u001b[0m\u001b[0;34m\u001b[0m\u001b[0;34m\u001b[0m\u001b[0m\n\u001b[1;32m    200\u001b[0m         \u001b[0;32mfor\u001b[0m \u001b[0mvalid_set\u001b[0m\u001b[0;34m,\u001b[0m \u001b[0mname_valid_set\u001b[0m \u001b[0;32min\u001b[0m \u001b[0mzip_\u001b[0m\u001b[0;34m(\u001b[0m\u001b[0mreduced_valid_sets\u001b[0m\u001b[0;34m,\u001b[0m \u001b[0mname_valid_sets\u001b[0m\u001b[0;34m)\u001b[0m\u001b[0;34m:\u001b[0m\u001b[0;34m\u001b[0m\u001b[0;34m\u001b[0m\u001b[0m\n\u001b[0;32m--> 201\u001b[0;31m             \u001b[0mbooster\u001b[0m\u001b[0;34m.\u001b[0m\u001b[0madd_valid\u001b[0m\u001b[0;34m(\u001b[0m\u001b[0mvalid_set\u001b[0m\u001b[0;34m,\u001b[0m \u001b[0mname_valid_set\u001b[0m\u001b[0;34m)\u001b[0m\u001b[0;34m\u001b[0m\u001b[0;34m\u001b[0m\u001b[0m\n\u001b[0m\u001b[1;32m    202\u001b[0m     \u001b[0;32mfinally\u001b[0m\u001b[0;34m:\u001b[0m\u001b[0;34m\u001b[0m\u001b[0;34m\u001b[0m\u001b[0m\n\u001b[1;32m    203\u001b[0m         \u001b[0mtrain_set\u001b[0m\u001b[0;34m.\u001b[0m\u001b[0m_reverse_update_params\u001b[0m\u001b[0;34m(\u001b[0m\u001b[0;34m)\u001b[0m\u001b[0;34m\u001b[0m\u001b[0;34m\u001b[0m\u001b[0m\n",
      "\u001b[0;32m~/anaconda3/lib/python3.7/site-packages/lightgbm/basic.py\u001b[0m in \u001b[0;36madd_valid\u001b[0;34m(self, data, name)\u001b[0m\n\u001b[1;32m   1730\u001b[0m         _safe_call(_LIB.LGBM_BoosterAddValidData(\n\u001b[1;32m   1731\u001b[0m             \u001b[0mself\u001b[0m\u001b[0;34m.\u001b[0m\u001b[0mhandle\u001b[0m\u001b[0;34m,\u001b[0m\u001b[0;34m\u001b[0m\u001b[0;34m\u001b[0m\u001b[0m\n\u001b[0;32m-> 1732\u001b[0;31m             data.construct().handle))\n\u001b[0m\u001b[1;32m   1733\u001b[0m         \u001b[0mself\u001b[0m\u001b[0;34m.\u001b[0m\u001b[0mvalid_sets\u001b[0m\u001b[0;34m.\u001b[0m\u001b[0mappend\u001b[0m\u001b[0;34m(\u001b[0m\u001b[0mdata\u001b[0m\u001b[0;34m)\u001b[0m\u001b[0;34m\u001b[0m\u001b[0;34m\u001b[0m\u001b[0m\n\u001b[1;32m   1734\u001b[0m         \u001b[0mself\u001b[0m\u001b[0;34m.\u001b[0m\u001b[0mname_valid_sets\u001b[0m\u001b[0;34m.\u001b[0m\u001b[0mappend\u001b[0m\u001b[0;34m(\u001b[0m\u001b[0mname\u001b[0m\u001b[0;34m)\u001b[0m\u001b[0;34m\u001b[0m\u001b[0;34m\u001b[0m\u001b[0m\n",
      "\u001b[0;32m~/anaconda3/lib/python3.7/site-packages/lightgbm/basic.py\u001b[0m in \u001b[0;36mconstruct\u001b[0;34m(self)\u001b[0m\n\u001b[1;32m    970\u001b[0m                                     \u001b[0mweight\u001b[0m\u001b[0;34m=\u001b[0m\u001b[0mself\u001b[0m\u001b[0;34m.\u001b[0m\u001b[0mweight\u001b[0m\u001b[0;34m,\u001b[0m \u001b[0mgroup\u001b[0m\u001b[0;34m=\u001b[0m\u001b[0mself\u001b[0m\u001b[0;34m.\u001b[0m\u001b[0mgroup\u001b[0m\u001b[0;34m,\u001b[0m\u001b[0;34m\u001b[0m\u001b[0;34m\u001b[0m\u001b[0m\n\u001b[1;32m    971\u001b[0m                                     \u001b[0minit_score\u001b[0m\u001b[0;34m=\u001b[0m\u001b[0mself\u001b[0m\u001b[0;34m.\u001b[0m\u001b[0minit_score\u001b[0m\u001b[0;34m,\u001b[0m \u001b[0mpredictor\u001b[0m\u001b[0;34m=\u001b[0m\u001b[0mself\u001b[0m\u001b[0;34m.\u001b[0m\u001b[0m_predictor\u001b[0m\u001b[0;34m,\u001b[0m\u001b[0;34m\u001b[0m\u001b[0;34m\u001b[0m\u001b[0m\n\u001b[0;32m--> 972\u001b[0;31m                                     silent=self.silent, feature_name=self.feature_name, params=self.params)\n\u001b[0m\u001b[1;32m    973\u001b[0m                 \u001b[0;32melse\u001b[0m\u001b[0;34m:\u001b[0m\u001b[0;34m\u001b[0m\u001b[0;34m\u001b[0m\u001b[0m\n\u001b[1;32m    974\u001b[0m                     \u001b[0;31m# construct subset\u001b[0m\u001b[0;34m\u001b[0m\u001b[0;34m\u001b[0m\u001b[0;34m\u001b[0m\u001b[0m\n",
      "\u001b[0;32m~/anaconda3/lib/python3.7/site-packages/lightgbm/basic.py\u001b[0m in \u001b[0;36m_lazy_init\u001b[0;34m(self, data, label, reference, weight, group, init_score, predictor, silent, feature_name, categorical_feature, params)\u001b[0m\n\u001b[1;32m    789\u001b[0m             \u001b[0mself\u001b[0m\u001b[0;34m.\u001b[0m\u001b[0m__init_from_csc\u001b[0m\u001b[0;34m(\u001b[0m\u001b[0mdata\u001b[0m\u001b[0;34m,\u001b[0m \u001b[0mparams_str\u001b[0m\u001b[0;34m,\u001b[0m \u001b[0mref_dataset\u001b[0m\u001b[0;34m)\u001b[0m\u001b[0;34m\u001b[0m\u001b[0;34m\u001b[0m\u001b[0m\n\u001b[1;32m    790\u001b[0m         \u001b[0;32melif\u001b[0m \u001b[0misinstance\u001b[0m\u001b[0;34m(\u001b[0m\u001b[0mdata\u001b[0m\u001b[0;34m,\u001b[0m \u001b[0mnp\u001b[0m\u001b[0;34m.\u001b[0m\u001b[0mndarray\u001b[0m\u001b[0;34m)\u001b[0m\u001b[0;34m:\u001b[0m\u001b[0;34m\u001b[0m\u001b[0;34m\u001b[0m\u001b[0m\n\u001b[0;32m--> 791\u001b[0;31m             \u001b[0mself\u001b[0m\u001b[0;34m.\u001b[0m\u001b[0m__init_from_np2d\u001b[0m\u001b[0;34m(\u001b[0m\u001b[0mdata\u001b[0m\u001b[0;34m,\u001b[0m \u001b[0mparams_str\u001b[0m\u001b[0;34m,\u001b[0m \u001b[0mref_dataset\u001b[0m\u001b[0;34m)\u001b[0m\u001b[0;34m\u001b[0m\u001b[0;34m\u001b[0m\u001b[0m\n\u001b[0m\u001b[1;32m    792\u001b[0m         \u001b[0;32melif\u001b[0m \u001b[0misinstance\u001b[0m\u001b[0;34m(\u001b[0m\u001b[0mdata\u001b[0m\u001b[0;34m,\u001b[0m \u001b[0mlist\u001b[0m\u001b[0;34m)\u001b[0m \u001b[0;32mand\u001b[0m \u001b[0mlen\u001b[0m\u001b[0;34m(\u001b[0m\u001b[0mdata\u001b[0m\u001b[0;34m)\u001b[0m \u001b[0;34m>\u001b[0m \u001b[0;36m0\u001b[0m \u001b[0;32mand\u001b[0m \u001b[0mall\u001b[0m\u001b[0;34m(\u001b[0m\u001b[0misinstance\u001b[0m\u001b[0;34m(\u001b[0m\u001b[0mx\u001b[0m\u001b[0;34m,\u001b[0m \u001b[0mnp\u001b[0m\u001b[0;34m.\u001b[0m\u001b[0mndarray\u001b[0m\u001b[0;34m)\u001b[0m \u001b[0;32mfor\u001b[0m \u001b[0mx\u001b[0m \u001b[0;32min\u001b[0m \u001b[0mdata\u001b[0m\u001b[0;34m)\u001b[0m\u001b[0;34m:\u001b[0m\u001b[0;34m\u001b[0m\u001b[0;34m\u001b[0m\u001b[0m\n\u001b[1;32m    793\u001b[0m             \u001b[0mself\u001b[0m\u001b[0;34m.\u001b[0m\u001b[0m__init_from_list_np2d\u001b[0m\u001b[0;34m(\u001b[0m\u001b[0mdata\u001b[0m\u001b[0;34m,\u001b[0m \u001b[0mparams_str\u001b[0m\u001b[0;34m,\u001b[0m \u001b[0mref_dataset\u001b[0m\u001b[0;34m)\u001b[0m\u001b[0;34m\u001b[0m\u001b[0;34m\u001b[0m\u001b[0m\n",
      "\u001b[0;32m~/anaconda3/lib/python3.7/site-packages/lightgbm/basic.py\u001b[0m in \u001b[0;36m__init_from_np2d\u001b[0;34m(self, mat, params_str, ref_dataset)\u001b[0m\n\u001b[1;32m    853\u001b[0m             \u001b[0mc_str\u001b[0m\u001b[0;34m(\u001b[0m\u001b[0mparams_str\u001b[0m\u001b[0;34m)\u001b[0m\u001b[0;34m,\u001b[0m\u001b[0;34m\u001b[0m\u001b[0;34m\u001b[0m\u001b[0m\n\u001b[1;32m    854\u001b[0m             \u001b[0mref_dataset\u001b[0m\u001b[0;34m,\u001b[0m\u001b[0;34m\u001b[0m\u001b[0;34m\u001b[0m\u001b[0m\n\u001b[0;32m--> 855\u001b[0;31m             ctypes.byref(self.handle)))\n\u001b[0m\u001b[1;32m    856\u001b[0m         \u001b[0;32mreturn\u001b[0m \u001b[0mself\u001b[0m\u001b[0;34m\u001b[0m\u001b[0;34m\u001b[0m\u001b[0m\n\u001b[1;32m    857\u001b[0m \u001b[0;34m\u001b[0m\u001b[0m\n",
      "\u001b[0;31mKeyboardInterrupt\u001b[0m: "
     ]
    }
   ],
   "source": [
    "kfold = KFold(n_splits=5,shuffle=False,random_state=2019)\n",
    "c = 1\n",
    "first = 0\n",
    "for train_index,test_index in kfold.split(data):\n",
    "    if first==0:\n",
    "        first+=1\n",
    "        continue\n",
    "    #train_data,val_data = data.loc[train_index,:],data.loc[test_index,:]\n",
    "    train_data,val_data = data.loc[train_index,:],data.loc[test_index,:]\n",
    "    print(train_data.shape,val_data.shape)\n",
    "    train = lgb.Dataset(train_data[predictor2],label=train_data['label'])\n",
    "    \n",
    "    validation_data = lgb.Dataset(val_data[predictor2],label=val_data['label'])\n",
    "    #break\n",
    "#     val_data.reset_index(inplace=True,drop=True)\n",
    "#     val_data.reset_index(inplace=True)\n",
    "#     index_df = val_data.groupby('m_id')['index'].apply(list)\n",
    "    \n",
    "#     label_package = val_data.groupby('m_id',as_index=False)['label'].agg({'label_id_max':'idxmax'})['label_id_max']\n",
    "\n",
    "    bst = lgb.train(param, train, valid_sets=[validation_data],early_stopping_rounds=200,\n",
    "                    verbose_eval=100)\n",
    "    joblib.dump(bst, 'model_link/lgb_gbdt_%d.pkl'%c)\n",
    "    c+=1\n",
    "    #break\n",
    "# 0.0349\n",
    "# [2499]\tvalid_0's binary_logloss: 0.0697551\n",
    "# [2298]\tvalid_0's binary_logloss: 0.0684312\n",
    "# [100]\tvalid_0's binary_logloss: 0.146277\n",
    "# [1945]\tvalid_0's binary_logloss: 0.0693056\n",
    "# [28]\tvalid_0's binary_logloss: 0.314403\n",
    "# [87]\tvalid_0's binary_logloss: 0.0789237\n",
    "# (1253344, 702) (313336, 702)\n",
    "# [100]\tvalid_0's binary_logloss: 0.0672541\n",
    "# [200]\tvalid_0's binary_logloss: 0.064743\n",
    "# [300]\tvalid_0's binary_logloss: 0.0642422\n",
    "# [400]\tvalid_0's binary_logloss: 0.0639828\n",
    "# [500]\tvalid_0's binary_logloss: 0.0637877\n",
    "# [600]\tvalid_0's binary_logloss: 0.063694\n",
    "# [700]\tvalid_0's binary_logloss: 0.0635975\n",
    "# [800]\tvalid_0's binary_logloss: 0.0635226\n",
    "# [900]\tvalid_0's binary_logloss: 0.063443\n",
    "# [1000]\tvalid_0's binary_logloss: 0.0633719\n",
    "# [1100]\tvalid_0's binary_logloss: 0.0633494\n",
    "# [1200]\tvalid_0's binary_logloss: 0.0633296\n",
    "# [1300]\tvalid_0's binary_logloss: 0.0632968\n",
    "# [1400]\tvalid_0's binary_logloss: 0.0632536\n",
    "# [1500]\tvalid_0's binary_logloss: 0.0632442\n",
    "# [1600]\tvalid_0's binary_logloss: 0.0632364\n",
    "# [1700]\tvalid_0's binary_logloss: 0.0632445\n",
    "# [1800]\tvalid_0's binary_logloss: 0.0632452\n",
    "# Early stopping, best iteration is:\n",
    "# [1624]\tvalid_0's binary_logloss: 0.0632279\n",
    "\n",
    "# [100]\tvalid_0's binary_logloss: 0.0668833\n",
    "# [200]\tvalid_0's binary_logloss: 0.0642146\n",
    "# [300]\tvalid_0's binary_logloss: 0.0637025\n",
    "# [400]\tvalid_0's binary_logloss: 0.0633815\n",
    "# [500]\tvalid_0's binary_logloss: 0.0632067\n",
    "# [600]\tvalid_0's binary_logloss: 0.0630446\n",
    "# [700]\tvalid_0's binary_logloss: 0.0629175\n",
    "# [800]\tvalid_0's binary_logloss: 0.062835\n",
    "# [900]\tvalid_0's binary_logloss: 0.0627646\n",
    "# [1000]\tvalid_0's binary_logloss: 0.0627174\n",
    "# [11100]\tvalid_0's binary_logloss: 0.0626483\n",
    "# [1200]\tvalid_0's binary_logloss: 0.062619\n",
    "# [1300]\tvalid_0's binary_logloss: 0.0625717\n",
    "# [1400]\tvalid_0's binary_logloss: 0.0625455"
   ]
  },
  {
   "cell_type": "code",
   "execution_count": null,
   "metadata": {},
   "outputs": [],
   "source": [
    "data['m_id'].max()"
   ]
  },
  {
   "cell_type": "code",
   "execution_count": null,
   "metadata": {},
   "outputs": [],
   "source": [
    "bst.current_iteration()"
   ]
  },
  {
   "cell_type": "code",
   "execution_count": 21,
   "metadata": {},
   "outputs": [],
   "source": [
    "# \n",
    "# joblib.dump(bst, 'model_link/lgb_dart.pkl')\n",
    "#import copy\n",
    "bst = joblib.load('model_link/lgb_gbdt_0.pkl')\n",
    "#pred2 = bst2.predict(val_data_dart[predictor2])\n"
   ]
  },
  {
   "cell_type": "code",
   "execution_count": null,
   "metadata": {},
   "outputs": [],
   "source": [
    "def lgb_f1_score(y_hat, data):\n",
    "        y_true = data.get_label()\n",
    "        span = list(np.linspace(0,1, 100))\n",
    "        scores = []\n",
    "        for i in span:\n",
    "            predict_y =  np.where(y_hat >= i, 1,0)\n",
    "            score = f1_score(y_true, predict_y)\n",
    "            scores.append(score)\n",
    "        #print(scores)\n",
    "        best_score = max(scores)"
   ]
  },
  {
   "cell_type": "code",
   "execution_count": null,
   "metadata": {},
   "outputs": [],
   "source": [
    "valid_data = val_data[val_data.pred>0.4]\n",
    "submit = valid_data.groupby('m_id',as_index=False)['pred'].agg({'label_id_max':'idxmax'})\n",
    "m = submit.shape[0]\n",
    "n = sum(val_data.groupby('m_id')['label'].sum())"
   ]
  },
  {
   "cell_type": "code",
   "execution_count": null,
   "metadata": {},
   "outputs": [],
   "source": [
    "m"
   ]
  },
  {
   "cell_type": "code",
   "execution_count": null,
   "metadata": {},
   "outputs": [],
   "source": [
    "# 标注错误总结\n",
    "1 非nil标注为nil\n",
    "2 kb_id链接到其他词汇\n",
    "3 可标可不标\n",
    "4 纯粹标注错误\n",
    "label=0 预测偏大 纠正\n",
    "label=1 预测偏小 纠正"
   ]
  },
  {
   "cell_type": "code",
   "execution_count": null,
   "metadata": {},
   "outputs": [],
   "source": [
    "val_data.to_pickle('data/old.pkl')"
   ]
  },
  {
   "cell_type": "code",
   "execution_count": null,
   "metadata": {},
   "outputs": [],
   "source": [
    "val_data = pd.read_pickle('data/t_val.pkl')"
   ]
  },
  {
   "cell_type": "code",
   "execution_count": 17,
   "metadata": {},
   "outputs": [],
   "source": [
    "pred = bst.predict(val_data[predictor2])\n",
    "val_data['pred'] = pred"
   ]
  },
  {
   "cell_type": "code",
   "execution_count": null,
   "metadata": {},
   "outputs": [],
   "source": [
    "data[data.label==1]['m_id'].nunique()"
   ]
  },
  {
   "cell_type": "code",
   "execution_count": null,
   "metadata": {},
   "outputs": [],
   "source": [
    "data['m_id'].max()"
   ]
  },
  {
   "cell_type": "code",
   "execution_count": 18,
   "metadata": {},
   "outputs": [
    {
     "name": "stdout",
     "output_type": "stream",
     "text": [
      "50459 49740 46224\n",
      "0.3 0.7786599020987336 0.7899155609167672 0.784247347777922\n",
      "50314 49740 46165\n",
      "0.3222222222222222 0.7799071828914418 0.7889073180538801 0.7843814340256263\n",
      "50157 49740 46112\n",
      "0.34444444444444444 0.7814502462268477 0.7880016083634901 0.7847122536212298\n",
      "50002 49740 46059\n",
      "0.36666666666666664 0.7829716811327547 0.7870958986731 0.7850283732028633\n",
      "49840 49740 45988\n",
      "0.3888888888888889 0.7843057784911718 0.785882589465219 0.7850933922474392\n",
      "49648 49740 45905\n",
      "0.4111111111111111 0.7859178617466968 0.7844642139123441 0.7851903650340082\n",
      "49462 49740 45817\n",
      "0.43333333333333335 0.7873610044074238 0.7829603940490552 0.7851545331747344\n",
      "49242 49740 45712\n",
      "0.45555555555555555 0.7890662442630274 0.7811660635303579 0.7850962801317412\n",
      "49016 49740 45594\n",
      "0.47777777777777775 0.7906581524400196 0.7791495778045838 0.7848616792903722\n",
      "48769 49740 45480\n",
      "0.5 0.7926756751214911 0.7772014475271412 0.7848622968459734\n"
     ]
    }
   ],
   "source": [
    "span = list(np.linspace(0.3,0.5, 10))\n",
    "scores = []\n",
    "for i in span:\n",
    "#     predict_y =  np.where(pred >= i, 1,0)\n",
    "#     score = f1_score(val_data['label'], predict_y)\n",
    "#     #print(i,score)\n",
    "#     scores.append(score)\n",
    "#     best_score = max(scores)\n",
    "    n = i\n",
    "    #val_data.loc[(val_data.label_mean>0.99)&(val_data.label_count>10),'pred']=1\n",
    "    valid_data = val_data[(val_data.pred>n)]\n",
    "    v_index = valid_data.loc[valid_data.pred>0.99,'pred'].index\n",
    "\n",
    "    #valid_data.loc[(valid_data.label_mean==0)&(valid_data.label_count>15),'pred']=0\n",
    "\n",
    "    submit = valid_data.groupby('m_id',as_index=False)['pred'].agg({'label_id_max':'idxmax'})\n",
    "    submit_index = np.array(list(set(list(submit['label_id_max'])+list(v_index))))\n",
    "    m = submit.shape[0]\n",
    "    n = sum(val_data.groupby('m_id')['label'].sum())\n",
    "    #hit = valid_data.loc[submit['label_id_max']|valid_data.pred>0.9,:]['label'].sum()\n",
    "    hit = valid_data.loc[submit_index,:]['label'].sum()\n",
    "    print(m,n,hit)\n",
    "    acc = hit/m*0.85\n",
    "    recall = hit/n*0.85\n",
    "    print(i,acc,recall,2*acc*recall/(acc+recall))\n",
    "# 0.358974358974359 0.9064828744358535 0.9083260297984225 0.9074035161448484\n",
    "# 0.41025641025641024 0.9134305067915026 0.9029272567922875 0.9081485138041677\n",
    "# 0.4358974358974359 0.9561564043528741 0.9456976585764612 0.9508982739050452\n",
    "# 0.1794871794871795 0.8884175317656177 0.8817278302937068 0.8850600402300017\n",
    "# 0.4358974358974359 0.9231731834406925 0.9112650102261912 0.9171804461474181\n",
    "# 0.358974358974359 0.9152727272727272 0.9174412247129579 0.9163556930918358\n"
   ]
  },
  {
   "cell_type": "code",
   "execution_count": null,
   "metadata": {},
   "outputs": [],
   "source": []
  },
  {
   "cell_type": "code",
   "execution_count": null,
   "metadata": {},
   "outputs": [],
   "source": [
    "valid_data = val_data[val_data.pred>0.4]\n",
    "\n",
    "submit = valid_data.groupby('m_id',as_index=False)['pred'].agg({'label_id_max':'idxmax'})\n",
    "val_data['positive'] = 0\n",
    "val_data.loc[submit['label_id_max'],'positive'] = 1"
   ]
  },
  {
   "cell_type": "code",
   "execution_count": null,
   "metadata": {},
   "outputs": [],
   "source": [
    "a = val_data[val_data.positive!=val_data.label][['text_id','kb_id','train_mention','num_candidates','label','label_mean','label_count','m_label_mean','m_label_count',\n",
    "          'cos_distance','pred']]\n",
    "a[a.pred>0.8]"
   ]
  },
  {
   "cell_type": "code",
   "execution_count": null,
   "metadata": {},
   "outputs": [],
   "source": [
    "a[(a.label_mean>=0.99)&(a.label_count>10)]"
   ]
  },
  {
   "cell_type": "code",
   "execution_count": null,
   "metadata": {},
   "outputs": [],
   "source": [
    "val_data[(val_data.m_label_count>10)&(val_data.m_label_mean==1)&(val_data.positive!=val_data.label)]\\\n",
    "[['text_id','kb_id','train_mention','num_candidates','label','label_mean','label_count','m_label_mean','m_label_count',\n",
    "          'pred']]"
   ]
  },
  {
   "cell_type": "code",
   "execution_count": null,
   "metadata": {},
   "outputs": [],
   "source": [
    "val_data[(val_data.m_label_count>10)&(val_data.m_label_mean==1)&(val_data.positive!=val_data.label)]\\\n",
    "[['text_id','kb_id','train_mention','num_candidates','label','label_mean','label_count','m_label_mean','m_label_count',\n",
    "          'pred']]"
   ]
  },
  {
   "cell_type": "code",
   "execution_count": null,
   "metadata": {},
   "outputs": [],
   "source": [
    "val_data[val_data.positive!=val_data.label].shape"
   ]
  },
  {
   "cell_type": "code",
   "execution_count": null,
   "metadata": {},
   "outputs": [],
   "source": [
    "val_data.shape"
   ]
  },
  {
   "cell_type": "code",
   "execution_count": null,
   "metadata": {},
   "outputs": [],
   "source": [
    "# a = val_data[val_data.positive!=val_data.label][['text_id','kb_id','train_mention','num_candidates','label','label_mean','label_count','m_label_mean','m_label_count',\n",
    "#           'pred']]\n",
    "# a[a.pred>0.8]"
   ]
  },
  {
   "cell_type": "code",
   "execution_count": null,
   "metadata": {},
   "outputs": [],
   "source": [
    "# val_data[['text_id','kb_id','train_mention','label','label_mean','label_count','m_label_mean','m_label_count',\n",
    "#           'cos_distance','rank_cos_distance','pred']]"
   ]
  },
  {
   "cell_type": "code",
   "execution_count": null,
   "metadata": {},
   "outputs": [],
   "source": [
    "# span = list(np.linspace(0,1, 100))\n",
    "# scores = []\n",
    "# for i in span:\n",
    "#     predict_y =  np.where(pred >= i, 1,0)\n",
    "#     score = f1_score(val_data['label'], predict_y)\n",
    "#     #print(i,score)\n",
    "#     scores.append(score)\n",
    "# best_score = max(scores)\n",
    "# n = scores.index(best_score)/100\n",
    "# print(n)"
   ]
  },
  {
   "cell_type": "code",
   "execution_count": 15,
   "metadata": {},
   "outputs": [
    {
     "name": "stderr",
     "output_type": "stream",
     "text": [
      "/home/zhukaihua/anaconda3/lib/python3.7/site-packages/lightgbm/engine.py:118: UserWarning: Found `n_estimators` in params. Will use it instead of argument\n",
      "  warnings.warn(\"Found `{}` in params. Will use it instead of argument\".format(alias))\n"
     ]
    },
    {
     "data": {
      "text/plain": [
       "['model_link/lgb_gbdt_4.pkl']"
      ]
     },
     "execution_count": 15,
     "metadata": {},
     "output_type": "execute_result"
    }
   ],
   "source": [
    "############################## for submit  #####################################\n",
    "\n",
    "train = lgb.Dataset(data[predictor2],label=data['label'])\n",
    "param = {\n",
    "    #'num_leaves':100,\n",
    "    'objective':'binary',\n",
    "    'metric':'binary_logloss',\n",
    "    'metric_freq':20,\n",
    "    'learning_rate': 0.05,\n",
    "    'num_threads':8,\n",
    "    #'min_sum_hessian_in_leaf':10,\n",
    "    'boosting_type':'gbdt',\n",
    "    'subsample':0.9,\n",
    "    #'xgboost_dart_mode':True,\n",
    "    'colsample_bytree':0.5,\n",
    "    'n_estimators':2000,\n",
    "    'min_child_weight':5,\n",
    "    'subsample_freq':2,\n",
    "    'num_leaves':32,\n",
    "    'n_jobs':-1,\n",
    "}\n",
    "\n",
    "\n",
    "bst = lgb.train(param, train)\n",
    "from sklearn.externals import joblib\n",
    "joblib.dump(bst, 'model_link/lgb_gbdt_4.pkl')\n",
    "\n",
    "# save model\n",
    "# load model\n",
    "#gbm_pickle = joblib.load('lgb.pkl')\n",
    "# break"
   ]
  },
  {
   "cell_type": "code",
   "execution_count": null,
   "metadata": {},
   "outputs": [],
   "source": [
    "predictor2"
   ]
  },
  {
   "cell_type": "code",
   "execution_count": null,
   "metadata": {},
   "outputs": [],
   "source": [
    "# val_data"
   ]
  },
  {
   "cell_type": "code",
   "execution_count": null,
   "metadata": {},
   "outputs": [],
   "source": [
    "list(best_features.sort_values(by=['importance'])['feature'])"
   ]
  },
  {
   "cell_type": "code",
   "execution_count": null,
   "metadata": {},
   "outputs": [],
   "source": [
    "data[['text_id','kb_id','train_mention','label','label_mean','label_count','kbid_rank_label_mean']].sort_values(by='kb_id')"
   ]
  },
  {
   "cell_type": "code",
   "execution_count": null,
   "metadata": {},
   "outputs": [],
   "source": [
    "max(data['m_id'])"
   ]
  },
  {
   "cell_type": "code",
   "execution_count": 22,
   "metadata": {},
   "outputs": [
    {
     "ename": "ValueError",
     "evalue": "Length of values does not match length of index",
     "output_type": "error",
     "traceback": [
      "\u001b[0;31m---------------------------------------------------------------------------\u001b[0m",
      "\u001b[0;31mValueError\u001b[0m                                Traceback (most recent call last)",
      "\u001b[0;32m<ipython-input-22-48f031967dac>\u001b[0m in \u001b[0;36m<module>\u001b[0;34m\u001b[0m\n\u001b[1;32m      1\u001b[0m \u001b[0mfold_importance_df\u001b[0m \u001b[0;34m=\u001b[0m \u001b[0mpd\u001b[0m\u001b[0;34m.\u001b[0m\u001b[0mDataFrame\u001b[0m\u001b[0;34m(\u001b[0m\u001b[0;34m)\u001b[0m\u001b[0;34m\u001b[0m\u001b[0;34m\u001b[0m\u001b[0m\n\u001b[1;32m      2\u001b[0m \u001b[0mfold_importance_df\u001b[0m\u001b[0;34m[\u001b[0m\u001b[0;34m\"feature\"\u001b[0m\u001b[0;34m]\u001b[0m \u001b[0;34m=\u001b[0m \u001b[0mpredictor2\u001b[0m\u001b[0;34m\u001b[0m\u001b[0;34m\u001b[0m\u001b[0m\n\u001b[0;32m----> 3\u001b[0;31m \u001b[0mfold_importance_df\u001b[0m\u001b[0;34m[\u001b[0m\u001b[0;34m\"importance\"\u001b[0m\u001b[0;34m]\u001b[0m \u001b[0;34m=\u001b[0m \u001b[0mbst\u001b[0m\u001b[0;34m.\u001b[0m\u001b[0mfeature_importance\u001b[0m\u001b[0;34m(\u001b[0m\u001b[0;34m)\u001b[0m\u001b[0;34m\u001b[0m\u001b[0;34m\u001b[0m\u001b[0m\n\u001b[0m\u001b[1;32m      4\u001b[0m cols = (fold_importance_df[[\"feature\", \"importance\"]]\n\u001b[1;32m      5\u001b[0m         \u001b[0;34m.\u001b[0m\u001b[0mgroupby\u001b[0m\u001b[0;34m(\u001b[0m\u001b[0;34m\"feature\"\u001b[0m\u001b[0;34m)\u001b[0m\u001b[0;34m\u001b[0m\u001b[0;34m\u001b[0m\u001b[0m\n",
      "\u001b[0;32m~/anaconda3/lib/python3.7/site-packages/pandas/core/frame.py\u001b[0m in \u001b[0;36m__setitem__\u001b[0;34m(self, key, value)\u001b[0m\n\u001b[1;32m   3368\u001b[0m         \u001b[0;32melse\u001b[0m\u001b[0;34m:\u001b[0m\u001b[0;34m\u001b[0m\u001b[0;34m\u001b[0m\u001b[0m\n\u001b[1;32m   3369\u001b[0m             \u001b[0;31m# set column\u001b[0m\u001b[0;34m\u001b[0m\u001b[0;34m\u001b[0m\u001b[0;34m\u001b[0m\u001b[0m\n\u001b[0;32m-> 3370\u001b[0;31m             \u001b[0mself\u001b[0m\u001b[0;34m.\u001b[0m\u001b[0m_set_item\u001b[0m\u001b[0;34m(\u001b[0m\u001b[0mkey\u001b[0m\u001b[0;34m,\u001b[0m \u001b[0mvalue\u001b[0m\u001b[0;34m)\u001b[0m\u001b[0;34m\u001b[0m\u001b[0;34m\u001b[0m\u001b[0m\n\u001b[0m\u001b[1;32m   3371\u001b[0m \u001b[0;34m\u001b[0m\u001b[0m\n\u001b[1;32m   3372\u001b[0m     \u001b[0;32mdef\u001b[0m \u001b[0m_setitem_slice\u001b[0m\u001b[0;34m(\u001b[0m\u001b[0mself\u001b[0m\u001b[0;34m,\u001b[0m \u001b[0mkey\u001b[0m\u001b[0;34m,\u001b[0m \u001b[0mvalue\u001b[0m\u001b[0;34m)\u001b[0m\u001b[0;34m:\u001b[0m\u001b[0;34m\u001b[0m\u001b[0;34m\u001b[0m\u001b[0m\n",
      "\u001b[0;32m~/anaconda3/lib/python3.7/site-packages/pandas/core/frame.py\u001b[0m in \u001b[0;36m_set_item\u001b[0;34m(self, key, value)\u001b[0m\n\u001b[1;32m   3443\u001b[0m \u001b[0;34m\u001b[0m\u001b[0m\n\u001b[1;32m   3444\u001b[0m         \u001b[0mself\u001b[0m\u001b[0;34m.\u001b[0m\u001b[0m_ensure_valid_index\u001b[0m\u001b[0;34m(\u001b[0m\u001b[0mvalue\u001b[0m\u001b[0;34m)\u001b[0m\u001b[0;34m\u001b[0m\u001b[0;34m\u001b[0m\u001b[0m\n\u001b[0;32m-> 3445\u001b[0;31m         \u001b[0mvalue\u001b[0m \u001b[0;34m=\u001b[0m \u001b[0mself\u001b[0m\u001b[0;34m.\u001b[0m\u001b[0m_sanitize_column\u001b[0m\u001b[0;34m(\u001b[0m\u001b[0mkey\u001b[0m\u001b[0;34m,\u001b[0m \u001b[0mvalue\u001b[0m\u001b[0;34m)\u001b[0m\u001b[0;34m\u001b[0m\u001b[0;34m\u001b[0m\u001b[0m\n\u001b[0m\u001b[1;32m   3446\u001b[0m         \u001b[0mNDFrame\u001b[0m\u001b[0;34m.\u001b[0m\u001b[0m_set_item\u001b[0m\u001b[0;34m(\u001b[0m\u001b[0mself\u001b[0m\u001b[0;34m,\u001b[0m \u001b[0mkey\u001b[0m\u001b[0;34m,\u001b[0m \u001b[0mvalue\u001b[0m\u001b[0;34m)\u001b[0m\u001b[0;34m\u001b[0m\u001b[0;34m\u001b[0m\u001b[0m\n\u001b[1;32m   3447\u001b[0m \u001b[0;34m\u001b[0m\u001b[0m\n",
      "\u001b[0;32m~/anaconda3/lib/python3.7/site-packages/pandas/core/frame.py\u001b[0m in \u001b[0;36m_sanitize_column\u001b[0;34m(self, key, value, broadcast)\u001b[0m\n\u001b[1;32m   3628\u001b[0m \u001b[0;34m\u001b[0m\u001b[0m\n\u001b[1;32m   3629\u001b[0m             \u001b[0;31m# turn me into an ndarray\u001b[0m\u001b[0;34m\u001b[0m\u001b[0;34m\u001b[0m\u001b[0;34m\u001b[0m\u001b[0m\n\u001b[0;32m-> 3630\u001b[0;31m             \u001b[0mvalue\u001b[0m \u001b[0;34m=\u001b[0m \u001b[0msanitize_index\u001b[0m\u001b[0;34m(\u001b[0m\u001b[0mvalue\u001b[0m\u001b[0;34m,\u001b[0m \u001b[0mself\u001b[0m\u001b[0;34m.\u001b[0m\u001b[0mindex\u001b[0m\u001b[0;34m,\u001b[0m \u001b[0mcopy\u001b[0m\u001b[0;34m=\u001b[0m\u001b[0;32mFalse\u001b[0m\u001b[0;34m)\u001b[0m\u001b[0;34m\u001b[0m\u001b[0;34m\u001b[0m\u001b[0m\n\u001b[0m\u001b[1;32m   3631\u001b[0m             \u001b[0;32mif\u001b[0m \u001b[0;32mnot\u001b[0m \u001b[0misinstance\u001b[0m\u001b[0;34m(\u001b[0m\u001b[0mvalue\u001b[0m\u001b[0;34m,\u001b[0m \u001b[0;34m(\u001b[0m\u001b[0mnp\u001b[0m\u001b[0;34m.\u001b[0m\u001b[0mndarray\u001b[0m\u001b[0;34m,\u001b[0m \u001b[0mIndex\u001b[0m\u001b[0;34m)\u001b[0m\u001b[0;34m)\u001b[0m\u001b[0;34m:\u001b[0m\u001b[0;34m\u001b[0m\u001b[0;34m\u001b[0m\u001b[0m\n\u001b[1;32m   3632\u001b[0m                 \u001b[0;32mif\u001b[0m \u001b[0misinstance\u001b[0m\u001b[0;34m(\u001b[0m\u001b[0mvalue\u001b[0m\u001b[0;34m,\u001b[0m \u001b[0mlist\u001b[0m\u001b[0;34m)\u001b[0m \u001b[0;32mand\u001b[0m \u001b[0mlen\u001b[0m\u001b[0;34m(\u001b[0m\u001b[0mvalue\u001b[0m\u001b[0;34m)\u001b[0m \u001b[0;34m>\u001b[0m \u001b[0;36m0\u001b[0m\u001b[0;34m:\u001b[0m\u001b[0;34m\u001b[0m\u001b[0;34m\u001b[0m\u001b[0m\n",
      "\u001b[0;32m~/anaconda3/lib/python3.7/site-packages/pandas/core/internals/construction.py\u001b[0m in \u001b[0;36msanitize_index\u001b[0;34m(data, index, copy)\u001b[0m\n\u001b[1;32m    517\u001b[0m \u001b[0;34m\u001b[0m\u001b[0m\n\u001b[1;32m    518\u001b[0m     \u001b[0;32mif\u001b[0m \u001b[0mlen\u001b[0m\u001b[0;34m(\u001b[0m\u001b[0mdata\u001b[0m\u001b[0;34m)\u001b[0m \u001b[0;34m!=\u001b[0m \u001b[0mlen\u001b[0m\u001b[0;34m(\u001b[0m\u001b[0mindex\u001b[0m\u001b[0;34m)\u001b[0m\u001b[0;34m:\u001b[0m\u001b[0;34m\u001b[0m\u001b[0;34m\u001b[0m\u001b[0m\n\u001b[0;32m--> 519\u001b[0;31m         \u001b[0;32mraise\u001b[0m \u001b[0mValueError\u001b[0m\u001b[0;34m(\u001b[0m\u001b[0;34m'Length of values does not match length of index'\u001b[0m\u001b[0;34m)\u001b[0m\u001b[0;34m\u001b[0m\u001b[0;34m\u001b[0m\u001b[0m\n\u001b[0m\u001b[1;32m    520\u001b[0m \u001b[0;34m\u001b[0m\u001b[0m\n\u001b[1;32m    521\u001b[0m     \u001b[0;32mif\u001b[0m \u001b[0misinstance\u001b[0m\u001b[0;34m(\u001b[0m\u001b[0mdata\u001b[0m\u001b[0;34m,\u001b[0m \u001b[0mABCIndexClass\u001b[0m\u001b[0;34m)\u001b[0m \u001b[0;32mand\u001b[0m \u001b[0;32mnot\u001b[0m \u001b[0mcopy\u001b[0m\u001b[0;34m:\u001b[0m\u001b[0;34m\u001b[0m\u001b[0;34m\u001b[0m\u001b[0m\n",
      "\u001b[0;31mValueError\u001b[0m: Length of values does not match length of index"
     ]
    }
   ],
   "source": [
    "fold_importance_df = pd.DataFrame()\n",
    "fold_importance_df[\"feature\"] = predictor2\n",
    "fold_importance_df[\"importance\"] = bst.feature_importance()\n",
    "cols = (fold_importance_df[[\"feature\", \"importance\"]]\n",
    "        .groupby(\"feature\")\n",
    "        .mean()\n",
    "        .sort_values(by=\"importance\", ascending=False)[1000].index)\n",
    "\n",
    "best_features = fold_importance_df.loc[fold_importance_df.feature.isin(cols)]\n",
    "\n",
    "plt.figure(figsize=(14,25))\n",
    "sns.barplot(x=\"importance\",\n",
    "            y=\"feature\",\n",
    "            data=best_features.sort_values(by=\"importance\",\n",
    "                                           ascending=False))\n",
    "plt.title('LightGBM Features (avg over folds)')\n",
    "plt.tight_layout()\n",
    "plt.savefig('lgbm_importances.png')"
   ]
  },
  {
   "cell_type": "code",
   "execution_count": null,
   "metadata": {},
   "outputs": [],
   "source": [
    "fold_importance_df = pd.DataFrame()\n",
    "fold_importance_df[\"feature\"] = predictor2\n",
    "fold_importance_df[\"importance\"] = bst.feature_importance()\n",
    "cols = (fold_importance_df[[\"feature\", \"importance\"]]\n",
    "        .groupby(\"feature\")\n",
    "        .mean()\n",
    "        .sort_values(by=\"importance\", ascending=False)[:1000].index)\n",
    "\n",
    "best_features = fold_importance_df.loc[fold_importance_df.feature.isin(cols)]\n",
    "\n",
    "plt.figure(figsize=(14,25))\n",
    "sns.barplot(x=\"importance\",\n",
    "            y=\"feature\",\n",
    "            data=best_features.sort_values(by=\"importance\",\n",
    "                                           ascending=False))\n",
    "plt.title('LightGBM Features (avg over folds)')\n",
    "plt.tight_layout()\n",
    "plt.savefig('lgbm_importances.png')"
   ]
  },
  {
   "cell_type": "code",
   "execution_count": null,
   "metadata": {},
   "outputs": [],
   "source": [
    "fold_importance_df = pd.DataFrame()\n",
    "fold_importance_df[\"feature\"] = predictor2\n",
    "fold_importance_df[\"importance\"] = bst.feature_importance()\n",
    "cols = (fold_importance_df[[\"feature\", \"importance\"]]\n",
    "        .groupby(\"feature\")\n",
    "        .mean()\n",
    "        .sort_values(by=\"importance\", ascending=False)[:1000].index)\n",
    "\n",
    "best_features = fold_importance_df.loc[fold_importance_df.feature.isin(cols)]\n",
    "\n",
    "plt.figure(figsize=(14,25))\n",
    "sns.barplot(x=\"importance\",\n",
    "            y=\"feature\",\n",
    "            data=best_features.sort_values(by=\"importance\",\n",
    "                                           ascending=False))\n",
    "plt.title('LightGBM Features (avg over folds)')\n",
    "plt.tight_layout()\n",
    "plt.savefig('lgbm_importances.png')"
   ]
  },
  {
   "cell_type": "code",
   "execution_count": null,
   "metadata": {},
   "outputs": [],
   "source": []
  }
 ],
 "metadata": {
  "kernelspec": {
   "display_name": "Python 3",
   "language": "python",
   "name": "python3"
  },
  "language_info": {
   "codemirror_mode": {
    "name": "ipython",
    "version": 3
   },
   "file_extension": ".py",
   "mimetype": "text/x-python",
   "name": "python",
   "nbconvert_exporter": "python",
   "pygments_lexer": "ipython3",
   "version": "3.7.3"
  }
 },
 "nbformat": 4,
 "nbformat_minor": 2
}
