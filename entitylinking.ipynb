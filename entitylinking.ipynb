{
 "cells": [
  {
   "cell_type": "code",
   "execution_count": 9,
   "metadata": {},
   "outputs": [],
   "source": [
    "# coding:u8\n",
    "import json\n",
    "import numpy as np"
   ]
  },
  {
   "cell_type": "code",
   "execution_count": 2,
   "metadata": {},
   "outputs": [],
   "source": [
    "train_data = []\n",
    "with open('data/raw_data/train.json','r') as f:\n",
    "    for line in f:\n",
    "        train_data.append(json.loads(line))"
   ]
  },
  {
   "cell_type": "code",
   "execution_count": 12,
   "metadata": {},
   "outputs": [],
   "source": [
    "# 读取知识库\n",
    "kb_data = []\n",
    "kb = {}\n",
    "with open('data/raw_data/kb_data','r') as f:\n",
    "    for line in f:\n",
    "        item = json.loads(line)\n",
    "        kb[item['subject_id']] = item\n",
    "        kb_data.append(item)\n"
   ]
  },
  {
   "cell_type": "code",
   "execution_count": 4,
   "metadata": {},
   "outputs": [
    {
     "data": {
      "text/plain": [
       "{'text_id': '1',\n",
       " 'text': '南京南站:坐高铁在南京南站下。南京南站',\n",
       " 'mention_data': [{'kb_id': '311223', 'mention': '南京南站', 'offset': '0'},\n",
       "  {'kb_id': '341096', 'mention': '高铁', 'offset': '6'},\n",
       "  {'kb_id': '311223', 'mention': '南京南站', 'offset': '9'},\n",
       "  {'kb_id': '311223', 'mention': '南京南站', 'offset': '15'}]}"
      ]
     },
     "execution_count": 4,
     "metadata": {},
     "output_type": "execute_result"
    }
   ],
   "source": [
    "train_data[0]"
   ]
  },
  {
   "cell_type": "code",
   "execution_count": 5,
   "metadata": {},
   "outputs": [
    {
     "data": {
      "text/plain": [
       "{'alias': ['胜利'],\n",
       " 'subject_id': '10001',\n",
       " 'subject': '胜利',\n",
       " 'type': ['Thing'],\n",
       " 'data': [{'predicate': '摘要',\n",
       "   'object': '英雄联盟胜利系列皮肤是拳头公司制作的具有纪念意义限定系列皮肤之一。拳头公司制作的具有纪念意义限定系列皮肤还包括英雄联盟冠军系列皮肤、MSI季中冠军赛征服者系列以及英雄联盟全球总决赛冠军系列皮肤。每到赛季结束时，拳头公司都会制作胜利系列皮肤作为赛季奖励来认可那些在排位赛中勇猛拼搏达到黄金段位的玩家。'},\n",
       "  {'predicate': '制作方', 'object': 'Riot Games'},\n",
       "  {'predicate': '外文名', 'object': 'Victorious'},\n",
       "  {'predicate': '来源', 'object': '英雄联盟'},\n",
       "  {'predicate': '中文名', 'object': '胜利'},\n",
       "  {'predicate': '属性', 'object': '虚拟'},\n",
       "  {'predicate': '义项描述', 'object': '游戏《英雄联盟》胜利系列限定皮肤'}]}"
      ]
     },
     "execution_count": 5,
     "metadata": {},
     "output_type": "execute_result"
    }
   ],
   "source": [
    "kb_data[0]"
   ]
  },
  {
   "cell_type": "code",
   "execution_count": 8,
   "metadata": {},
   "outputs": [],
   "source": [
    "name_id = {}\n",
    "for kb in kb_data:\n",
    "    for item in kb['alias']:    \n",
    "        if item not in name_id:\n",
    "            name_id[item] = [kb['subject_id']]\n",
    "        else:\n",
    "            name_id[item].append(kb['subject_id'])\n",
    "    if kb['subject'] not in name_id:\n",
    "        name_id[kb['subject']] = [kb['subject_id']]\n",
    "    else:\n",
    "        name_id[kb['subject']].append(kb['subject_id'])"
   ]
  },
  {
   "cell_type": "code",
   "execution_count": 16,
   "metadata": {},
   "outputs": [
    {
     "name": "stdout",
     "output_type": "stream",
     "text": [
      "{'text_id': '2', 'text': '比特币吸粉无数,但央行的心另有所属|界面新闻 · jmedia', 'mention_data': [{'kb_id': '278410', 'mention': '比特币', 'offset': '0'}, {'kb_id': '199602', 'mention': '央行', 'offset': '9'}, {'kb_id': '215472', 'mention': '界面新闻', 'offset': '18'}]}\n",
      "{'alias': ['中国中央银行', '人民银行', '中国央行', \"People's Bank of China\", \"THE PEOPLE'S BANK OF CHINA\", '人行', '中国人行'], 'subject_id': '199602', 'subject': '中国人民银行', 'type': ['Organization'], 'data': [{'predicate': '摘要', 'object': \"中国人民银行(The People's Bank Of China，英文简称PBOC)，简称央行，是中华人民共和国的中央银行，中华人民共和国国务院组成部门。在国务院领导下，制定和执行货币政策，防范和化解金融风险，维护金融稳定。1948年12月1日，在华北银行、北海银行、西北农民银行的基础上在河北省石家庄市合并组成中国人民银行。1983年9月，国务院决定中国人民银行专门行使中国国家中央银行职能。1995年3月18日，第八届全国人民代表大会第三次会议通过了《中华人民共和国中国人民银行法》，至此，中国人民银行作为中央银行以法律形式被确定下来。中国人民银行根据《中华人民共和国中国人民银行法》的规定，在国务院的领导下依法独立执行货币政策，履行职责，开展业务，不受地方政府、社会团体和个人的干涉。\"}, {'predicate': '外文名', 'object': \"THE PEOPLE'S BANK OF CHINA\"}, {'predicate': '官网', 'object': 'http://www.pbc.gov.cn/'}, {'predicate': '主管部门', 'object': '国务院'}, {'predicate': '中文名', 'object': '中国人民银行'}, {'predicate': '成立', 'object': '1948年12月1日'}, {'predicate': '总部', 'object': '北京(总部)、上海(地区总部)'}, {'predicate': '现任行长', 'object': '易纲'}, {'predicate': '单位性质', 'object': '国务院组成部门'}, {'predicate': '义项描述', 'object': '中国人民银行'}, {'predicate': '标签', 'object': '组织机构'}, {'predicate': '标签', 'object': '经济组织'}]}\n",
      "{'alias': ['央行', 'central bank'], 'subject_id': '86638', 'subject': '中央银行', 'type': ['Organization', 'Vocabulary'], 'data': [{'predicate': '摘要', 'object': '中央银行(Central Bank)国家中居主导地位的金融中心机构，是国家干预和调控国民经济发展的重要工具。负责制定并执行国家货币信用政策，独具货币发行权，实行金融监管。中国的中央银行为中国人民银行，简称央行。'}, {'predicate': '产生', 'object': '于17世纪后叶'}, {'predicate': '外文名', 'object': 'Central Bank'}, {'predicate': '地位', 'object': '最高货币金融管理权，居主导地位'}, {'predicate': '中文名', 'object': '中央银行'}, {'predicate': '性质', 'object': '特殊的金融组织机构'}, {'predicate': '义项描述', 'object': '中央银行'}, {'predicate': '标签', 'object': '组织机构'}, {'predicate': '标签', 'object': '社会'}, {'predicate': '标签', 'object': '金融'}]}\n",
      "{'text_id': '5', 'text': '毛泽东扮演者赵新月评《大秧歌》“大”在哪', 'mention_data': [{'kb_id': '289026', 'mention': '毛泽东', 'offset': '0'}, {'kb_id': 'NIL', 'mention': '赵新月', 'offset': '6'}, {'kb_id': '335162', 'mention': '大秧歌', 'offset': '11'}]}\n",
      "{'alias': ['石三伢子', '二十八画生 ', '毛泽东', '李德胜', '毛主席', '李得胜', '二十八画生', '石三伢子', '毛泽东(1893～1976)', 'Mao Tze-dong', '毛润之', '毛子任', '毛泽东主席'], 'subject_id': '289026', 'subject': '毛泽东', 'type': ['Human'], 'data': [{'predicate': '摘要', 'object': '毛泽东(1893年12月26日-1976年9月9日)，字润之(原作咏芝，后改润芝)，笔名子任。湖南湘潭人。中国人民的领袖，马克思主义者，伟大的无产阶级革命家、战略家和理论家，中国共产党、中国人民解放军和中华人民共和国的主要缔造者和领导人，诗人，书法家。1949至1976年，毛泽东担任中华人民共和国最高领导人。他对马克思列宁主义的发展、军事理论的贡献以及对共产党的理论贡献被称为毛泽东思想。因毛泽东担任过的主要职务几乎全部称为主席，所以也被人们尊称为“毛主席”。毛泽东被视为现代世界历史中最重要的人物之一，《时代》杂志也将他评为20世纪最具影响100人之一。'}, {'predicate': '出生地', 'object': '湖南省长沙府湘潭县韶山冲'}, {'predicate': '毕业院校', 'object': '湖南省立第一师范学校'}, {'predicate': '代表作品', 'object': '《矛盾论》、《实践论》、《论持久战》、《沁园春·雪》等'}, {'predicate': '逝世日期', 'object': '1976年09月09日'}, {'predicate': '别名', 'object': '石三伢子、二十八画生 等'}, {'predicate': '信仰', 'object': '马列主义'}, {'predicate': '中文名', 'object': '毛泽东'}, {'predicate': '国籍', 'object': '中华人民共和国'}, {'predicate': '出生日期', 'object': '1893年12月26日'}, {'predicate': '民族', 'object': '汉'}, {'predicate': '主要成就', 'object': '领导夺取新民主主义革命的胜利,毛泽东思想的主要创立者'}, {'predicate': '义项描述', 'object': '无产阶级革命家'}, {'predicate': '标签', 'object': '政治人物'}, {'predicate': '标签', 'object': '二战'}, {'predicate': '标签', 'object': '二战人物'}, {'predicate': '标签', 'object': '人物'}, {'predicate': '标签', 'object': '元首'}, {'predicate': '标签', 'object': '历史'}]}\n",
      "{'alias': ['毛泽东', '毛子任', '毛润之'], 'subject_id': '322078', 'subject': '毛主席故居', 'type': ['Human'], 'data': [{'predicate': '摘要', 'object': '位于北京东城区景山东街三眼井吉安所东巷8号，是毛泽东1918—1919年在京时的住所。毛泽东北京大学图书馆任助理管理员。为工作方便，与蔡和森、罗章龙等七人共同租下此地的三间北房。在此期间，毛泽东边工作，边在北京大学旁听，并开始研读马列主义，直到1919年离京去上海。1979年，毛主席故居被列为北京市文物保护单位。'}, {'predicate': '出生地', 'object': '湖南'}, {'predicate': '毕业院校', 'object': '湖南省立第一师范学校'}, {'predicate': '代表作品', 'object': '《毛泽东选集》《清平乐·蒋桂战争》《采桑子·重阳》'}, {'predicate': '逝世日期', 'object': '1976-09-09'}, {'predicate': '别名', 'object': '毛子任，毛润之'}, {'predicate': '信仰', 'object': '马列主义'}, {'predicate': '中文名', 'object': '毛泽东'}, {'predicate': '国籍', 'object': '中国'}, {'predicate': '出生日期', 'object': '1893年12月26日'}, {'predicate': '职业', 'object': '师范专业'}, {'predicate': '民族', 'object': '汉族'}, {'predicate': '主要成就', 'object': '中国人民解放军的主要创始人,领导中国人民抗击日本侵略者'}, {'predicate': '义项描述', 'object': '毛主席故居'}, {'predicate': '标签', 'object': '生活'}, {'predicate': '标签', 'object': '地理'}, {'predicate': '标签', 'object': '文物考古'}, {'predicate': '标签', 'object': '旅游'}, {'predicate': '标签', 'object': '地点'}, {'predicate': '标签', 'object': '历史'}]}\n",
      "{'alias': ['Mao Tsetung', '毛泽东', '石三伢子', '二十八画生'], 'subject_id': '348459', 'subject': 'MAOTSETUNG', 'type': ['Human'], 'data': [{'predicate': '出生地', 'object': '湖南省长沙府湘潭县韶山冲'}, {'predicate': '外文名', 'object': 'Mao Tsetung'}, {'predicate': '毕业院校', 'object': '湖南省立第一师范学校'}, {'predicate': '代表作品', 'object': '《沁园春·雪》《七律·长征》《论持久战》'}, {'predicate': '逝世日期', 'object': '1976年09月09日'}, {'predicate': '别名', 'object': '石三伢子、二十八画生等'}, {'predicate': '信仰', 'object': '马列主义'}, {'predicate': '中文名', 'object': '毛泽东'}, {'predicate': '国籍', 'object': '中华人民共和国'}, {'predicate': '出生日期', 'object': '1893年12月26日'}, {'predicate': '职业', 'object': '无产阶级革命家'}, {'predicate': '民族', 'object': '汉'}, {'predicate': '主要成就', 'object': '领导夺取新民主主义革命的胜利'}, {'predicate': '义项描述', 'object': 'MAOTSETUNG'}, {'predicate': '标签', 'object': '人物'}, {'predicate': '标签', 'object': '科技产品'}]}\n",
      "{'alias': ['石三伢子', '二十八画生 ', '毛泽东', '李德胜', '毛主席', '李得胜', '二十八画生', '石三伢子', '毛泽东(1893～1976)', 'Mao Tze-dong', '毛润之', '毛子任', '毛泽东主席'], 'subject_id': '289026', 'subject': '毛泽东', 'type': ['Human'], 'data': [{'predicate': '摘要', 'object': '毛泽东(1893年12月26日-1976年9月9日)，字润之(原作咏芝，后改润芝)，笔名子任。湖南湘潭人。中国人民的领袖，马克思主义者，伟大的无产阶级革命家、战略家和理论家，中国共产党、中国人民解放军和中华人民共和国的主要缔造者和领导人，诗人，书法家。1949至1976年，毛泽东担任中华人民共和国最高领导人。他对马克思列宁主义的发展、军事理论的贡献以及对共产党的理论贡献被称为毛泽东思想。因毛泽东担任过的主要职务几乎全部称为主席，所以也被人们尊称为“毛主席”。毛泽东被视为现代世界历史中最重要的人物之一，《时代》杂志也将他评为20世纪最具影响100人之一。'}, {'predicate': '出生地', 'object': '湖南省长沙府湘潭县韶山冲'}, {'predicate': '毕业院校', 'object': '湖南省立第一师范学校'}, {'predicate': '代表作品', 'object': '《矛盾论》、《实践论》、《论持久战》、《沁园春·雪》等'}, {'predicate': '逝世日期', 'object': '1976年09月09日'}, {'predicate': '别名', 'object': '石三伢子、二十八画生 等'}, {'predicate': '信仰', 'object': '马列主义'}, {'predicate': '中文名', 'object': '毛泽东'}, {'predicate': '国籍', 'object': '中华人民共和国'}, {'predicate': '出生日期', 'object': '1893年12月26日'}, {'predicate': '民族', 'object': '汉'}, {'predicate': '主要成就', 'object': '领导夺取新民主主义革命的胜利,毛泽东思想的主要创立者'}, {'predicate': '义项描述', 'object': '无产阶级革命家'}, {'predicate': '标签', 'object': '政治人物'}, {'predicate': '标签', 'object': '二战'}, {'predicate': '标签', 'object': '二战人物'}, {'predicate': '标签', 'object': '人物'}, {'predicate': '标签', 'object': '元首'}, {'predicate': '标签', 'object': '历史'}]}\n",
      "{'alias': ['毛泽东'], 'subject_id': '43905', 'subject': '毛泽东哲学思想', 'type': ['Human'], 'data': [{'predicate': '摘要', 'object': '毛泽东以泰山之势总齐宇内席卷八荒。这涉及到对于毛泽东思想如何去理解。毛泽东哲学思想可以通过一把钥匙也就是三句话去理解去开启。'}, {'predicate': '出生地', 'object': '湖南省湘潭县'}, {'predicate': '逝世日期', 'object': '1976年9月9日'}, {'predicate': '中文名', 'object': '毛泽东'}, {'predicate': '国籍', 'object': '中国'}, {'predicate': '出生日期', 'object': '1893年12月26日'}, {'predicate': '职业', 'object': '中共中央主席'}, {'predicate': '民族', 'object': '汉族'}, {'predicate': '义项描述', 'object': '毛泽东哲学思想'}, {'predicate': '标签', 'object': '出版物'}, {'predicate': '标签', 'object': '书籍'}]}\n",
      "{'alias': ['毛泽东', '李得胜'], 'subject_id': '30123', 'subject': '中国人民政治协商会议第一届全体会议宣言', 'type': ['Human'], 'data': [{'predicate': '摘要', 'object': '中国人民政治协商会议第一届全体会议包含了全中国所有的民主党派、人民团体、人民解放军、各地区、各民族、国外华侨和其他爱国民主分子的代表，代表了全国人民的意志，表现了全国人民空前的大团结。'}, {'predicate': '出生地', 'object': '湖南省长沙府湘潭县韶山冲'}, {'predicate': '毕业院校', 'object': '湖南省立第一师范学校'}, {'predicate': '代表作品', 'object': '《沁园春·雪》《七律·长征》'}, {'predicate': '逝世日期', 'object': '1976年09月09日'}, {'predicate': '别名', 'object': '李得胜'}, {'predicate': '信仰', 'object': '马列主义'}, {'predicate': '中文名', 'object': '毛泽东'}, {'predicate': '国籍', 'object': '中华人民共和国'}, {'predicate': '出生日期', 'object': '1893年12月26日'}, {'predicate': '职业', 'object': '中华人民共和国国家主席'}, {'predicate': '民族', 'object': '汉'}, {'predicate': '主要成就', 'object': '领导夺取新民主主义革命的胜利,毛泽东思想的主要创立者,五年计划的完成'}, {'predicate': '义项描述', 'object': '中国人民政治协商会议第一届全体会议宣言'}, {'predicate': '标签', 'object': '近代史'}, {'predicate': '标签', 'object': '出版物'}, {'predicate': '标签', 'object': '公文'}, {'predicate': '标签', 'object': '历史'}, {'predicate': '标签', 'object': '政治军事书籍'}]}\n",
      "{'alias': ['MAO zedong', '毛泽东', '润之'], 'subject_id': '58227', 'subject': '诗人毛泽东', 'type': ['Human'], 'data': [{'predicate': '摘要', 'object': '通过书籍《诗人毛泽东》，可以看出毛泽东的诗词题材广博，内涵深邃，文情并茂，气势磅礴，而且在国内外有深远的影响。本书是大型电视文献艺术片《独领风骚——诗人毛泽东》的解说词。全书从一个独特的视角，让我们再次走近毛泽东，它侧重展示了凡人毛泽东、诗人毛泽东的传奇般人生经历，让我们知晓毛泽东诗句背后，那些鲜为人知的动人故事。'}, {'predicate': '出生地', 'object': '湖南 湘潭'}, {'predicate': '外文名', 'object': 'MAO zedong'}, {'predicate': '毕业院校', 'object': '湖南省立第一师范学校'}, {'predicate': '逝世日期', 'object': '1976年9月9日'}, {'predicate': '别名', 'object': '润之'}, {'predicate': '信仰', 'object': '马列主义'}, {'predicate': '中文名', 'object': '毛泽东'}, {'predicate': '国籍', 'object': '中国'}, {'predicate': '出生日期', 'object': '1893年12月26日'}, {'predicate': '民族', 'object': '汉族'}, {'predicate': '主要成就', 'object': '领导夺取新民主主义革命的胜利毛泽东思想的主要创立者'}, {'predicate': '义项描述', 'object': '诗人毛泽东'}, {'predicate': '标签', 'object': '文化'}]}\n",
      "{'alias': ['毛泽东', '石三伢子', '二十八画生 '], 'subject_id': '176693', 'subject': '跟毛泽东学诗词', 'type': ['Human'], 'data': [{'predicate': '摘要', 'object': '《跟毛泽东学诗词》由刘先银教授编著。诗词渗透着毛泽东思想哲理，是毛泽东文艺思想亲自实践的范例。阅读本书不仅可以从创作背景、诗意赏析、典故了同处注释等详尽资料中欣赏毛泽东诗词“湖海荡波澜，全无斧凿痕”之美，而且还可以欣赏毛泽东手书真迹及历史珍贵图片。让我们走入毛泽东诗词的瑰丽世界，领略毛泽东的伟大人格境界吧！期待着该书能给大家带来一次引人入胜、美不胜收的精神远足和灵魂的洗礼！'}, {'predicate': '出生地', 'object': '湖南省长沙府湘潭县韶山冲'}, {'predicate': '毕业院校', 'object': '湖南省立第一师范学校'}, {'predicate': '代表作品', 'object': '《矛盾论》《实践论》《论持久战》《沁园春·雪》《七律·长征》'}, {'predicate': '逝世日期', 'object': '1976年09月09日'}, {'predicate': '别名', 'object': '石三伢子、二十八画生 等'}, {'predicate': '信仰', 'object': '马列主义'}, {'predicate': '中文名', 'object': '毛泽东'}, {'predicate': '国籍', 'object': '中华人民共和国'}, {'predicate': '出生日期', 'object': '1893年12月26日'}, {'predicate': '民族', 'object': '汉'}, {'predicate': '主要成就', 'object': '领导夺取新民主主义革命的胜利,毛泽东思想的主要创立者'}, {'predicate': '义项描述', 'object': '跟毛泽东学诗词'}, {'predicate': '标签', 'object': '出版物'}, {'predicate': '标签', 'object': '书籍'}]}\n",
      "{'alias': ['毛泽东', '毛主席'], 'subject_id': '404718', 'subject': '怀念毛主席', 'type': ['Human'], 'data': [{'predicate': '摘要', 'object': '毛主席的名字已经成为中华民族一座不朽的丰碑，成为中华儿女永恒的骄傲。 他将永远的活在中国人民的心中，永垂不朽！'}, {'predicate': '国籍', 'object': '中国'}, {'predicate': '民族', 'object': '汉'}, {'predicate': '别名', 'object': '毛主席'}, {'predicate': '中文名', 'object': '毛泽东'}, {'predicate': '主要成就', 'object': '毛泽东思想'}, {'predicate': '义项描述', 'object': '怀念毛主席'}, {'predicate': '标签', 'object': '文学作品'}, {'predicate': '标签', 'object': '书籍'}]}\n"
     ]
    }
   ],
   "source": [
    "for index,sentence in enumerate(train_data):\n",
    "    for m in sentence['mention_data']:\n",
    "        if m['mention'] not in name_id:\n",
    "            continue\n",
    "        answer_type = kb[m['kb_id']]['type'][0]\n",
    "        candidate = []\n",
    "        for mid in name_id[m['mention']]:\n",
    "            if kb[mid]['type'][0]==answer_type:\n",
    "                candidate.append(mid)\n",
    "        candidate = list(set(candidate))\n",
    "        if np.random.choice(candidate,1)!=m['kb_id']:\n",
    "            print(sentence)\n",
    "            print(kb[m['kb_id']])\n",
    "            for i in candidate:\n",
    "                print(kb[i])\n",
    "    if index==5:break"
   ]
  },
  {
   "cell_type": "code",
   "execution_count": 11,
   "metadata": {},
   "outputs": [
    {
     "data": {
      "text/plain": [
       "{'alias': ['诅咒之子'],\n",
       " 'subject_id': '409252',\n",
       " 'subject': '诅咒之子',\n",
       " 'type': ['CreativeWork'],\n",
       " 'data': [{'predicate': '摘要', 'object': '诅咒之子，即小说《妖狐—诅咒之子》。该小说由香品紫狐编著。'},\n",
       "  {'predicate': '系列', 'object': '妖狐'},\n",
       "  {'predicate': '作者', 'object': '香品紫狐'},\n",
       "  {'predicate': '全文长度', 'object': '61568字'},\n",
       "  {'predicate': '中文名', 'object': '诅咒之子'},\n",
       "  {'predicate': '义项描述', 'object': '小说《妖狐—诅咒之子》'},\n",
       "  {'predicate': '标签', 'object': '文学作品'},\n",
       "  {'predicate': '标签', 'object': '娱乐作品'},\n",
       "  {'predicate': '标签', 'object': '玄幻小说'},\n",
       "  {'predicate': '标签', 'object': '小说作品'},\n",
       "  {'predicate': '标签', 'object': '小说'},\n",
       "  {'predicate': '标签', 'object': '书籍'}]}"
      ]
     },
     "execution_count": 11,
     "metadata": {},
     "output_type": "execute_result"
    }
   ],
   "source": [
    "kb"
   ]
  },
  {
   "cell_type": "code",
   "execution_count": null,
   "metadata": {},
   "outputs": [],
   "source": []
  }
 ],
 "metadata": {
  "kernelspec": {
   "display_name": "Python 3",
   "language": "python",
   "name": "python3"
  },
  "language_info": {
   "codemirror_mode": {
    "name": "ipython",
    "version": 3
   },
   "file_extension": ".py",
   "mimetype": "text/x-python",
   "name": "python",
   "nbconvert_exporter": "python",
   "pygments_lexer": "ipython3",
   "version": "3.7.3"
  }
 },
 "nbformat": 4,
 "nbformat_minor": 2
}
