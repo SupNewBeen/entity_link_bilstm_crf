{
 "cells": [
  {
   "cell_type": "code",
   "execution_count": 1,
   "metadata": {},
   "outputs": [],
   "source": [
    "# coding:u8\n",
    "import json\n",
    "import numpy as np"
   ]
  },
  {
   "cell_type": "code",
   "execution_count": 2,
   "metadata": {},
   "outputs": [],
   "source": [
    "train_data = []\n",
    "with open('data/raw_data/train.json','r') as f:\n",
    "    for line in f:\n",
    "        train_data.append(json.loads(line))"
   ]
  },
  {
   "cell_type": "code",
   "execution_count": 3,
   "metadata": {},
   "outputs": [],
   "source": [
    "# 读取知识库\n",
    "kb_data = []\n",
    "kb = {}\n",
    "with open('data/raw_data/kb_data','r') as f:\n",
    "    for line in f:\n",
    "        item = json.loads(line)\n",
    "        kb[item['subject_id']] = item\n",
    "        kb_data.append(item)\n"
   ]
  },
  {
   "cell_type": "code",
   "execution_count": 4,
   "metadata": {},
   "outputs": [
    {
     "data": {
      "text/plain": [
       "{'text_id': '1',\n",
       " 'text': '南京南站:坐高铁在南京南站下。南京南站',\n",
       " 'mention_data': [{'kb_id': '311223', 'mention': '南京南站', 'offset': '0'},\n",
       "  {'kb_id': '341096', 'mention': '高铁', 'offset': '6'},\n",
       "  {'kb_id': '311223', 'mention': '南京南站', 'offset': '9'},\n",
       "  {'kb_id': '311223', 'mention': '南京南站', 'offset': '15'}]}"
      ]
     },
     "execution_count": 4,
     "metadata": {},
     "output_type": "execute_result"
    }
   ],
   "source": [
    "train_data[0]"
   ]
  },
  {
   "cell_type": "code",
   "execution_count": 5,
   "metadata": {},
   "outputs": [
    {
     "data": {
      "text/plain": [
       "{'alias': ['胜利'],\n",
       " 'subject_id': '10001',\n",
       " 'subject': '胜利',\n",
       " 'type': ['Thing'],\n",
       " 'data': [{'predicate': '摘要',\n",
       "   'object': '英雄联盟胜利系列皮肤是拳头公司制作的具有纪念意义限定系列皮肤之一。拳头公司制作的具有纪念意义限定系列皮肤还包括英雄联盟冠军系列皮肤、MSI季中冠军赛征服者系列以及英雄联盟全球总决赛冠军系列皮肤。每到赛季结束时，拳头公司都会制作胜利系列皮肤作为赛季奖励来认可那些在排位赛中勇猛拼搏达到黄金段位的玩家。'},\n",
       "  {'predicate': '制作方', 'object': 'Riot Games'},\n",
       "  {'predicate': '外文名', 'object': 'Victorious'},\n",
       "  {'predicate': '来源', 'object': '英雄联盟'},\n",
       "  {'predicate': '中文名', 'object': '胜利'},\n",
       "  {'predicate': '属性', 'object': '虚拟'},\n",
       "  {'predicate': '义项描述', 'object': '游戏《英雄联盟》胜利系列限定皮肤'}]}"
      ]
     },
     "execution_count": 5,
     "metadata": {},
     "output_type": "execute_result"
    }
   ],
   "source": [
    "kb_data[0]"
   ]
  },
  {
   "cell_type": "code",
   "execution_count": 6,
   "metadata": {},
   "outputs": [],
   "source": [
    "name_id = {}\n",
    "for kb_item in kb_data:\n",
    "    for item in kb_item['alias']:    \n",
    "        if item not in name_id:\n",
    "            name_id[item] = [kb_item['subject_id']]\n",
    "        else:\n",
    "            name_id[item].append(kb_item['subject_id'])\n",
    "    if kb_item['subject'] not in name_id:\n",
    "        name_id[kb_item['subject']] = [kb_item['subject_id']]\n",
    "    else:\n",
    "        name_id[kb_item['subject']].append(kb_item['subject_id'])"
   ]
  },
  {
   "cell_type": "code",
   "execution_count": 8,
   "metadata": {},
   "outputs": [
    {
     "name": "stdout",
     "output_type": "stream",
     "text": [
      "王平\n",
      "王超\n",
      "王峰\n",
      "李军\n",
      "张宁\n",
      "王芳\n",
      "王伟\n",
      "王建华\n",
      "王刚\n",
      "李敏\n",
      "李伟\n",
      "刘斌\n",
      "妈妈\n",
      "一个人\n",
      "杨勇\n",
      "张建华\n",
      "张敏\n",
      "刘峰\n",
      "石磊\n",
      "王静\n",
      "王强\n",
      "张伟\n",
      "陈军\n",
      "李刚\n",
      "王华\n",
      "李俊\n",
      "李杰\n",
      "张军\n",
      "张勇\n",
      "第一季\n",
      "刘杰\n",
      "王毅\n",
      "杨杰\n",
      "王辉\n",
      "王勇\n",
      "杨光\n",
      "王健\n",
      "刘敏\n",
      "王宏\n",
      "兄弟\n",
      "刘涛\n",
      "王敏\n",
      "我们\n",
      "张健\n",
      "新华村\n",
      "张磊\n",
      "Angel\n",
      "等待\n",
      "万达广场\n",
      "李健\n",
      "陈平\n",
      "刘军\n",
      "爱\n",
      "王军\n",
      "杨斌\n",
      "刘平\n",
      "李斌\n",
      "陈刚\n",
      "张静\n",
      "高峰\n",
      "李峰\n",
      "王林\n",
      "刘伟\n",
      "张杰\n",
      "刘刚\n",
      "刘勇\n",
      "我爱你\n",
      "刘洋\n",
      "陈华\n",
      "张涛\n",
      "陈明\n",
      "李静\n",
      "李莉\n",
      "王鹏\n",
      "回家\n",
      "张明\n",
      "陈静\n",
      "陈杰\n",
      "黄勇\n",
      "杨帆\n",
      "张辉\n",
      "李波\n",
      "陈波\n",
      "张莉\n",
      "陈涛\n"
     ]
    }
   ],
   "source": [
    "a = []\n",
    "for v in name_id:\n",
    "    if len(name_id[v])>200:\n",
    "        print(v)"
   ]
  },
  {
   "cell_type": "code",
   "execution_count": 15,
   "metadata": {},
   "outputs": [
    {
     "name": "stdout",
     "output_type": "stream",
     "text": [
      "{'text_id': '2', 'text': '比特币吸粉无数,但央行的心另有所属|界面新闻 · jmedia', 'mention_data': [{'kb_id': '278410', 'mention': '比特币', 'offset': '0'}, {'kb_id': '199602', 'mention': '央行', 'offset': '9'}, {'kb_id': '215472', 'mention': '界面新闻', 'offset': '18'}]}\n",
      "{'alias': ['中国中央银行', '人民银行', '中国央行', \"People's Bank of China\", \"THE PEOPLE'S BANK OF CHINA\", '人行', '中国人行'], 'subject_id': '199602', 'subject': '中国人民银行', 'type': ['Organization'], 'data': [{'predicate': '摘要', 'object': \"中国人民银行(The People's Bank Of China，英文简称PBOC)，简称央行，是中华人民共和国的中央银行，中华人民共和国国务院组成部门。在国务院领导下，制定和执行货币政策，防范和化解金融风险，维护金融稳定。1948年12月1日，在华北银行、北海银行、西北农民银行的基础上在河北省石家庄市合并组成中国人民银行。1983年9月，国务院决定中国人民银行专门行使中国国家中央银行职能。1995年3月18日，第八届全国人民代表大会第三次会议通过了《中华人民共和国中国人民银行法》，至此，中国人民银行作为中央银行以法律形式被确定下来。中国人民银行根据《中华人民共和国中国人民银行法》的规定，在国务院的领导下依法独立执行货币政策，履行职责，开展业务，不受地方政府、社会团体和个人的干涉。\"}, {'predicate': '外文名', 'object': \"THE PEOPLE'S BANK OF CHINA\"}, {'predicate': '官网', 'object': 'http://www.pbc.gov.cn/'}, {'predicate': '主管部门', 'object': '国务院'}, {'predicate': '中文名', 'object': '中国人民银行'}, {'predicate': '成立', 'object': '1948年12月1日'}, {'predicate': '总部', 'object': '北京(总部)、上海(地区总部)'}, {'predicate': '现任行长', 'object': '易纲'}, {'predicate': '单位性质', 'object': '国务院组成部门'}, {'predicate': '义项描述', 'object': '中国人民银行'}, {'predicate': '标签', 'object': '组织机构'}, {'predicate': '标签', 'object': '经济组织'}]}\n",
      "{'alias': ['央行', 'central bank'], 'subject_id': '86638', 'subject': '中央银行', 'type': ['Organization', 'Vocabulary'], 'data': [{'predicate': '摘要', 'object': '中央银行(Central Bank)国家中居主导地位的金融中心机构，是国家干预和调控国民经济发展的重要工具。负责制定并执行国家货币信用政策，独具货币发行权，实行金融监管。中国的中央银行为中国人民银行，简称央行。'}, {'predicate': '产生', 'object': '于17世纪后叶'}, {'predicate': '外文名', 'object': 'Central Bank'}, {'predicate': '地位', 'object': '最高货币金融管理权，居主导地位'}, {'predicate': '中文名', 'object': '中央银行'}, {'predicate': '性质', 'object': '特殊的金融组织机构'}, {'predicate': '义项描述', 'object': '中央银行'}, {'predicate': '标签', 'object': '组织机构'}, {'predicate': '标签', 'object': '社会'}, {'predicate': '标签', 'object': '金融'}]}\n",
      "{'text_id': '5', 'text': '毛泽东扮演者赵新月评《大秧歌》“大”在哪', 'mention_data': [{'kb_id': '289026', 'mention': '毛泽东', 'offset': '0'}, {'kb_id': 'NIL', 'mention': '赵新月', 'offset': '6'}, {'kb_id': '335162', 'mention': '大秧歌', 'offset': '11'}]}\n",
      "{'alias': ['石三伢子', '二十八画生 ', '毛泽东', '李德胜', '毛主席', '李得胜', '二十八画生', '石三伢子', '毛泽东(1893～1976)', 'Mao Tze-dong', '毛润之', '毛子任', '毛泽东主席'], 'subject_id': '289026', 'subject': '毛泽东', 'type': ['Human'], 'data': [{'predicate': '摘要', 'object': '毛泽东(1893年12月26日-1976年9月9日)，字润之(原作咏芝，后改润芝)，笔名子任。湖南湘潭人。中国人民的领袖，马克思主义者，伟大的无产阶级革命家、战略家和理论家，中国共产党、中国人民解放军和中华人民共和国的主要缔造者和领导人，诗人，书法家。1949至1976年，毛泽东担任中华人民共和国最高领导人。他对马克思列宁主义的发展、军事理论的贡献以及对共产党的理论贡献被称为毛泽东思想。因毛泽东担任过的主要职务几乎全部称为主席，所以也被人们尊称为“毛主席”。毛泽东被视为现代世界历史中最重要的人物之一，《时代》杂志也将他评为20世纪最具影响100人之一。'}, {'predicate': '出生地', 'object': '湖南省长沙府湘潭县韶山冲'}, {'predicate': '毕业院校', 'object': '湖南省立第一师范学校'}, {'predicate': '代表作品', 'object': '《矛盾论》、《实践论》、《论持久战》、《沁园春·雪》等'}, {'predicate': '逝世日期', 'object': '1976年09月09日'}, {'predicate': '别名', 'object': '石三伢子、二十八画生 等'}, {'predicate': '信仰', 'object': '马列主义'}, {'predicate': '中文名', 'object': '毛泽东'}, {'predicate': '国籍', 'object': '中华人民共和国'}, {'predicate': '出生日期', 'object': '1893年12月26日'}, {'predicate': '民族', 'object': '汉'}, {'predicate': '主要成就', 'object': '领导夺取新民主主义革命的胜利,毛泽东思想的主要创立者'}, {'predicate': '义项描述', 'object': '无产阶级革命家'}, {'predicate': '标签', 'object': '政治人物'}, {'predicate': '标签', 'object': '二战'}, {'predicate': '标签', 'object': '二战人物'}, {'predicate': '标签', 'object': '人物'}, {'predicate': '标签', 'object': '元首'}, {'predicate': '标签', 'object': '历史'}]}\n",
      "{'alias': ['MAO zedong', '毛泽东', '润之'], 'subject_id': '58227', 'subject': '诗人毛泽东', 'type': ['Human'], 'data': [{'predicate': '摘要', 'object': '通过书籍《诗人毛泽东》，可以看出毛泽东的诗词题材广博，内涵深邃，文情并茂，气势磅礴，而且在国内外有深远的影响。本书是大型电视文献艺术片《独领风骚——诗人毛泽东》的解说词。全书从一个独特的视角，让我们再次走近毛泽东，它侧重展示了凡人毛泽东、诗人毛泽东的传奇般人生经历，让我们知晓毛泽东诗句背后，那些鲜为人知的动人故事。'}, {'predicate': '出生地', 'object': '湖南 湘潭'}, {'predicate': '外文名', 'object': 'MAO zedong'}, {'predicate': '毕业院校', 'object': '湖南省立第一师范学校'}, {'predicate': '逝世日期', 'object': '1976年9月9日'}, {'predicate': '别名', 'object': '润之'}, {'predicate': '信仰', 'object': '马列主义'}, {'predicate': '中文名', 'object': '毛泽东'}, {'predicate': '国籍', 'object': '中国'}, {'predicate': '出生日期', 'object': '1893年12月26日'}, {'predicate': '民族', 'object': '汉族'}, {'predicate': '主要成就', 'object': '领导夺取新民主主义革命的胜利毛泽东思想的主要创立者'}, {'predicate': '义项描述', 'object': '诗人毛泽东'}, {'predicate': '标签', 'object': '文化'}]}\n",
      "{'alias': ['毛泽东', '石三伢子', '二十八画生 '], 'subject_id': '176693', 'subject': '跟毛泽东学诗词', 'type': ['Human'], 'data': [{'predicate': '摘要', 'object': '《跟毛泽东学诗词》由刘先银教授编著。诗词渗透着毛泽东思想哲理，是毛泽东文艺思想亲自实践的范例。阅读本书不仅可以从创作背景、诗意赏析、典故了同处注释等详尽资料中欣赏毛泽东诗词“湖海荡波澜，全无斧凿痕”之美，而且还可以欣赏毛泽东手书真迹及历史珍贵图片。让我们走入毛泽东诗词的瑰丽世界，领略毛泽东的伟大人格境界吧！期待着该书能给大家带来一次引人入胜、美不胜收的精神远足和灵魂的洗礼！'}, {'predicate': '出生地', 'object': '湖南省长沙府湘潭县韶山冲'}, {'predicate': '毕业院校', 'object': '湖南省立第一师范学校'}, {'predicate': '代表作品', 'object': '《矛盾论》《实践论》《论持久战》《沁园春·雪》《七律·长征》'}, {'predicate': '逝世日期', 'object': '1976年09月09日'}, {'predicate': '别名', 'object': '石三伢子、二十八画生 等'}, {'predicate': '信仰', 'object': '马列主义'}, {'predicate': '中文名', 'object': '毛泽东'}, {'predicate': '国籍', 'object': '中华人民共和国'}, {'predicate': '出生日期', 'object': '1893年12月26日'}, {'predicate': '民族', 'object': '汉'}, {'predicate': '主要成就', 'object': '领导夺取新民主主义革命的胜利,毛泽东思想的主要创立者'}, {'predicate': '义项描述', 'object': '跟毛泽东学诗词'}, {'predicate': '标签', 'object': '出版物'}, {'predicate': '标签', 'object': '书籍'}]}\n",
      "{'alias': ['Mao Tsetung', '毛泽东', '石三伢子', '二十八画生'], 'subject_id': '348459', 'subject': 'MAOTSETUNG', 'type': ['Human'], 'data': [{'predicate': '出生地', 'object': '湖南省长沙府湘潭县韶山冲'}, {'predicate': '外文名', 'object': 'Mao Tsetung'}, {'predicate': '毕业院校', 'object': '湖南省立第一师范学校'}, {'predicate': '代表作品', 'object': '《沁园春·雪》《七律·长征》《论持久战》'}, {'predicate': '逝世日期', 'object': '1976年09月09日'}, {'predicate': '别名', 'object': '石三伢子、二十八画生等'}, {'predicate': '信仰', 'object': '马列主义'}, {'predicate': '中文名', 'object': '毛泽东'}, {'predicate': '国籍', 'object': '中华人民共和国'}, {'predicate': '出生日期', 'object': '1893年12月26日'}, {'predicate': '职业', 'object': '无产阶级革命家'}, {'predicate': '民族', 'object': '汉'}, {'predicate': '主要成就', 'object': '领导夺取新民主主义革命的胜利'}, {'predicate': '义项描述', 'object': 'MAOTSETUNG'}, {'predicate': '标签', 'object': '人物'}, {'predicate': '标签', 'object': '科技产品'}]}\n",
      "{'alias': ['毛泽东', '李得胜'], 'subject_id': '30123', 'subject': '中国人民政治协商会议第一届全体会议宣言', 'type': ['Human'], 'data': [{'predicate': '摘要', 'object': '中国人民政治协商会议第一届全体会议包含了全中国所有的民主党派、人民团体、人民解放军、各地区、各民族、国外华侨和其他爱国民主分子的代表，代表了全国人民的意志，表现了全国人民空前的大团结。'}, {'predicate': '出生地', 'object': '湖南省长沙府湘潭县韶山冲'}, {'predicate': '毕业院校', 'object': '湖南省立第一师范学校'}, {'predicate': '代表作品', 'object': '《沁园春·雪》《七律·长征》'}, {'predicate': '逝世日期', 'object': '1976年09月09日'}, {'predicate': '别名', 'object': '李得胜'}, {'predicate': '信仰', 'object': '马列主义'}, {'predicate': '中文名', 'object': '毛泽东'}, {'predicate': '国籍', 'object': '中华人民共和国'}, {'predicate': '出生日期', 'object': '1893年12月26日'}, {'predicate': '职业', 'object': '中华人民共和国国家主席'}, {'predicate': '民族', 'object': '汉'}, {'predicate': '主要成就', 'object': '领导夺取新民主主义革命的胜利,毛泽东思想的主要创立者,五年计划的完成'}, {'predicate': '义项描述', 'object': '中国人民政治协商会议第一届全体会议宣言'}, {'predicate': '标签', 'object': '近代史'}, {'predicate': '标签', 'object': '出版物'}, {'predicate': '标签', 'object': '公文'}, {'predicate': '标签', 'object': '历史'}, {'predicate': '标签', 'object': '政治军事书籍'}]}\n",
      "{'alias': ['毛泽东'], 'subject_id': '43905', 'subject': '毛泽东哲学思想', 'type': ['Human'], 'data': [{'predicate': '摘要', 'object': '毛泽东以泰山之势总齐宇内席卷八荒。这涉及到对于毛泽东思想如何去理解。毛泽东哲学思想可以通过一把钥匙也就是三句话去理解去开启。'}, {'predicate': '出生地', 'object': '湖南省湘潭县'}, {'predicate': '逝世日期', 'object': '1976年9月9日'}, {'predicate': '中文名', 'object': '毛泽东'}, {'predicate': '国籍', 'object': '中国'}, {'predicate': '出生日期', 'object': '1893年12月26日'}, {'predicate': '职业', 'object': '中共中央主席'}, {'predicate': '民族', 'object': '汉族'}, {'predicate': '义项描述', 'object': '毛泽东哲学思想'}, {'predicate': '标签', 'object': '出版物'}, {'predicate': '标签', 'object': '书籍'}]}\n",
      "{'alias': ['毛泽东', '毛主席'], 'subject_id': '404718', 'subject': '怀念毛主席', 'type': ['Human'], 'data': [{'predicate': '摘要', 'object': '毛主席的名字已经成为中华民族一座不朽的丰碑，成为中华儿女永恒的骄傲。 他将永远的活在中国人民的心中，永垂不朽！'}, {'predicate': '国籍', 'object': '中国'}, {'predicate': '民族', 'object': '汉'}, {'predicate': '别名', 'object': '毛主席'}, {'predicate': '中文名', 'object': '毛泽东'}, {'predicate': '主要成就', 'object': '毛泽东思想'}, {'predicate': '义项描述', 'object': '怀念毛主席'}, {'predicate': '标签', 'object': '文学作品'}, {'predicate': '标签', 'object': '书籍'}]}\n",
      "{'alias': ['石三伢子', '二十八画生 ', '毛泽东', '李德胜', '毛主席', '李得胜', '二十八画生', '石三伢子', '毛泽东(1893～1976)', 'Mao Tze-dong', '毛润之', '毛子任', '毛泽东主席'], 'subject_id': '289026', 'subject': '毛泽东', 'type': ['Human'], 'data': [{'predicate': '摘要', 'object': '毛泽东(1893年12月26日-1976年9月9日)，字润之(原作咏芝，后改润芝)，笔名子任。湖南湘潭人。中国人民的领袖，马克思主义者，伟大的无产阶级革命家、战略家和理论家，中国共产党、中国人民解放军和中华人民共和国的主要缔造者和领导人，诗人，书法家。1949至1976年，毛泽东担任中华人民共和国最高领导人。他对马克思列宁主义的发展、军事理论的贡献以及对共产党的理论贡献被称为毛泽东思想。因毛泽东担任过的主要职务几乎全部称为主席，所以也被人们尊称为“毛主席”。毛泽东被视为现代世界历史中最重要的人物之一，《时代》杂志也将他评为20世纪最具影响100人之一。'}, {'predicate': '出生地', 'object': '湖南省长沙府湘潭县韶山冲'}, {'predicate': '毕业院校', 'object': '湖南省立第一师范学校'}, {'predicate': '代表作品', 'object': '《矛盾论》、《实践论》、《论持久战》、《沁园春·雪》等'}, {'predicate': '逝世日期', 'object': '1976年09月09日'}, {'predicate': '别名', 'object': '石三伢子、二十八画生 等'}, {'predicate': '信仰', 'object': '马列主义'}, {'predicate': '中文名', 'object': '毛泽东'}, {'predicate': '国籍', 'object': '中华人民共和国'}, {'predicate': '出生日期', 'object': '1893年12月26日'}, {'predicate': '民族', 'object': '汉'}, {'predicate': '主要成就', 'object': '领导夺取新民主主义革命的胜利,毛泽东思想的主要创立者'}, {'predicate': '义项描述', 'object': '无产阶级革命家'}, {'predicate': '标签', 'object': '政治人物'}, {'predicate': '标签', 'object': '二战'}, {'predicate': '标签', 'object': '二战人物'}, {'predicate': '标签', 'object': '人物'}, {'predicate': '标签', 'object': '元首'}, {'predicate': '标签', 'object': '历史'}]}\n",
      "{'alias': ['毛泽东', '毛子任', '毛润之'], 'subject_id': '322078', 'subject': '毛主席故居', 'type': ['Human'], 'data': [{'predicate': '摘要', 'object': '位于北京东城区景山东街三眼井吉安所东巷8号，是毛泽东1918—1919年在京时的住所。毛泽东北京大学图书馆任助理管理员。为工作方便，与蔡和森、罗章龙等七人共同租下此地的三间北房。在此期间，毛泽东边工作，边在北京大学旁听，并开始研读马列主义，直到1919年离京去上海。1979年，毛主席故居被列为北京市文物保护单位。'}, {'predicate': '出生地', 'object': '湖南'}, {'predicate': '毕业院校', 'object': '湖南省立第一师范学校'}, {'predicate': '代表作品', 'object': '《毛泽东选集》《清平乐·蒋桂战争》《采桑子·重阳》'}, {'predicate': '逝世日期', 'object': '1976-09-09'}, {'predicate': '别名', 'object': '毛子任，毛润之'}, {'predicate': '信仰', 'object': '马列主义'}, {'predicate': '中文名', 'object': '毛泽东'}, {'predicate': '国籍', 'object': '中国'}, {'predicate': '出生日期', 'object': '1893年12月26日'}, {'predicate': '职业', 'object': '师范专业'}, {'predicate': '民族', 'object': '汉族'}, {'predicate': '主要成就', 'object': '中国人民解放军的主要创始人,领导中国人民抗击日本侵略者'}, {'predicate': '义项描述', 'object': '毛主席故居'}, {'predicate': '标签', 'object': '生活'}, {'predicate': '标签', 'object': '地理'}, {'predicate': '标签', 'object': '文物考古'}, {'predicate': '标签', 'object': '旅游'}, {'predicate': '标签', 'object': '地点'}, {'predicate': '标签', 'object': '历史'}]}\n",
      "{'text_id': '9', 'text': '冬大过年-网络电影', 'mention_data': [{'kb_id': '253284', 'mention': '冬大过年', 'offset': '0'}, {'kb_id': '397559', 'mention': '网络', 'offset': '5'}, {'kb_id': '148097', 'mention': '电影', 'offset': '7'}]}\n",
      "{'alias': ['MOTIONPICTURE电影', '映画'], 'subject_id': '148097', 'subject': '电影', 'type': ['Vocabulary'], 'data': [{'predicate': '摘要', 'object': '电影，是由活动照相术和幻灯放映术结合发展起来的一种连续的影像画面，是一门视觉和听觉的现代艺术，也是一门可以容纳戏剧、摄影、绘画、音乐、舞蹈、文字、雕塑、建筑等多种艺术的现代科技与艺术的综合体。但它又具有独自的特征，电影在艺术表现力上不但具有其它各种艺术的特征，又因可以运用蒙太奇(法语：Montage)这种艺术性突跃的电影组接技巧，具有超越其它一切艺术的表现手段，而且影片可以大量复制放映，随着现代社会的发展，电影已深入到人类社会生活的方方面面，是人们日常生活不可或缺的一部分。国务院法制办于2018年2月2日—22日就《电影行政处罚裁量办法(征求意见稿)》向社会公开征求意见。'}, {'predicate': '外文名', 'object': 'Movie(美式) 或 Film(英式)'}, {'predicate': '分类', 'object': '艺术作品'}, {'predicate': '艺术别称', 'object': '第七艺术'}, {'predicate': '中文名', 'object': '电影'}, {'predicate': '别称', 'object': '影像、影视、影片'}, {'predicate': '类型', 'object': '现代科技与艺术'}, {'predicate': '原理', 'object': '视觉暂留'}, {'predicate': '发源地', 'object': '法国'}, {'predicate': '工具', 'object': '胶卷、录像带或数位媒体'}, {'predicate': '义项描述', 'object': '综合的现代科技与艺术'}, {'predicate': '标签', 'object': '娱乐作品'}, {'predicate': '标签', 'object': '娱乐术语'}, {'predicate': '标签', 'object': '电影'}]}\n",
      "{'alias': ['电影'], 'subject_id': '32955', 'subject': '电影', 'type': ['Vocabulary'], 'data': [{'predicate': '摘要', 'object': '电影这个词有多重意思，现在多用于形容呈现在荧幕之上的根据人的视觉具有瞬间保留印象的原理，用摄影机将人物或其他被摄体的活动影像拍摄成连续性的画面，通过放映机在银幕上再现出来。'}, {'predicate': '外文名', 'object': 'film'}, {'predicate': '中文名', 'object': '电影'}, {'predicate': '属于', 'object': '教育工具的一种'}, {'predicate': '类别', 'object': '有声，无声，黑白，彩色'}, {'predicate': '原理', 'object': '人的视觉能够瞬间保留印象'}, {'predicate': '片种', 'object': '故事片、纪录片、科学教育片等'}, {'predicate': '义项描述', 'object': '汉语词语'}]}\n",
      "{'alias': ['MOTIONPICTURE电影', '映画'], 'subject_id': '148097', 'subject': '电影', 'type': ['Vocabulary'], 'data': [{'predicate': '摘要', 'object': '电影，是由活动照相术和幻灯放映术结合发展起来的一种连续的影像画面，是一门视觉和听觉的现代艺术，也是一门可以容纳戏剧、摄影、绘画、音乐、舞蹈、文字、雕塑、建筑等多种艺术的现代科技与艺术的综合体。但它又具有独自的特征，电影在艺术表现力上不但具有其它各种艺术的特征，又因可以运用蒙太奇(法语：Montage)这种艺术性突跃的电影组接技巧，具有超越其它一切艺术的表现手段，而且影片可以大量复制放映，随着现代社会的发展，电影已深入到人类社会生活的方方面面，是人们日常生活不可或缺的一部分。国务院法制办于2018年2月2日—22日就《电影行政处罚裁量办法(征求意见稿)》向社会公开征求意见。'}, {'predicate': '外文名', 'object': 'Movie(美式) 或 Film(英式)'}, {'predicate': '分类', 'object': '艺术作品'}, {'predicate': '艺术别称', 'object': '第七艺术'}, {'predicate': '中文名', 'object': '电影'}, {'predicate': '别称', 'object': '影像、影视、影片'}, {'predicate': '类型', 'object': '现代科技与艺术'}, {'predicate': '原理', 'object': '视觉暂留'}, {'predicate': '发源地', 'object': '法国'}, {'predicate': '工具', 'object': '胶卷、录像带或数位媒体'}, {'predicate': '义项描述', 'object': '综合的现代科技与艺术'}, {'predicate': '标签', 'object': '娱乐作品'}, {'predicate': '标签', 'object': '娱乐术语'}, {'predicate': '标签', 'object': '电影'}]}\n",
      "{'text_id': '10', 'text': '《2015sbs歌谣大战片花》少女时代 《lion heart》', 'mention_data': [{'kb_id': 'NIL', 'mention': '2015sbs歌谣大战片花', 'offset': '1'}, {'kb_id': '116223', 'mention': '少女时代', 'offset': '15'}, {'kb_id': '260275', 'mention': 'lion heart', 'offset': '21'}]}\n",
      "{'alias': ['少女时代'], 'subject_id': '116223', 'subject': '少女时代', 'type': ['Thing'], 'data': [{'predicate': '摘要', 'object': '《少女时代》是由韩国组合少女时代演唱的一首歌曲，该曲收录于少女时代在2007年发行的《GIRLS GENERATION》专辑中。'}, {'predicate': '歌曲原唱', 'object': '少女时代'}, {'predicate': '歌曲时长', 'object': '3：50'}, {'predicate': '歌曲语言', 'object': '韩语'}, {'predicate': '音乐风格', 'object': '流行'}, {'predicate': '所属专辑', 'object': 'GIRLS GENERATION'}, {'predicate': '发行时间', 'object': '2007年11月1日'}, {'predicate': '外文名称', 'object': 'GIRLS GENERATION'}, {'predicate': '中文名称', 'object': '少女时代'}, {'predicate': '义项描述', 'object': '少女时代演唱的歌曲'}]}\n",
      "{'alias': ['少女时代'], 'subject_id': '241634', 'subject': '少女时代', 'type': ['Thing'], 'data': [{'predicate': '摘要', 'object': '《少女时代》是丹下桜的音乐作品,收录在《New Frontier》专辑中。'}, {'predicate': '发行时间', 'object': '1998-09-23'}, {'predicate': '音乐时长', 'object': '3分32秒'}, {'predicate': '所属专辑', 'object': 'New Frontier'}, {'predicate': '义项描述', 'object': '丹下桜演唱歌曲'}]}\n",
      "{'alias': ['少女时代'], 'subject_id': '116223', 'subject': '少女时代', 'type': ['Thing'], 'data': [{'predicate': '摘要', 'object': '《少女时代》是由韩国组合少女时代演唱的一首歌曲，该曲收录于少女时代在2007年发行的《GIRLS GENERATION》专辑中。'}, {'predicate': '歌曲原唱', 'object': '少女时代'}, {'predicate': '歌曲时长', 'object': '3：50'}, {'predicate': '歌曲语言', 'object': '韩语'}, {'predicate': '音乐风格', 'object': '流行'}, {'predicate': '所属专辑', 'object': 'GIRLS GENERATION'}, {'predicate': '发行时间', 'object': '2007年11月1日'}, {'predicate': '外文名称', 'object': 'GIRLS GENERATION'}, {'predicate': '中文名称', 'object': '少女时代'}, {'predicate': '义项描述', 'object': '少女时代演唱的歌曲'}]}\n",
      "{'alias': ['少女时代'], 'subject_id': '113673', 'subject': '少女时代', 'type': ['Thing'], 'data': [{'predicate': '摘要', 'object': '《少女时代》是陈凯彤演唱的一首歌曲。收录于2016年发行的专辑《out of the blue》。'}, {'predicate': '义项描述', 'object': '陈凯彤演唱歌曲'}, {'predicate': '标签', 'object': '娱乐'}]}\n",
      "{'alias': ['少女时代'], 'subject_id': '376694', 'subject': '少女时代', 'type': ['Thing'], 'data': [{'predicate': '摘要', 'object': '《少女时代》是韩国群星的音乐作品,收录在《SuperStarK4Top12-Part.1》专辑中。'}, {'predicate': '发行时间', 'object': '2012-10-15'}, {'predicate': '音乐时长', 'object': '3分7秒'}, {'predicate': '所属专辑', 'object': 'SuperStarK4Top12-Part.1'}, {'predicate': '义项描述', 'object': '韩国群星演唱歌曲'}]}\n",
      "{'text_id': '12', 'text': '《假如未曾遇见你》txt全集下载', 'mention_data': [{'kb_id': '279623', 'mention': '假如未曾遇见你', 'offset': '1'}, {'kb_id': '381261', 'mention': '全集', 'offset': '12'}]}\n",
      "{'alias': ['全集'], 'subject_id': '381261', 'subject': '全集', 'type': ['Vocabulary'], 'data': [{'predicate': '摘要', 'object': '1.将领袖、名人、作家、画家等人一生所发表或未发表过的作品，全部收集整理而按内容或年代编成出版的图书，称为全集。例如：清代大学士张鹏翮撰《张文端公全集》，当代巴金著《巴金全集》。2.在数学集合中，一般地，如果一个集合含有我们所研究问题中涉及的所有元素，那么就称这个集合为全集(通常也把给定的集合称为全集)，通常记作U。'}, {'predicate': '记作', 'object': 'U'}, {'predicate': '释义', 'object': '数学集合'}, {'predicate': '中文名', 'object': '全集'}, {'predicate': '拼音', 'object': 'quán jí'}, {'predicate': '义项描述', 'object': '汉语词语'}, {'predicate': '标签', 'object': '出版物'}, {'predicate': '标签', 'object': '字词'}, {'predicate': '标签', 'object': '书籍'}]}\n",
      "{'alias': ['全集'], 'subject_id': '60617', 'subject': '全集', 'type': ['Vocabulary'], 'data': [{'predicate': '摘要', 'object': '一般的，如果一个集合含有我们所研究问题中涉及的所有元素，那么就称这个集合为全集，通常记作U。'}, {'predicate': '外文名', 'object': 'U'}, {'predicate': '应用', 'object': '集合论和数学基础的应用'}, {'predicate': '集合表示', 'object': '一般为圆形'}, {'predicate': '包含', 'object': '研究对象和集合'}, {'predicate': '中文名', 'object': '全集'}, {'predicate': '义项描述', 'object': '数学含义'}, {'predicate': '标签', 'object': '科学百科数理科学分类'}]}\n",
      "{'alias': ['全集'], 'subject_id': '381261', 'subject': '全集', 'type': ['Vocabulary'], 'data': [{'predicate': '摘要', 'object': '1.将领袖、名人、作家、画家等人一生所发表或未发表过的作品，全部收集整理而按内容或年代编成出版的图书，称为全集。例如：清代大学士张鹏翮撰《张文端公全集》，当代巴金著《巴金全集》。2.在数学集合中，一般地，如果一个集合含有我们所研究问题中涉及的所有元素，那么就称这个集合为全集(通常也把给定的集合称为全集)，通常记作U。'}, {'predicate': '记作', 'object': 'U'}, {'predicate': '释义', 'object': '数学集合'}, {'predicate': '中文名', 'object': '全集'}, {'predicate': '拼音', 'object': 'quán jí'}, {'predicate': '义项描述', 'object': '汉语词语'}, {'predicate': '标签', 'object': '出版物'}, {'predicate': '标签', 'object': '字词'}, {'predicate': '标签', 'object': '书籍'}]}\n",
      "{'text_id': '15', 'text': '一瞥(《调皮王妃》主题曲)_李嘉珊,_音乐', 'mention_data': [{'kb_id': '102489', 'mention': '调皮王妃', 'offset': '4'}, {'kb_id': '140111', 'mention': '主题曲', 'offset': '9'}, {'kb_id': '292948', 'mention': '李嘉珊', 'offset': '14'}, {'kb_id': '130934', 'mention': '音乐', 'offset': '19'}]}\n",
      "{'alias': ['主题曲'], 'subject_id': '140111', 'subject': '主题曲', 'type': ['Vocabulary'], 'data': [{'predicate': '摘要', 'object': '代表影片注意活动赛事主题的歌曲，或因风行而被认为对一影片具有代表性的电影插曲。如《银河》(MOON RIVER)则是《第凡内早餐》(1961)的主题曲。主题曲(Theme)或主题歌(ThemeSong)是在电影、电视剧、动画、舞台戏剧等作品中，用来代表作品的主要乐曲或歌曲。在不同国家上演、播放的作品，有时会由于不同的风俗民情等因素，会另请填词人以本土语言重新填写歌词，并会另请歌手、配音员或其他人士代唱。例如欧美地区，几乎都会把歌曲与歌词重新改写，影像则是会和原作品有部分差异。主题曲也可以是游戏中的歌曲或背景音乐。'}, {'predicate': '外文名', 'object': 'THEME SONG'}, {'predicate': '含义', 'object': '用来代表作品的主要乐曲或歌曲'}, {'predicate': '表现形式', 'object': '电影、电视剧、动画等作品中'}, {'predicate': '中文名', 'object': '主题曲'}, {'predicate': '义项描述', 'object': '代表影片注意活动赛事主题的歌曲'}, {'predicate': '标签', 'object': '电影术语'}, {'predicate': '标签', 'object': '电影'}, {'predicate': '标签', 'object': '游戏'}]}\n",
      "{'alias': ['主题曲'], 'subject_id': '358703', 'subject': '主题曲', 'type': ['Vocabulary'], 'data': [{'predicate': '摘要', 'object': '2016年4月2日，歌影双栖的艺人陈小春昨天(4月1日)下午在台北为新歌《主题曲》及音乐微电影举行首映礼，《主题曲》由黄大炜作曲、黄子佼作词，黄大炜送上录音器材，希望他能随时记录灵感。'}, {'predicate': '中文名称', 'object': '主题曲'}, {'predicate': '谱曲', 'object': '黄大炜'}, {'predicate': '填词', 'object': '黄子佼'}, {'predicate': '义项描述', 'object': '陈小春演唱歌曲'}, {'predicate': '标签', 'object': '娱乐'}]}\n",
      "{'alias': ['主题曲'], 'subject_id': '140111', 'subject': '主题曲', 'type': ['Vocabulary'], 'data': [{'predicate': '摘要', 'object': '代表影片注意活动赛事主题的歌曲，或因风行而被认为对一影片具有代表性的电影插曲。如《银河》(MOON RIVER)则是《第凡内早餐》(1961)的主题曲。主题曲(Theme)或主题歌(ThemeSong)是在电影、电视剧、动画、舞台戏剧等作品中，用来代表作品的主要乐曲或歌曲。在不同国家上演、播放的作品，有时会由于不同的风俗民情等因素，会另请填词人以本土语言重新填写歌词，并会另请歌手、配音员或其他人士代唱。例如欧美地区，几乎都会把歌曲与歌词重新改写，影像则是会和原作品有部分差异。主题曲也可以是游戏中的歌曲或背景音乐。'}, {'predicate': '外文名', 'object': 'THEME SONG'}, {'predicate': '含义', 'object': '用来代表作品的主要乐曲或歌曲'}, {'predicate': '表现形式', 'object': '电影、电视剧、动画等作品中'}, {'predicate': '中文名', 'object': '主题曲'}, {'predicate': '义项描述', 'object': '代表影片注意活动赛事主题的歌曲'}, {'predicate': '标签', 'object': '电影术语'}, {'predicate': '标签', 'object': '电影'}, {'predicate': '标签', 'object': '游戏'}]}\n",
      "{'text_id': '15', 'text': '一瞥(《调皮王妃》主题曲)_李嘉珊,_音乐', 'mention_data': [{'kb_id': '102489', 'mention': '调皮王妃', 'offset': '4'}, {'kb_id': '140111', 'mention': '主题曲', 'offset': '9'}, {'kb_id': '292948', 'mention': '李嘉珊', 'offset': '14'}, {'kb_id': '130934', 'mention': '音乐', 'offset': '19'}]}\n",
      "{'alias': ['音乐'], 'subject_id': '130934', 'subject': '音乐', 'type': ['Vocabulary'], 'data': [{'predicate': '摘要', 'object': '音乐是反映人类现实生活情感的一种艺术(英名称：music；法文名称： musique；意大利文：musica)。音乐可以分为声乐,器乐两大类型，又可以粗略的分为古典音乐、民间音乐、原生态音乐、现代音乐(包括流行音乐)等。在艺术类型中，音乐是比较抽象的艺术，音乐从历史发展上可分为东方音乐和西方音乐。东方以中国汉族音乐为首的中国古代理论基础是五声音阶，即宫、商、角、徵、羽，西方是以七声音阶为主。音乐让人赏心悦目，并为大家带来听觉的享受。音乐能提高人的审美能力，净化人们的心灵，树立崇高的理想。我们通过音乐来抒发我们的情感，使我们的很多情绪得到释放。'}, {'predicate': '外文名', 'object': 'Music；Mukic；Musique'}, {'predicate': '拼音', 'object': 'yīn yuè'}, {'predicate': '形式', 'object': '艺术形式'}, {'predicate': '中文名', 'object': '音乐'}, {'predicate': '类型', 'object': '分为声乐,器乐'}, {'predicate': '作用', 'object': '舒缓人心情,放松,享受,宣泄等'}, {'predicate': '基本分类', 'object': '古典音乐、民间音乐、流行音乐'}, {'predicate': '义项描述', 'object': '抽象艺术'}, {'predicate': '标签', 'object': '娱乐作品'}, {'predicate': '标签', 'object': '娱乐术语'}, {'predicate': '标签', 'object': '音乐'}]}\n",
      "{'alias': ['音乐'], 'subject_id': '157617', 'subject': '音乐', 'type': ['Vocabulary'], 'data': [{'predicate': '摘要', 'object': '音乐Xbox Music 仅仅通过一个简单易用的应用程序，就能把所有您喜爱的音乐汇集到一起。'}, {'predicate': '软件名称', 'object': '音乐'}, {'predicate': '软件版本', 'object': '2.6.678.0'}, {'predicate': '更新时间', 'object': '2015-05-27'}, {'predicate': '软件大小', 'object': '13 MB'}, {'predicate': '软件语言', 'object': '中文'}, {'predicate': '软件平台', 'object': 'WP8.1'}, {'predicate': '义项描述', 'object': '通过 Windows Phone 上的 Xbox Music 应用程序'}]}\n",
      "{'alias': ['音乐'], 'subject_id': '121528', 'subject': '音乐', 'type': ['Vocabulary'], 'data': [{'predicate': '摘要', 'object': '场景音乐主要是指在某一个单一场景中使用的,只对具体场景发挥作用的音乐。它主要是对某个故事情节以及人物在具体场景中感情发展变化进行必要的铺垫。场景音乐的使用往往在营造戏剧性高潮和推动情节发展方面起重要作用,现代场景音乐艺术作品已经达到可以完成圈人的地步。同时,它也能够创造出富有诗情画意的意境。音乐全部信息可以利用场景音乐区域书写创作灵感、组织翻唱活动、上传歌曲海报等。'}, {'predicate': '类别', 'object': '音乐形式'}, {'predicate': '配合项目形式', 'object': '完成圈人的地步'}, {'predicate': '中文名', 'object': '场景音乐'}, {'predicate': '提出人', 'object': '孙海明'}, {'predicate': '义项描述', 'object': '场景音乐'}]}\n",
      "{'alias': ['音乐'], 'subject_id': '358481', 'subject': '音乐', 'type': ['Vocabulary'], 'data': [{'predicate': '摘要', 'object': '《音乐》，这本书分六个单元：金色年华、花蕾吐艳，激情岁月、光辉历程、锦绣河山、满园春色，五彩缤纷、花团锦簇，真情永远、爱在人间等。'}, {'predicate': '类别', 'object': '教材'}, {'predicate': '作者', 'object': '王家祥'}, {'predicate': 'ISBN', 'object': '7-80667-908-1'}, {'predicate': '书名', 'object': '《音乐》'}, {'predicate': '页数', 'object': '189页'}, {'predicate': '义项描述', 'object': '王家祥著'}, {'predicate': '标签', 'object': '出版物'}, {'predicate': '标签', 'object': '文化'}]}\n",
      "{'alias': ['音乐'], 'subject_id': '130934', 'subject': '音乐', 'type': ['Vocabulary'], 'data': [{'predicate': '摘要', 'object': '音乐是反映人类现实生活情感的一种艺术(英名称：music；法文名称： musique；意大利文：musica)。音乐可以分为声乐,器乐两大类型，又可以粗略的分为古典音乐、民间音乐、原生态音乐、现代音乐(包括流行音乐)等。在艺术类型中，音乐是比较抽象的艺术，音乐从历史发展上可分为东方音乐和西方音乐。东方以中国汉族音乐为首的中国古代理论基础是五声音阶，即宫、商、角、徵、羽，西方是以七声音阶为主。音乐让人赏心悦目，并为大家带来听觉的享受。音乐能提高人的审美能力，净化人们的心灵，树立崇高的理想。我们通过音乐来抒发我们的情感，使我们的很多情绪得到释放。'}, {'predicate': '外文名', 'object': 'Music；Mukic；Musique'}, {'predicate': '拼音', 'object': 'yīn yuè'}, {'predicate': '形式', 'object': '艺术形式'}, {'predicate': '中文名', 'object': '音乐'}, {'predicate': '类型', 'object': '分为声乐,器乐'}, {'predicate': '作用', 'object': '舒缓人心情,放松,享受,宣泄等'}, {'predicate': '基本分类', 'object': '古典音乐、民间音乐、流行音乐'}, {'predicate': '义项描述', 'object': '抽象艺术'}, {'predicate': '标签', 'object': '娱乐作品'}, {'predicate': '标签', 'object': '娱乐术语'}, {'predicate': '标签', 'object': '音乐'}]}\n"
     ]
    },
    {
     "ename": "KeyError",
     "evalue": "'NIL'",
     "output_type": "error",
     "traceback": [
      "\u001b[0;31m---------------------------------------------------------------------------\u001b[0m",
      "\u001b[0;31mKeyError\u001b[0m                                  Traceback (most recent call last)",
      "\u001b[0;32m<ipython-input-15-706470b1ddf7>\u001b[0m in \u001b[0;36m<module>\u001b[0;34m\u001b[0m\n\u001b[1;32m      3\u001b[0m         \u001b[0;32mif\u001b[0m \u001b[0mm\u001b[0m\u001b[0;34m[\u001b[0m\u001b[0;34m'mention'\u001b[0m\u001b[0;34m]\u001b[0m \u001b[0;32mnot\u001b[0m \u001b[0;32min\u001b[0m \u001b[0mname_id\u001b[0m\u001b[0;34m:\u001b[0m\u001b[0;34m\u001b[0m\u001b[0;34m\u001b[0m\u001b[0m\n\u001b[1;32m      4\u001b[0m             \u001b[0;32mcontinue\u001b[0m\u001b[0;34m\u001b[0m\u001b[0;34m\u001b[0m\u001b[0m\n\u001b[0;32m----> 5\u001b[0;31m         \u001b[0manswer_type\u001b[0m \u001b[0;34m=\u001b[0m \u001b[0mkb\u001b[0m\u001b[0;34m[\u001b[0m\u001b[0mm\u001b[0m\u001b[0;34m[\u001b[0m\u001b[0;34m'kb_id'\u001b[0m\u001b[0;34m]\u001b[0m\u001b[0;34m]\u001b[0m\u001b[0;34m[\u001b[0m\u001b[0;34m'type'\u001b[0m\u001b[0;34m]\u001b[0m\u001b[0;34m[\u001b[0m\u001b[0;36m0\u001b[0m\u001b[0;34m]\u001b[0m\u001b[0;34m\u001b[0m\u001b[0;34m\u001b[0m\u001b[0m\n\u001b[0m\u001b[1;32m      6\u001b[0m         \u001b[0mcandidate\u001b[0m \u001b[0;34m=\u001b[0m \u001b[0;34m[\u001b[0m\u001b[0;34m]\u001b[0m\u001b[0;34m\u001b[0m\u001b[0;34m\u001b[0m\u001b[0m\n\u001b[1;32m      7\u001b[0m         \u001b[0;32mfor\u001b[0m \u001b[0mmid\u001b[0m \u001b[0;32min\u001b[0m \u001b[0mname_id\u001b[0m\u001b[0;34m[\u001b[0m\u001b[0mm\u001b[0m\u001b[0;34m[\u001b[0m\u001b[0;34m'mention'\u001b[0m\u001b[0;34m]\u001b[0m\u001b[0;34m]\u001b[0m\u001b[0;34m:\u001b[0m\u001b[0;34m\u001b[0m\u001b[0;34m\u001b[0m\u001b[0m\n",
      "\u001b[0;31mKeyError\u001b[0m: 'NIL'"
     ]
    }
   ],
   "source": [
    "for index,sentence in enumerate(train_data):\n",
    "    for m in sentence['mention_data']:\n",
    "        if m['mention'] not in name_id:\n",
    "            continue\n",
    "        answer_type = kb[m['kb_id']]['type'][0]\n",
    "        candidate = []\n",
    "        for mid in name_id[m['mention']]:\n",
    "            if kb[mid]['type'][0]==answer_type:\n",
    "                candidate.append(mid)\n",
    "        candidate = list(set(candidate))\n",
    "        if np.random.choice(candidate,1)!=m['kb_id']:\n",
    "            print(sentence)\n",
    "            print(kb[m['kb_id']])\n",
    "            for i in candidate:\n",
    "                print(kb[i])\n",
    "    if index==20:break"
   ]
  },
  {
   "cell_type": "code",
   "execution_count": 16,
   "metadata": {},
   "outputs": [],
   "source": [
    "# 根据流行度消岐\n",
    "answer_id = {}\n",
    "for index,sentence in enumerate(train_data[20000:]):\n",
    "    for m in sentence['mention_data']:\n",
    "        if m['mention'] not in name_id:\n",
    "            continue\n",
    "        if m['kb_id'] not in answer_id:\n",
    "            answer_id[m['kb_id']] = 1\n",
    "        else:\n",
    "            answer_id[m['kb_id']] += 1"
   ]
  },
  {
   "cell_type": "code",
   "execution_count": 17,
   "metadata": {},
   "outputs": [],
   "source": [
    "fenmu = 0\n",
    "fenzi = 0\n",
    "for index,sentence in enumerate(train_data[0:20000]):\n",
    "    for m in sentence['mention_data']:\n",
    "        if m['mention'] not in name_id:\n",
    "            continue\n",
    "        fenmu += 1\n",
    "        candidate = name_id[m['mention']]\n",
    "        candidate = list(set(candidate))\n",
    "        id_score = []\n",
    "        for c_id in candidate:\n",
    "            if c_id not in answer_id:\n",
    "                id_score.append((c_id,0))\n",
    "                continue\n",
    "            id_score.append((c_id,answer_id[c_id]))\n",
    "        if sorted(id_score,key=lambda x:x[1],reverse=True)[0][0] == m['kb_id']:\n",
    "            fenzi+=1"
   ]
  },
  {
   "cell_type": "code",
   "execution_count": 18,
   "metadata": {},
   "outputs": [
    {
     "data": {
      "text/plain": [
       "0.8124254318468694"
      ]
     },
     "execution_count": 18,
     "metadata": {},
     "output_type": "execute_result"
    }
   ],
   "source": [
    "fenzi/fenmu"
   ]
  },
  {
   "cell_type": "code",
   "execution_count": 30,
   "metadata": {},
   "outputs": [
    {
     "data": {
      "text/plain": [
       "23417"
      ]
     },
     "execution_count": 30,
     "metadata": {},
     "output_type": "execute_result"
    }
   ],
   "source": [
    "fenzi"
   ]
  },
  {
   "cell_type": "code",
   "execution_count": 14,
   "metadata": {},
   "outputs": [],
   "source": [
    "import jieba.posseg as psg"
   ]
  },
  {
   "cell_type": "code",
   "execution_count": 17,
   "metadata": {},
   "outputs": [
    {
     "data": {
      "text/plain": [
       "[pair('中国人民政治协商会议', 'nt'),\n",
       " pair('第一届', 'm'),\n",
       " pair('全体会议', 'n'),\n",
       " pair('宣言', 'nr')]"
      ]
     },
     "execution_count": 17,
     "metadata": {},
     "output_type": "execute_result"
    }
   ],
   "source": [
    "psg.lcut('中国人民政治协商会议第一届全体会议宣言')"
   ]
  },
  {
   "cell_type": "code",
   "execution_count": 11,
   "metadata": {},
   "outputs": [
    {
     "data": {
      "text/plain": [
       "{'alias': ['诅咒之子'],\n",
       " 'subject_id': '409252',\n",
       " 'subject': '诅咒之子',\n",
       " 'type': ['CreativeWork'],\n",
       " 'data': [{'predicate': '摘要', 'object': '诅咒之子，即小说《妖狐—诅咒之子》。该小说由香品紫狐编著。'},\n",
       "  {'predicate': '系列', 'object': '妖狐'},\n",
       "  {'predicate': '作者', 'object': '香品紫狐'},\n",
       "  {'predicate': '全文长度', 'object': '61568字'},\n",
       "  {'predicate': '中文名', 'object': '诅咒之子'},\n",
       "  {'predicate': '义项描述', 'object': '小说《妖狐—诅咒之子》'},\n",
       "  {'predicate': '标签', 'object': '文学作品'},\n",
       "  {'predicate': '标签', 'object': '娱乐作品'},\n",
       "  {'predicate': '标签', 'object': '玄幻小说'},\n",
       "  {'predicate': '标签', 'object': '小说作品'},\n",
       "  {'predicate': '标签', 'object': '小说'},\n",
       "  {'predicate': '标签', 'object': '书籍'}]}"
      ]
     },
     "execution_count": 11,
     "metadata": {},
     "output_type": "execute_result"
    }
   ],
   "source": [
    "kb"
   ]
  },
  {
   "cell_type": "code",
   "execution_count": null,
   "metadata": {},
   "outputs": [],
   "source": [
    "# 词条 通用意义或者专属意义"
   ]
  }
 ],
 "metadata": {
  "kernelspec": {
   "display_name": "Python 3",
   "language": "python",
   "name": "python3"
  },
  "language_info": {
   "codemirror_mode": {
    "name": "ipython",
    "version": 3
   },
   "file_extension": ".py",
   "mimetype": "text/x-python",
   "name": "python",
   "nbconvert_exporter": "python",
   "pygments_lexer": "ipython3",
   "version": "3.7.3"
  }
 },
 "nbformat": 4,
 "nbformat_minor": 2
}
