{
 "cells": [
  {
   "cell_type": "code",
   "execution_count": 1,
   "metadata": {},
   "outputs": [],
   "source": [
    "from sklearn.metrics.pairwise import cosine_similarity\n",
    "import pandas as pd\n",
    "# 数值特征\n",
    "import pandas as pd\n",
    "import numpy as np\n",
    "import json\n",
    "from tqdm import tqdm as tqdm\n",
    "from sklearn.model_selection import KFold\n",
    "from gensim.models import word2vec\n",
    "from gensim.models import Word2Vec"
   ]
  },
  {
   "cell_type": "code",
   "execution_count": null,
   "metadata": {},
   "outputs": [],
   "source": [
    "data = pd.read_pickle('data/step1.pkl')\n",
    "test_data = pd.read_pickle('data/step1_test.pkl')\n",
    "print(data.shape,test_data.shape)"
   ]
  },
  {
   "cell_type": "code",
   "execution_count": null,
   "metadata": {},
   "outputs": [],
   "source": [
    "bert_dis = pd.read_pickle('data/bert_dis.pkl')\n",
    "bert_dis_test = pd.read_pickle('data/bert_dis.pkl')\n",
    "print(bert_dis.shape,bert_dis_test.shape)"
   ]
  },
  {
   "cell_type": "code",
   "execution_count": null,
   "metadata": {},
   "outputs": [],
   "source": []
  },
  {
   "cell_type": "code",
   "execution_count": null,
   "metadata": {},
   "outputs": [],
   "source": [
    "data['bert_cos'] = bert_dis['bert_cos']\n",
    "data['bert_point'] = bert_dis['bert_point']\n",
    "data['bert_mse'] = bert_dis['bert_mse']"
   ]
  },
  {
   "cell_type": "code",
   "execution_count": null,
   "metadata": {},
   "outputs": [],
   "source": [
    "test_data['bert_cos'] = bert_dis_test['bert_cos']\n",
    "test_data['bert_point'] = bert_dis_test['bert_point']\n",
    "test_data['bert_mse'] = bert_dis_test['bert_mse']"
   ]
  },
  {
   "cell_type": "code",
   "execution_count": null,
   "metadata": {},
   "outputs": [],
   "source": [
    "test_data['label'] = -1\n",
    "data_all = data.append(test_data).reset_index(drop=True)"
   ]
  },
  {
   "cell_type": "code",
   "execution_count": null,
   "metadata": {},
   "outputs": [],
   "source": [
    "numerical_clolumns = ['bert_cos','bert_point','bert_mse']"
   ]
  },
  {
   "cell_type": "code",
   "execution_count": null,
   "metadata": {},
   "outputs": [],
   "source": [
    "# rank 特征\n",
    "to_rank = numerical_clolumns\n",
    "for f in to_rank:\n",
    "    data_group = data_all.groupby('kb_id')[f].rank(ascending=False)\n",
    "    data_all['kbid_rank_'+f] = data_group"
   ]
  },
  {
   "cell_type": "code",
   "execution_count": null,
   "metadata": {},
   "outputs": [],
   "source": [
    "# mean and var\n",
    "to_rank = numerical_clolumns\n",
    "for f in tqdm(to_rank):\n",
    "    data_group = data_all.groupby('kb_id')[f].agg({'kb_'+f+'_var':'var','kb_'+f+'_mean':'mean','kb_'+f+'_max':'max',\n",
    "                                                   'kb_'+f+'_min':'min'})\n",
    "    data_all = data_all.merge(data_group,on='kb_id',how='left')"
   ]
  },
  {
   "cell_type": "code",
   "execution_count": null,
   "metadata": {},
   "outputs": [],
   "source": [
    "# mean and var\n",
    "to_rank = numerical_clolumns\n",
    "for f in tqdm(to_rank):\n",
    "    data_group = data_all.groupby(['kb_id','train_mention'])[f].agg({'kb_m_'+f+'_var':'var','kb_m_'+f+'_mean':'mean',\n",
    "                                                                 'kb_m_'+f+'_max':'max',\n",
    "                                                   'kb_m_'+f+'_min':'min'})\n",
    "    data_all = data_all.merge(data_group,on=['kb_id','train_mention'],how='left')"
   ]
  },
  {
   "cell_type": "code",
   "execution_count": null,
   "metadata": {},
   "outputs": [],
   "source": [
    "# rank 特征\n",
    "to_rank = numerical_clolumns\n",
    "for f in to_rank:\n",
    "    data_group = data_all.groupby(['kb_id','train_mention'])[f].rank(ascending=False)\n",
    "    data_all['kb_m_rank_'+f] = data_group\n",
    "   "
   ]
  },
  {
   "cell_type": "code",
   "execution_count": null,
   "metadata": {},
   "outputs": [],
   "source": [
    "for f in to_rank:\n",
    "    data_group = data_all.groupby('m_id')[f].rank(ascending=False)\n",
    "    data_all['m_rank_'+f] = data_group"
   ]
  },
  {
   "cell_type": "code",
   "execution_count": null,
   "metadata": {},
   "outputs": [],
   "source": [
    "for f in tqdm(to_rank):\n",
    "    data_group = data_all.groupby('m_id')[f].agg({'mid_'+f+'_var':'var','mid_'+f+'_mean':'mean',\n",
    "                                                  'mid_'+f+'_max':'max','mid_'+f+'_min':'min'})\n",
    "    data_all = data_all.merge(data_group,on='m_id',how='left')"
   ]
  },
  {
   "cell_type": "code",
   "execution_count": null,
   "metadata": {},
   "outputs": [],
   "source": [
    "for item in data_all.columns:\n",
    "    if data_all.dtypes[item]=='float64':\n",
    "        print(item)\n",
    "        data_all[item] = data_all[item].astype('float32')\n",
    "    if data_all.dtypes[item]=='int64':\n",
    "        data_all[item] = data_all[item].astype('int32')\n",
    "    if data_all.dtypes[item]=='bool':\n",
    "        data_all[item] = data_all[item].astype('int8')"
   ]
  },
  {
   "cell_type": "code",
   "execution_count": null,
   "metadata": {},
   "outputs": [],
   "source": [
    "data = data_all.iloc[0:data.shape[0],:]\n",
    "test_data = data_all.iloc[data.shape[0]:,:]\n",
    "data.reset_index(drop=True,inplace=True)\n",
    "test_data.reset_index(drop=True,inplace=True)"
   ]
  },
  {
   "cell_type": "code",
   "execution_count": null,
   "metadata": {},
   "outputs": [],
   "source": [
    "data.to_pickle('data/step7.pkl')\n",
    "test_data.to_pickle('data/step7_test.pkl')"
   ]
  }
 ],
 "metadata": {
  "kernelspec": {
   "display_name": "Python 3",
   "language": "python",
   "name": "python3"
  },
  "language_info": {
   "codemirror_mode": {
    "name": "ipython",
    "version": 3
   },
   "file_extension": ".py",
   "mimetype": "text/x-python",
   "name": "python",
   "nbconvert_exporter": "python",
   "pygments_lexer": "ipython3",
   "version": "3.7.3"
  }
 },
 "nbformat": 4,
 "nbformat_minor": 2
}
