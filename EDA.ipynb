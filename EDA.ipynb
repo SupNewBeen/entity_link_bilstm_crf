{
 "cells": [
  {
   "cell_type": "code",
   "execution_count": 1,
   "metadata": {},
   "outputs": [],
   "source": [
    "# coding:u8\n",
    "import json"
   ]
  },
  {
   "cell_type": "code",
   "execution_count": 2,
   "metadata": {},
   "outputs": [
    {
     "name": "stdout",
     "output_type": "stream",
     "text": [
      "bert-base-chinese-vocab.txt  \u001b[0m\u001b[01;34mraw_data\u001b[0m/\r\n"
     ]
    }
   ],
   "source": [
    "ls data/"
   ]
  },
  {
   "cell_type": "code",
   "execution_count": 3,
   "metadata": {},
   "outputs": [],
   "source": [
    "train_data = []\n",
    "with open('data/raw_data/train.json','r') as f:\n",
    "    for line in f:\n",
    "        train_data.append(json.loads(line))"
   ]
  },
  {
   "cell_type": "code",
   "execution_count": 4,
   "metadata": {},
   "outputs": [
    {
     "name": "stdout",
     "output_type": "stream",
     "text": [
      "训练数据长度 90000\n"
     ]
    }
   ],
   "source": [
    "print('训练数据长度',len(train_data))"
   ]
  },
  {
   "cell_type": "code",
   "execution_count": 5,
   "metadata": {},
   "outputs": [
    {
     "data": {
      "text/plain": [
       "[{'text_id': '1',\n",
       "  'text': '南京南站:坐高铁在南京南站下。南京南站',\n",
       "  'mention_data': [{'kb_id': '311223', 'mention': '南京南站', 'offset': '0'},\n",
       "   {'kb_id': '341096', 'mention': '高铁', 'offset': '6'},\n",
       "   {'kb_id': '311223', 'mention': '南京南站', 'offset': '9'},\n",
       "   {'kb_id': '311223', 'mention': '南京南站', 'offset': '15'}]},\n",
       " {'text_id': '2',\n",
       "  'text': '比特币吸粉无数,但央行的心另有所属|界面新闻 · jmedia',\n",
       "  'mention_data': [{'kb_id': '278410', 'mention': '比特币', 'offset': '0'},\n",
       "   {'kb_id': '199602', 'mention': '央行', 'offset': '9'},\n",
       "   {'kb_id': '215472', 'mention': '界面新闻', 'offset': '18'}]},\n",
       " {'text_id': '3',\n",
       "  'text': '解读《万历十五年》',\n",
       "  'mention_data': [{'kb_id': '131751', 'mention': '万历十五年', 'offset': '3'}]},\n",
       " {'text_id': '4',\n",
       "  'text': '《时间的针脚第一季》迅雷下载_完整版在线观看_美剧...',\n",
       "  'mention_data': [{'kb_id': 'NIL', 'mention': '时间的针脚第一季', 'offset': '1'},\n",
       "   {'kb_id': '57067', 'mention': '迅雷', 'offset': '10'},\n",
       "   {'kb_id': '394479', 'mention': '美剧', 'offset': '23'}]},\n",
       " {'text_id': '5',\n",
       "  'text': '毛泽东扮演者赵新月评《大秧歌》“大”在哪',\n",
       "  'mention_data': [{'kb_id': '289026', 'mention': '毛泽东', 'offset': '0'},\n",
       "   {'kb_id': 'NIL', 'mention': '赵新月', 'offset': '6'},\n",
       "   {'kb_id': '335162', 'mention': '大秧歌', 'offset': '11'}]},\n",
       " {'text_id': '6',\n",
       "  'text': 'lg g5 评测:玩火的阿斗',\n",
       "  'mention_data': [{'kb_id': '117497', 'mention': 'lg g5', 'offset': '0'},\n",
       "   {'kb_id': 'NIL', 'mention': '评测', 'offset': '6'},\n",
       "   {'kb_id': 'NIL', 'mention': '玩火的阿斗', 'offset': '9'}]},\n",
       " {'text_id': '7',\n",
       "  'text': '杨门女将之女儿当自强 01—在线播放—《杨门女',\n",
       "  'mention_data': [{'kb_id': '165230',\n",
       "    'mention': '杨门女将之女儿当自强',\n",
       "    'offset': '0'}]},\n",
       " {'text_id': '8',\n",
       "  'text': '《陶格陶》 - 高清正版在线观看',\n",
       "  'mention_data': [{'kb_id': '319134', 'mention': '陶格陶', 'offset': '1'},\n",
       "   {'kb_id': '281480', 'mention': '高清', 'offset': '8'},\n",
       "   {'kb_id': '30939', 'mention': '正版', 'offset': '10'}]},\n",
       " {'text_id': '9',\n",
       "  'text': '冬大过年-网络电影',\n",
       "  'mention_data': [{'kb_id': '253284', 'mention': '冬大过年', 'offset': '0'},\n",
       "   {'kb_id': '397559', 'mention': '网络', 'offset': '5'},\n",
       "   {'kb_id': '148097', 'mention': '电影', 'offset': '7'}]},\n",
       " {'text_id': '10',\n",
       "  'text': '《2015sbs歌谣大战片花》少女时代 《lion heart》',\n",
       "  'mention_data': [{'kb_id': 'NIL', 'mention': '2015sbs歌谣大战片花', 'offset': '1'},\n",
       "   {'kb_id': '116223', 'mention': '少女时代', 'offset': '15'},\n",
       "   {'kb_id': '260275', 'mention': 'lion heart', 'offset': '21'}]}]"
      ]
     },
     "execution_count": 5,
     "metadata": {},
     "output_type": "execute_result"
    }
   ],
   "source": [
    "train_data[0:10]"
   ]
  },
  {
   "cell_type": "code",
   "execution_count": 6,
   "metadata": {},
   "outputs": [],
   "source": [
    "# 读取知识库\n",
    "kb_data = []\n",
    "kb = {}\n",
    "with open('data/raw_data/kb_data','r') as f:\n",
    "    for line in f:\n",
    "        item = json.loads(line)\n",
    "        kb[item['subject_id']] = item\n",
    "        kb_data.append(item)\n"
   ]
  },
  {
   "cell_type": "code",
   "execution_count": 7,
   "metadata": {},
   "outputs": [
    {
     "name": "stdout",
     "output_type": "stream",
     "text": [
      "知识库实体个数399252\n"
     ]
    }
   ],
   "source": [
    "print('知识库实体个数%d'%len(kb_data))"
   ]
  },
  {
   "cell_type": "code",
   "execution_count": 8,
   "metadata": {},
   "outputs": [
    {
     "data": {
      "text/plain": [
       "[{'alias': ['胜利'],\n",
       "  'subject_id': '10001',\n",
       "  'subject': '胜利',\n",
       "  'type': ['Thing'],\n",
       "  'data': [{'predicate': '摘要',\n",
       "    'object': '英雄联盟胜利系列皮肤是拳头公司制作的具有纪念意义限定系列皮肤之一。拳头公司制作的具有纪念意义限定系列皮肤还包括英雄联盟冠军系列皮肤、MSI季中冠军赛征服者系列以及英雄联盟全球总决赛冠军系列皮肤。每到赛季结束时，拳头公司都会制作胜利系列皮肤作为赛季奖励来认可那些在排位赛中勇猛拼搏达到黄金段位的玩家。'},\n",
       "   {'predicate': '制作方', 'object': 'Riot Games'},\n",
       "   {'predicate': '外文名', 'object': 'Victorious'},\n",
       "   {'predicate': '来源', 'object': '英雄联盟'},\n",
       "   {'predicate': '中文名', 'object': '胜利'},\n",
       "   {'predicate': '属性', 'object': '虚拟'},\n",
       "   {'predicate': '义项描述', 'object': '游戏《英雄联盟》胜利系列限定皮肤'}]},\n",
       " {'alias': ['张三的歌'],\n",
       "  'subject_id': '10002',\n",
       "  'subject': '张三的歌',\n",
       "  'type': ['CreativeWork'],\n",
       "  'data': [{'predicate': '摘要',\n",
       "    'object': '《张三的歌》这首经典老歌，词曲作者是张子石。最早收录于李寿全的专辑《8又二分之一》当中。李寿全作为台湾民谣时代的推动人，在80年代中后期有着举足轻重的地位，而这首《张三的歌》出现在当时的背景之下，带来了无可比拟的社会效应，也为那个年代留下了无法抹去的回忆。随着时间的推移，陈翔、齐秦、吴宗宪、蔡琴、青鸟飞鱼等歌手都曾翻唱过。'},\n",
       "   {'predicate': '歌曲原唱', 'object': '李寿全'},\n",
       "   {'predicate': '谱曲', 'object': '张子石'},\n",
       "   {'predicate': '歌曲时长', 'object': '3分58秒'},\n",
       "   {'predicate': '歌曲语言', 'object': '普通话'},\n",
       "   {'predicate': '音乐风格', 'object': '民谣'},\n",
       "   {'predicate': '唱片公司', 'object': '飞碟唱片'},\n",
       "   {'predicate': '翻唱', 'object': '齐秦、苏芮、南方二重唱等'},\n",
       "   {'predicate': '填词', 'object': '张子石'},\n",
       "   {'predicate': '发行时间', 'object': '1986-08-01'},\n",
       "   {'predicate': '中文名称', 'object': '张三的歌'},\n",
       "   {'predicate': '所属专辑', 'object': '8又二分之一'},\n",
       "   {'predicate': '义项描述', 'object': '李寿全演唱歌曲'},\n",
       "   {'predicate': '标签', 'object': '单曲'},\n",
       "   {'predicate': '标签', 'object': '音乐作品'}]},\n",
       " {'alias': ['七里香蔷薇', '七里香', 'Rosa banksiao R.Br', 'var.Normalis Regel'],\n",
       "  'subject_id': '10003',\n",
       "  'subject': '单瓣木香花',\n",
       "  'type': ['Plant'],\n",
       "  'data': [{'predicate': '摘要',\n",
       "    'object': '单瓣木香花为啬薇科植物单瓣木香花的根皮(俗称红根)。用于月经不调、月经过多、外伤红肿、瘀血作痛。'},\n",
       "   {'predicate': '亚目', 'object': '蔷薇亚目(Rosineae)'},\n",
       "   {'predicate': '别称', 'object': '七里香蔷薇、七里香(陕西)'},\n",
       "   {'predicate': '种', 'object': '单瓣木香花'},\n",
       "   {'predicate': '界', 'object': '植物界'},\n",
       "   {'predicate': '目', 'object': '蔷薇目(Rosales)'},\n",
       "   {'predicate': '科', 'object': '蔷薇科(Rosaceae)'},\n",
       "   {'predicate': '拉丁学名', 'object': 'Rosa banksiao R.Br， var.Normalis Regel.'},\n",
       "   {'predicate': '纲', 'object': '双子叶植物纲(Magnoliopsida)'},\n",
       "   {'predicate': '门', 'object': '被子植物门(Angiospermae)'},\n",
       "   {'predicate': '中文学名', 'object': '单瓣木香花'},\n",
       "   {'predicate': '亚科', 'object': '苹果亚科(Pomoideae或Maloideae)'},\n",
       "   {'predicate': '亚纲', 'object': '蔷薇亚纲(Rosidae)'},\n",
       "   {'predicate': '义项描述', 'object': '单瓣木香花'},\n",
       "   {'predicate': '标签', 'object': '生物物种'},\n",
       "   {'predicate': '标签', 'object': '植物'},\n",
       "   {'predicate': '标签', 'object': '中药'}]}]"
      ]
     },
     "execution_count": 8,
     "metadata": {},
     "output_type": "execute_result"
    }
   ],
   "source": [
    "kb_data[0:3]"
   ]
  },
  {
   "cell_type": "code",
   "execution_count": 9,
   "metadata": {},
   "outputs": [
    {
     "name": "stdout",
     "output_type": "stream",
     "text": [
      "{'Thing': 122182, 'CreativeWork': 50733, 'Plant': 3896, 'HistoricalPerson': 1349, 'Human': 81787, 'Place': 11893, 'Movie': 22421, 'EntertainmentPerson': 18184, 'FictionalHuman': 18259, 'CommunicationMedium': 13465, 'Athlete': 714, 'Vocabulary': 18948, 'Game': 6237, 'TVShow': 503, 'TVPlay': 14235, 'Tool': 553, 'Material': 533, 'Event': 1065, 'Organization': 4136, 'ScientificOrganization': 846, 'CollegeOrUniversity': 548, 'Language': 167, 'Product': 997, 'Organism': 139, 'Animal': 1928, 'Building': 266, 'Brand': 700, 'Country': 128, 'MedicalCondition': 180, 'Person': 312, 'Food': 620, 'FictionalThing': 278, 'FamilyName': 338, 'CulturalHeritage': 94, 'ZodiacSign': 9, 'Nation': 70, 'Currency': 42, 'AstronomicalObject': 102, 'HistoricalPeriod': 99, 'Symbol': 12, 'AcademicDiscipline': 158, 'Curriculum': 25, 'EducationMajor': 46, 'AwardEventSeries': 29, 'InternationalOrganization': 19, 'Formula': 4, 'MedicalDepartmentType': 1, 'Theorem': 1, 'Dynasty': 1}\n"
     ]
    }
   ],
   "source": [
    "# 统计各个实体类型出现次数\n",
    "alia_count = {}\n",
    "for item in kb_data:\n",
    "    alias = item['type'][0]\n",
    "    if alias not in alia_count:\n",
    "        alia_count[alias] = 1\n",
    "    else:\n",
    "        alia_count[alias] += 1\n",
    "print(alia_count)"
   ]
  },
  {
   "cell_type": "code",
   "execution_count": 10,
   "metadata": {},
   "outputs": [
    {
     "name": "stdout",
     "output_type": "stream",
     "text": [
      "{'alias': ['英国'], 'subject_id': '174860', 'subject': '英国', 'type': ['CommunicationMedium'], 'data': [{'predicate': '摘要', 'object': '《英国》，(英)提姆·洛克著，何良英，么少芳译图书，探险家旅游系列丛书的一本。'}, {'predicate': '原版名称', 'object': 'Britain'}, {'predicate': 'ISBN', 'object': '7-101-03904-9'}, {'predicate': '语种', 'object': '汉语'}, {'predicate': '出版、发行地', 'object': '北京'}, {'predicate': '分类', 'object': '中图分类:K956.19'}, {'predicate': '页数', 'object': '288页'}, {'predicate': '书名', 'object': '英国'}, {'predicate': '义项描述', 'object': '中华书局书籍'}, {'predicate': '标签', 'object': '文化'}]}\n",
      "{'alias': ['英国'], 'subject_id': '203473', 'subject': '英国', 'type': ['Thing'], 'data': [{'predicate': '摘要', 'object': '英国，是中国历史上周代的诸侯国，为皋陶之后裔，入春秋时期后沦为楚国的附庸，终为楚成王所灭。英国是一个十分弱小的诸侯国，国君姓氏为偃姓。《史记·十二诸侯年表》记载楚成王熊恽二十六年“灭六英”，即在楚成王熊恽二十六年，楚国灭英国与六国。'}, {'predicate': '灭亡原因', 'object': '为楚成王吞并'}, {'predicate': '起止年代', 'object': '？——前646年'}, {'predicate': '所属洲', 'object': '亚洲'}, {'predicate': '国君姓氏', 'object': '偃姓'}, {'predicate': '疆域', 'object': '今安徽金寨、霍山等地'}, {'predicate': '政治体制', 'object': '君主制'}, {'predicate': '简称', 'object': '英'}, {'predicate': '中文名称', 'object': '英国'}, {'predicate': '史书记载', 'object': '《春秋》，《左传》和《史记》'}, {'predicate': '首都', 'object': '安徽省六安西南，湖北省英山县'}, {'predicate': '官方语言', 'object': '上古汉语'}, {'predicate': '义项描述', 'object': '中国春秋时期诸侯国'}, {'predicate': '标签', 'object': '外国历史'}, {'predicate': '标签', 'object': '社会'}, {'predicate': '标签', 'object': '历史'}]}\n",
      "{'alias': ['英国'], 'subject_id': '211773', 'subject': '英国', 'type': ['CommunicationMedium'], 'data': [{'predicate': '摘要', 'object': '《英国》是一本自助出国旅游指南，由中资海派商务管理有限公司编写。该书内容包括：出国常识、留学、移民、探亲、商务、旅游、英国生活等，解答了常见的出国问题。'}, {'predicate': '义项描述', 'object': '机械工业出版社图书'}, {'predicate': '标签', 'object': '文化'}, {'predicate': '标签', 'object': '出版物'}, {'predicate': '标签', 'object': '美术'}]}\n",
      "{'alias': ['英国'], 'subject_id': '283001', 'subject': '英国', 'type': ['CommunicationMedium'], 'data': [{'predicate': '摘要', 'object': '《英国》化学工业出版社出版的图书。'}, {'predicate': '语种', 'object': 'Chinese 汉语'}, {'predicate': '出版社', 'object': '化学工业出版社'}, {'predicate': 'ISBN', 'object': '978-7-122-05941-3'}, {'predicate': '书名', 'object': '英国'}, {'predicate': '页数', 'object': '152页'}, {'predicate': '义项描述', 'object': '化学工业出版社出版图书'}, {'predicate': '标签', 'object': '文化'}, {'predicate': '标签', 'object': '文学作品'}]}\n",
      "{'alias': ['英国'], 'subject_id': '303720', 'subject': '英国', 'type': ['CommunicationMedium'], 'data': [{'predicate': '摘要', 'object': '本书包括：英国大观、伦敦、英格兰东南部、英格兰西部、英格兰中部、英格兰北部、威尔士、苏格兰、旅行者须知及旅游指南等内容。'}, {'predicate': '作者', 'object': 'Michael leapman'}, {'predicate': '书名', 'object': '英国'}, {'predicate': '出版社', 'object': '北京'}, {'predicate': '页数', 'object': '694页'}, {'predicate': '义项描述', 'object': 'Michael leapman主编图书'}, {'predicate': '标签', 'object': '文化'}, {'predicate': '标签', 'object': '出版物'}]}\n",
      "{'alias': ['英国'], 'subject_id': '346720', 'subject': '英国', 'type': ['CommunicationMedium'], 'data': [{'predicate': '摘要', 'object': '《英国》是2014年出版的图书，作者是APA Publications。'}, {'predicate': '分类', 'object': 'K956.1'}, {'predicate': 'ISBN', 'object': '7-5084-2246-5'}, {'predicate': '语种', 'object': 'Chinese 汉语'}, {'predicate': '关键词', 'object': '英国-概况英国'}, {'predicate': '页数', 'object': '413页'}, {'predicate': '发行地', 'object': '北京'}, {'predicate': '作者', 'object': '[德]APA Publications[原著]'}, {'predicate': '书名', 'object': '英国'}, {'predicate': '义项描述', 'object': 'APA Publications编著书籍'}, {'predicate': '标签', 'object': '文化'}, {'predicate': '标签', 'object': '出版物'}]}\n",
      "{'alias': ['英国'], 'subject_id': '405290', 'subject': '英国', 'type': ['CommunicationMedium'], 'data': [{'predicate': '摘要', 'object': '本书从自然到人文，从历史到现实，全面地介绍了英国的国情。内容涵盖国土与人民、历史、政治、经济与社会生活，教育、科学和文化，军事以及对外关系等七部分。'}, {'predicate': 'ISBN', 'object': '7-80149-924-7'}, {'predicate': '关键词', 'object': '英国-概况英国'}, {'predicate': '页数', 'object': '15,489页'}, {'predicate': '作者', 'object': '王振华'}, {'predicate': '内容', 'object': '国土与人民、历史、政治等'}, {'predicate': '类别', 'object': '中图分类:K956.1'}, {'predicate': '书名', 'object': '英国'}, {'predicate': '义项描述', 'object': '王振华编著书籍'}, {'predicate': '标签', 'object': '文化'}, {'predicate': '标签', 'object': '文学作品'}]}\n"
     ]
    }
   ],
   "source": [
    "# 打印出名字为英国的实体\n",
    "for item in kb_data:\n",
    "    if item['alias'][0]=='英国':\n",
    "        print(item)"
   ]
  },
  {
   "cell_type": "code",
   "execution_count": 11,
   "metadata": {},
   "outputs": [],
   "source": [
    "# 统计训练集中的实体名称\n",
    "m_list = []\n",
    "for item in train_data:\n",
    "    for m in item['mention_data']:\n",
    "        m_list.append(m['mention'])"
   ]
  },
  {
   "cell_type": "code",
   "execution_count": 12,
   "metadata": {},
   "outputs": [
    {
     "name": "stdout",
     "output_type": "stream",
     "text": [
      "训练集一共有116924个不同实体\n"
     ]
    }
   ],
   "source": [
    "print('训练集一共有%d个不同实体'%len(set(m_list)))"
   ]
  },
  {
   "cell_type": "code",
   "execution_count": 13,
   "metadata": {},
   "outputs": [],
   "source": [
    "# 载入bert预训练token\n",
    "vocab = []\n",
    "with open('data/bert-base-chinese-vocab.txt','r') as f:\n",
    "    for line in f.readlines():\n",
    "        vocab.append(line.strip())"
   ]
  },
  {
   "cell_type": "code",
   "execution_count": 14,
   "metadata": {},
   "outputs": [],
   "source": [
    "# 统计训练集中的字符串种类\n",
    "m_list = []\n",
    "for item in train_data:\n",
    "    for t in item['text']:\n",
    "        m_list.append(t)\n"
   ]
  },
  {
   "cell_type": "code",
   "execution_count": 15,
   "metadata": {},
   "outputs": [],
   "source": [
    "w_f = {}\n",
    "for item in m_list:\n",
    "    if item not in w_f:\n",
    "        w_f[item] = 1\n",
    "    else:\n",
    "        w_f[item] += 1"
   ]
  },
  {
   "cell_type": "code",
   "execution_count": 16,
   "metadata": {},
   "outputs": [],
   "source": [
    "m_list = set(m_list)\n",
    "vocab = set(vocab)"
   ]
  },
  {
   "cell_type": "code",
   "execution_count": 17,
   "metadata": {},
   "outputs": [],
   "source": [
    "oov = []\n",
    "for i in m_list:\n",
    "    if i not in vocab:\n",
    "        oov.append(i)"
   ]
  },
  {
   "cell_type": "code",
   "execution_count": 18,
   "metadata": {},
   "outputs": [
    {
     "name": "stdout",
     "output_type": "stream",
     "text": [
      "输入字符中有6466种字符，有1019个不再bert token中\n"
     ]
    }
   ],
   "source": [
    "print('输入字符中有%d种字符，有%d个不再bert token中'%(len(m_list),len(oov)))"
   ]
  },
  {
   "cell_type": "code",
   "execution_count": null,
   "metadata": {},
   "outputs": [],
   "source": []
  },
  {
   "cell_type": "code",
   "execution_count": 19,
   "metadata": {},
   "outputs": [],
   "source": [
    "# 统计训练集中的字符串种类\n",
    "m_list = ''\n",
    "for item in train_data:\n",
    "    for t in item['mention_data']:\n",
    "        \n",
    "        m_list+=t['mention']\n",
    "m_list = set(m_list)"
   ]
  },
  {
   "cell_type": "code",
   "execution_count": 20,
   "metadata": {},
   "outputs": [],
   "source": [
    "oov = []\n",
    "for i in m_list:\n",
    "    if i not in vocab:\n",
    "        oov.append(i)"
   ]
  },
  {
   "cell_type": "code",
   "execution_count": 21,
   "metadata": {},
   "outputs": [
    {
     "name": "stdout",
     "output_type": "stream",
     "text": [
      "输入mention中有5635种字符，有583个不再bert token中\n"
     ]
    }
   ],
   "source": [
    "print('输入mention中有%d种字符，有%d个不再bert token中'%(len(m_list),len(oov)))"
   ]
  },
  {
   "cell_type": "code",
   "execution_count": 22,
   "metadata": {},
   "outputs": [
    {
     "data": {
      "text/plain": [
       "['苴',\n",
       " '琾',\n",
       " '郯',\n",
       " 'Ⅱ',\n",
       " '魃',\n",
       " '倥',\n",
       " '⊱',\n",
       " '萢',\n",
       " '﹋',\n",
       " 'Ï',\n",
       " '噉',\n",
       " '╧',\n",
       " '성',\n",
       " '\\ufeff',\n",
       " '蛩',\n",
       " '昺',\n",
       " '琯',\n",
       " '聃',\n",
       " '猢',\n",
       " '獀']"
      ]
     },
     "execution_count": 22,
     "metadata": {},
     "output_type": "execute_result"
    }
   ],
   "source": [
    "oov[0:20]"
   ]
  },
  {
   "cell_type": "code",
   "execution_count": 23,
   "metadata": {},
   "outputs": [],
   "source": [
    "oov_f = dict((x,w_f[x]) for x in oov)"
   ]
  },
  {
   "cell_type": "code",
   "execution_count": 26,
   "metadata": {},
   "outputs": [
    {
     "data": {
      "text/plain": [
       "[{'text_id': '1',\n",
       "  'text': '南京南站:坐高铁在南京南站下。南京南站',\n",
       "  'mention_data': [{'kb_id': '311223', 'mention': '南京南站', 'offset': '0'},\n",
       "   {'kb_id': '341096', 'mention': '高铁', 'offset': '6'},\n",
       "   {'kb_id': '311223', 'mention': '南京南站', 'offset': '9'},\n",
       "   {'kb_id': '311223', 'mention': '南京南站', 'offset': '15'}]},\n",
       " {'text_id': '2',\n",
       "  'text': '比特币吸粉无数,但央行的心另有所属|界面新闻 · jmedia',\n",
       "  'mention_data': [{'kb_id': '278410', 'mention': '比特币', 'offset': '0'},\n",
       "   {'kb_id': '199602', 'mention': '央行', 'offset': '9'},\n",
       "   {'kb_id': '215472', 'mention': '界面新闻', 'offset': '18'}]},\n",
       " {'text_id': '3',\n",
       "  'text': '解读《万历十五年》',\n",
       "  'mention_data': [{'kb_id': '131751', 'mention': '万历十五年', 'offset': '3'}]}]"
      ]
     },
     "execution_count": 26,
     "metadata": {},
     "output_type": "execute_result"
    }
   ],
   "source": [
    "train_data[0:3]"
   ]
  },
  {
   "cell_type": "code",
   "execution_count": 27,
   "metadata": {},
   "outputs": [],
   "source": [
    "l = []\n",
    "for t  in train_data:\n",
    "    l.append(len(t['text']))"
   ]
  },
  {
   "cell_type": "code",
   "execution_count": 30,
   "metadata": {},
   "outputs": [
    {
     "name": "stdout",
     "output_type": "stream",
     "text": [
      "最大长度49，平均长度21.716822\n"
     ]
    }
   ],
   "source": [
    "import numpy as np\n",
    "print('最大长度%d，平均长度%f'%(max(l),np.mean(l)))"
   ]
  },
  {
   "cell_type": "code",
   "execution_count": 25,
   "metadata": {},
   "outputs": [
    {
     "data": {
      "text/plain": [
       "'\\n总体设计思想\\n１\\u3000编码方式\\n    BMEO编码\\n２\\u3000网络设计\\n    实体识别\\n    2.1 lstm+crf\\n    2.2 bert+crf\\n    2.3 bert+finetune\\n    2.4 bert+crf+finetune\\n    类型判断\\n    2.5 bert\\u3000语言模型向量输出\\n    最终分类\\n    待定\\n３  loss\\u3000function\\n    两种loss，BMEO\\u3000loss和entity loss 倾向于识别出实体\\n'"
      ]
     },
     "execution_count": 25,
     "metadata": {},
     "output_type": "execute_result"
    }
   ],
   "source": [
    "\"\"\"\n",
    "总体设计思想\n",
    "１　编码方式\n",
    "    BMEO编码\n",
    "２　网络设计\n",
    "    实体识别\n",
    "    2.1 lstm+crf\n",
    "    2.2 bert+crf\n",
    "    2.3 bert+finetune\n",
    "    2.4 bert+crf+finetune\n",
    "    类型判断\n",
    "    2.5 bert　语言模型向量输出\n",
    "    最终分类\n",
    "    待定\n",
    "３  loss　function\n",
    "    两种loss，BMEO　loss和entity loss 倾向于识别出实体\n",
    "\"\"\"\n",
    "    "
   ]
  }
 ],
 "metadata": {
  "kernelspec": {
   "display_name": "Python 3",
   "language": "python",
   "name": "python3"
  },
  "language_info": {
   "codemirror_mode": {
    "name": "ipython",
    "version": 3
   },
   "file_extension": ".py",
   "mimetype": "text/x-python",
   "name": "python",
   "nbconvert_exporter": "python",
   "pygments_lexer": "ipython3",
   "version": "3.6.8"
  }
 },
 "nbformat": 4,
 "nbformat_minor": 2
}
