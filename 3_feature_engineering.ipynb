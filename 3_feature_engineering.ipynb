{
 "cells": [
  {
   "cell_type": "code",
   "execution_count": 1,
   "metadata": {},
   "outputs": [],
   "source": [
    "# 数值特征\n",
    "import pandas as pd\n",
    "import numpy as np\n",
    "import json\n",
    "from tqdm import tqdm as tqdm\n",
    "from sklearn.model_selection import KFold"
   ]
  },
  {
   "cell_type": "code",
   "execution_count": null,
   "metadata": {},
   "outputs": [],
   "source": [
    "train_data = []\n",
    "train_data_dict = {}\n",
    "with open('data/raw_data/train.json', 'r') as f:\n",
    "    for line in f:\n",
    "        raw = eval(str(json.loads(line)).lower())\n",
    "        train_data.append(raw)\n",
    "        #train_data_dict[raw['text_id']] = raw\n",
    "kb = {}\n",
    "with open('data/raw_data/kb_data', 'r') as f:\n",
    "    for line in f:\n",
    "        item = eval(str(json.loads(line)).lower())\n",
    "        kb[item['subject_id']] = item\n",
    "# 补充别名实体进入kb\n",
    "\n",
    "            \n",
    "name_id = {}\n",
    "for kb_id in kb:\n",
    "    for item in kb[kb_id]['alias']:\n",
    "        if item not in name_id:\n",
    "            name_id[item] = [kb_id]\n",
    "        else:\n",
    "            name_id[item].append(kb_id)\n",
    "    if kb[kb_id]['subject'] not in name_id:\n",
    "        name_id[kb[kb_id]['subject']] = [kb_id]\n",
    "    else:\n",
    "        name_id[kb[kb_id]['subject']].append(kb_id)\n",
    "for id in name_id:\n",
    "    name_id[id] = sorted(list(set(name_id[id])))"
   ]
  },
  {
   "cell_type": "code",
   "execution_count": null,
   "metadata": {},
   "outputs": [],
   "source": [
    "# 提取candidate候选特征\n",
    "kb_column = []\n",
    "train_column = []\n",
    "text_id = []\n",
    "label_colum = []\n",
    "num_attrs = []\n",
    "num_abstract_words = []\n",
    "num_alias = []\n",
    "m_id = 0\n",
    "m_id_list = []\n",
    "num_candidate = []\n",
    "equal_subject = []\n",
    "shuminghao = [] \n",
    "entity_common = []\n",
    "len_mention = []\n",
    "mention_start = []\n",
    "numerical_f = []\n",
    "is_eng = []\n",
    "for s in tqdm(train_data):\n",
    "    mention_ner = s['mention_data']\n",
    "    m_list = []\n",
    "    for m in mention_ner:\n",
    "        m_list.append(m['mention'])\n",
    "    for m in mention_ner:\n",
    "        if m['mention'] not in name_id : # 不能注销，因为有些实体没有or m['kb_id']=='nil':\n",
    "            continue\n",
    "        if m['kb_id'] != 'nil':\n",
    "            name_list = [kb[m['kb_id']]['subject']]+kb[m['kb_id']]['alias']\n",
    "            if m['mention'] not in name_list:\n",
    "                continue \n",
    "        candidate_ids = name_id[m['mention']]\n",
    "        for m_candidate_id in candidate_ids:\n",
    "            # 统计配对特征\n",
    "            candidate_numattrs = 0\n",
    "            candidate_abstract_numwords = 0\n",
    "            candidate_detail = kb[m_candidate_id]\n",
    "            candi_text = ''\n",
    "            for predicate in candidate_detail['data']:\n",
    "                candidate_numattrs += 1\n",
    "                candi_text += predicate['object']\n",
    "                #candi_text += predicate['predicate']\n",
    "\n",
    "                if predicate['predicate'] == '摘要':\n",
    "                    candidate_abstract = predicate['object']\n",
    "                    candidate_abstract_numwords = len(candidate_abstract)\n",
    "#                 if predicate['predicate'] == '标签':\n",
    "#                     candidate_label += predicate['object']\n",
    "            if m_candidate_id==m['kb_id']:\n",
    "                label = 1\n",
    "            else:\n",
    "                label = 0\n",
    "            train_column.append(m['mention'])\n",
    "            kb_column.append(m_candidate_id)\n",
    "            text_id.append(s['text_id'])\n",
    "            label_colum.append(label)\n",
    "            num_attrs.append(candidate_numattrs)\n",
    "            num_abstract_words.append(candidate_abstract_numwords)\n",
    "            num_alias.append(len(set(candidate_detail['alias']+[candidate_detail['subject']])))\n",
    "            m_id_list.append(m_id)\n",
    "\n",
    "        m_id += 1\n",
    "        \n",
    "data = pd.DataFrame()\n",
    "data['text_id'] = text_id\n",
    "data['kb_id'] = kb_column\n",
    "data['train_mention'] = train_column\n",
    "data['label'] = label_colum\n",
    "data['m_id'] = m_id_list"
   ]
  },
  {
   "cell_type": "code",
   "execution_count": 5,
   "metadata": {},
   "outputs": [
    {
     "data": {
      "text/html": [
       "<div>\n",
       "<style scoped>\n",
       "    .dataframe tbody tr th:only-of-type {\n",
       "        vertical-align: middle;\n",
       "    }\n",
       "\n",
       "    .dataframe tbody tr th {\n",
       "        vertical-align: top;\n",
       "    }\n",
       "\n",
       "    .dataframe thead th {\n",
       "        text-align: right;\n",
       "    }\n",
       "</style>\n",
       "<table border=\"1\" class=\"dataframe\">\n",
       "  <thead>\n",
       "    <tr style=\"text-align: right;\">\n",
       "      <th></th>\n",
       "      <th>text_id</th>\n",
       "      <th>kb_id</th>\n",
       "      <th>train_mention</th>\n",
       "      <th>label</th>\n",
       "      <th>m_id</th>\n",
       "    </tr>\n",
       "  </thead>\n",
       "  <tbody>\n",
       "    <tr>\n",
       "      <th>0</th>\n",
       "      <td>1</td>\n",
       "      <td>130287</td>\n",
       "      <td>南京南站</td>\n",
       "      <td>0</td>\n",
       "      <td>0</td>\n",
       "    </tr>\n",
       "    <tr>\n",
       "      <th>1</th>\n",
       "      <td>1</td>\n",
       "      <td>311223</td>\n",
       "      <td>南京南站</td>\n",
       "      <td>1</td>\n",
       "      <td>0</td>\n",
       "    </tr>\n",
       "    <tr>\n",
       "      <th>2</th>\n",
       "      <td>1</td>\n",
       "      <td>341096</td>\n",
       "      <td>高铁</td>\n",
       "      <td>1</td>\n",
       "      <td>1</td>\n",
       "    </tr>\n",
       "    <tr>\n",
       "      <th>3</th>\n",
       "      <td>1</td>\n",
       "      <td>130287</td>\n",
       "      <td>南京南站</td>\n",
       "      <td>0</td>\n",
       "      <td>2</td>\n",
       "    </tr>\n",
       "    <tr>\n",
       "      <th>4</th>\n",
       "      <td>1</td>\n",
       "      <td>311223</td>\n",
       "      <td>南京南站</td>\n",
       "      <td>1</td>\n",
       "      <td>2</td>\n",
       "    </tr>\n",
       "  </tbody>\n",
       "</table>\n",
       "</div>"
      ],
      "text/plain": [
       "  text_id   kb_id train_mention  label  m_id\n",
       "0       1  130287          南京南站      0     0\n",
       "1       1  311223          南京南站      1     0\n",
       "2       1  341096            高铁      1     1\n",
       "3       1  130287          南京南站      0     2\n",
       "4       1  311223          南京南站      1     2"
      ]
     },
     "execution_count": 5,
     "metadata": {},
     "output_type": "execute_result"
    }
   ],
   "source": [
    "data.head()"
   ]
  },
  {
   "cell_type": "code",
   "execution_count": 6,
   "metadata": {},
   "outputs": [
    {
     "name": "stdout",
     "output_type": "stream",
     "text": [
      "[     0      1      2 ... 174073 174074 174075]\n",
      "(19791, 9)\n"
     ]
    },
    {
     "name": "stderr",
     "output_type": "stream",
     "text": [
      "/home/zhukaihua/anaconda3/lib/python3.7/site-packages/ipykernel_launcher.py:14: FutureWarning: using a dict on a Series for aggregation\n",
      "is deprecated and will be removed in a future version\n",
      "  \n",
      "  0%|          | 0/4 [00:00<?, ?it/s]/home/zhukaihua/anaconda3/lib/python3.7/site-packages/ipykernel_launcher.py:23: FutureWarning: using a dict on a Series for aggregation\n",
      "is deprecated and will be removed in a future version\n",
      "100%|██████████| 4/4 [00:00<00:00,  3.95it/s]\n"
     ]
    },
    {
     "name": "stdout",
     "output_type": "stream",
     "text": [
      "[174076 174077 174078 ... 348149 348150 348151]\n",
      "(19651, 9)\n"
     ]
    },
    {
     "name": "stderr",
     "output_type": "stream",
     "text": [
      "100%|██████████| 4/4 [00:00<00:00,  4.36it/s]\n"
     ]
    },
    {
     "name": "stdout",
     "output_type": "stream",
     "text": [
      "[348152 348153 348154 ... 522225 522226 522227]\n",
      "(18949, 9)\n"
     ]
    },
    {
     "name": "stderr",
     "output_type": "stream",
     "text": [
      "100%|██████████| 4/4 [00:00<00:00,  4.22it/s]\n"
     ]
    },
    {
     "name": "stdout",
     "output_type": "stream",
     "text": [
      "[522228 522229 522230 ... 696301 696302 696303]\n",
      "(20126, 9)\n"
     ]
    },
    {
     "name": "stderr",
     "output_type": "stream",
     "text": [
      "100%|██████████| 4/4 [00:00<00:00,  4.31it/s]\n"
     ]
    },
    {
     "name": "stdout",
     "output_type": "stream",
     "text": [
      "[696304 696305 696306 ... 870377 870378 870379]\n",
      "(19116, 9)\n"
     ]
    },
    {
     "name": "stderr",
     "output_type": "stream",
     "text": [
      "100%|██████████| 4/4 [00:00<00:00,  4.20it/s]\n"
     ]
    },
    {
     "name": "stdout",
     "output_type": "stream",
     "text": [
      "[ 870380  870381  870382 ... 1044452 1044453 1044454]\n",
      "(19575, 9)\n"
     ]
    },
    {
     "name": "stderr",
     "output_type": "stream",
     "text": [
      "100%|██████████| 4/4 [00:01<00:00,  3.99it/s]\n"
     ]
    },
    {
     "name": "stdout",
     "output_type": "stream",
     "text": [
      "[1044455 1044456 1044457 ... 1218527 1218528 1218529]\n",
      "(19473, 9)\n"
     ]
    },
    {
     "name": "stderr",
     "output_type": "stream",
     "text": [
      "100%|██████████| 4/4 [00:00<00:00,  4.32it/s]\n"
     ]
    },
    {
     "name": "stdout",
     "output_type": "stream",
     "text": [
      "[1218530 1218531 1218532 ... 1392602 1392603 1392604]\n",
      "(19438, 9)\n"
     ]
    },
    {
     "name": "stderr",
     "output_type": "stream",
     "text": [
      "100%|██████████| 4/4 [00:01<00:00,  2.11it/s]\n"
     ]
    },
    {
     "name": "stdout",
     "output_type": "stream",
     "text": [
      "[1392605 1392606 1392607 ... 1566677 1566678 1566679]\n",
      "(19570, 9)\n"
     ]
    },
    {
     "name": "stderr",
     "output_type": "stream",
     "text": [
      "100%|██████████| 4/4 [00:00<00:00,  4.38it/s]\n"
     ]
    }
   ],
   "source": [
    "# 流行度特征\n",
    "# 总流行度\n",
    "data_ctr = []\n",
    "kfold = KFold(n_splits=9,shuffle=False,random_state=2019)\n",
    "for train_index,test_index in kfold.split(data):\n",
    "    print(test_index)\n",
    "    stat_train_data,stat_test_data = data.loc[train_index,:],data.loc[test_index,:]\n",
    "    #print(test_data.head())\n",
    "    train_group = stat_train_data.groupby('kb_id',as_index=False)['label'].agg({'label_mean':'mean','label_max':'max',\n",
    "                                                                                'label_var':'var','label_count':'count'})\n",
    "    stat_test_data = stat_test_data.merge(train_group,on='kb_id',how='left')\n",
    "    print(stat_test_data[stat_test_data.label_mean.isnull()].shape)\n",
    "    train_group = stat_train_data.groupby(['kb_id','train_mention'])['label'].agg({'m_label_mean':'mean','m_label_max':'max',\n",
    "                                                                                   'm_label_var':'var','m_label_count':'count'})\n",
    "    stat_test_data = stat_test_data.merge(train_group,on=['kb_id','train_mention'],how='left')\n",
    "\n",
    "    # mean and var\n",
    "    to_rank = [ 'm_label_mean', 'm_label_max',\n",
    "           'm_label_var', 'm_label_count', \n",
    "              ]\n",
    "    for f in tqdm(to_rank):\n",
    "        data_group = stat_test_data.groupby('kb_id')[f].agg({'kb_'+f+'_var':'var','kb_'+f+'_mean':'mean','kb_'+f+'_max':'max',\n",
    "                                                       'kb_'+f+'_min':'min'})\n",
    "        stat_test_data = stat_test_data.merge(data_group,on='kb_id',how='left')\n",
    "\n",
    "    # rank 特征\n",
    "    to_rank = [ 'm_label_mean', 'm_label_max',\n",
    "           'm_label_var', 'm_label_count', \n",
    "              ]\n",
    "    for f in to_rank:\n",
    "        data_group = stat_test_data.groupby('kb_id')[f].rank(ascending=False)\n",
    "        stat_test_data['kbid_rank_'+f] = data_group\n",
    "    \n",
    "    data_ctr.append(stat_test_data)\n",
    "data_ctr = pd.concat(data_ctr,axis=0)\n"
   ]
  },
  {
   "cell_type": "code",
   "execution_count": null,
   "metadata": {},
   "outputs": [],
   "source": []
  },
  {
   "cell_type": "code",
   "execution_count": 8,
   "metadata": {},
   "outputs": [],
   "source": [
    "before = pd.read_pickle('features/1_stat_feature_v3.pkl')"
   ]
  },
  {
   "cell_type": "code",
   "execution_count": 17,
   "metadata": {},
   "outputs": [
    {
     "data": {
      "text/plain": [
       "['341096']"
      ]
     },
     "execution_count": 17,
     "metadata": {},
     "output_type": "execute_result"
    }
   ],
   "source": [
    "name_id['高铁']"
   ]
  },
  {
   "cell_type": "code",
   "execution_count": 16,
   "metadata": {},
   "outputs": [
    {
     "name": "stdout",
     "output_type": "stream",
     "text": [
      "        text_id train_mention  m_label_mean  m_label_count\n",
      "0             1          南京南站           NaN            NaN\n",
      "1             1          南京南站           NaN            NaN\n",
      "2             1            高铁      0.222222            9.0\n",
      "3             1            高铁      0.777778            9.0\n",
      "4             1          南京南站           NaN            NaN\n",
      "5             1          南京南站           NaN            NaN\n",
      "6             1          南京南站           NaN            NaN\n",
      "7             1          南京南站           NaN            NaN\n",
      "8             2           比特币      1.000000           19.0\n",
      "9             2           比特币      0.000000           19.0\n",
      "10            2           比特币      0.000000           19.0\n",
      "11            2           比特币      0.000000           19.0\n",
      "12            2            央行      0.000000            1.0\n",
      "13            2            央行      1.000000            1.0\n",
      "14            2          界面新闻      0.971429           35.0\n",
      "15            3         万历十五年      1.000000            8.0\n",
      "16            3         万历十五年      0.000000            8.0\n",
      "17            4            迅雷      0.000000          794.0\n",
      "18            4            迅雷      0.001259          794.0\n",
      "19            4            迅雷      0.000000          794.0\n",
      "20            4            迅雷      0.000000          794.0\n",
      "21            4            迅雷      0.001259          794.0\n",
      "22            4            迅雷      0.000000          794.0\n",
      "23            4            迅雷      0.000000          794.0\n",
      "24            4            迅雷      0.997481          794.0\n",
      "25            4            迅雷      0.000000          794.0\n",
      "26            4            美剧      0.991150          113.0\n",
      "27            5           毛泽东      0.000000           46.0\n",
      "28            5           毛泽东      0.000000           46.0\n",
      "29            5           毛泽东      0.000000           46.0\n",
      "...         ...           ...           ...            ...\n",
      "1834938   89999            主演      0.993243          148.0\n",
      "1834939   90000            电影      0.000202         4951.0\n",
      "1834940   90000            电影      0.000202         4951.0\n",
      "1834941   90000            电影      0.000202         4951.0\n",
      "1834942   90000            电影      0.987073         4951.0\n",
      "1834943   90000            电影      0.000000         4951.0\n",
      "1834944   90000            电影      0.000000         4951.0\n",
      "1834945   90000            电影      0.000202         4951.0\n",
      "1834946   90000            电影      0.000000         4951.0\n",
      "1834947   90000            电影      0.000202         4951.0\n",
      "1834948   90000            电影      0.000202         4951.0\n",
      "1834949   90000            电影      0.000000         4951.0\n",
      "1834950   90000            电影      0.000000         4951.0\n",
      "1834951   90000            电影      0.000000         4951.0\n",
      "1834952   90000            电影      0.000202         4951.0\n",
      "1834953   90000            电影      0.000000         4951.0\n",
      "1834954   90000            电影      0.000202         4951.0\n",
      "1834955   90000            电影      0.000202         4951.0\n",
      "1834956   90000            电影      0.010301         4951.0\n",
      "1834957   90000            电影      0.000000         4951.0\n",
      "1834958   90000            电影      0.000000         4951.0\n",
      "1834959   90000            电影      0.000202         4951.0\n",
      "1834960   90000            电影      0.000000         4951.0\n",
      "1834961   90000            电影      0.000000         4951.0\n",
      "1834962   90000            电影      0.000202         4951.0\n",
      "1834963   90000            电影      0.000000         4951.0\n",
      "1834964   90000            电影      0.000202         4951.0\n",
      "1834965   90000           尹灵芝           NaN            NaN\n",
      "1834966   90000           尹灵芝           NaN            NaN\n",
      "1834967   90000           尹灵芝           NaN            NaN\n",
      "\n",
      "[1834968 rows x 4 columns]\n",
      "       text_id train_mention  m_label_mean  m_label_count\n",
      "0            1          南京南站           NaN            NaN\n",
      "1            1          南京南站           NaN            NaN\n",
      "2            1            高铁      1.000000            7.0\n",
      "3            1          南京南站           NaN            NaN\n",
      "4            1          南京南站           NaN            NaN\n",
      "5            1          南京南站           NaN            NaN\n",
      "6            1          南京南站           NaN            NaN\n",
      "7            2           比特币      1.000000           19.0\n",
      "8            2           比特币      0.000000           19.0\n",
      "9            2           比特币      0.000000           19.0\n",
      "10           2           比特币      0.000000           19.0\n",
      "11           2          界面新闻      0.971429           35.0\n",
      "12           3         万历十五年      1.000000            8.0\n",
      "13           3         万历十五年      0.000000            8.0\n",
      "14           4            迅雷      0.000000          794.0\n",
      "15           4            迅雷      0.000000          794.0\n",
      "16           4            迅雷      0.000000          794.0\n",
      "17           4            迅雷      0.000000          794.0\n",
      "18           4            迅雷      0.000000          794.0\n",
      "19           4            迅雷      1.000000          794.0\n",
      "20           4            迅雷      0.000000          794.0\n",
      "21           4            美剧      0.991150          113.0\n",
      "22           5           毛泽东      0.000000           46.0\n",
      "23           5           毛泽东      0.000000           46.0\n",
      "24           5           毛泽东      0.000000           46.0\n",
      "25           5           毛泽东      0.000000           46.0\n",
      "26           5           毛泽东      0.000000           46.0\n",
      "27           5           毛泽东      0.000000           46.0\n",
      "28           5           毛泽东      0.000000           46.0\n",
      "29           5           毛泽东      0.000000           46.0\n",
      "...        ...           ...           ...            ...\n",
      "174045   89999            明星      0.000000          151.0\n",
      "174046   89999            明星      0.000000          151.0\n",
      "174047   89999            明星      0.000000          151.0\n",
      "174048   89999            明星      0.993377          151.0\n",
      "174049   89999            明星      0.000000          151.0\n",
      "174050   89999            明星      0.000000          151.0\n",
      "174051   89999            明星      0.000000          151.0\n",
      "174052   89999            明星      0.000000          151.0\n",
      "174053   89999            明星      0.000000          151.0\n",
      "174054   89999            明星      0.000000          151.0\n",
      "174055   89999            明星      0.000000          151.0\n",
      "174056   89999            明星      0.000000          151.0\n",
      "174057   89999            明星      0.000000          151.0\n",
      "174058   89999            主演      0.000000          148.0\n",
      "174059   89999            主演      0.993243          148.0\n",
      "174060   90000            电影      0.989273         4941.0\n",
      "174061   90000            电影      0.000000         4941.0\n",
      "174062   90000            电影      0.000000         4941.0\n",
      "174063   90000            电影      0.000000         4941.0\n",
      "174064   90000            电影      0.000000         4941.0\n",
      "174065   90000            电影      0.000000         4941.0\n",
      "174066   90000            电影      0.010322         4941.0\n",
      "174067   90000            电影      0.000000         4941.0\n",
      "174068   90000            电影      0.000000         4941.0\n",
      "174069   90000            电影      0.000000         4941.0\n",
      "174070   90000            电影      0.000000         4941.0\n",
      "174071   90000            电影      0.000000         4941.0\n",
      "174072   90000            电影      0.000202         4941.0\n",
      "174073   90000           尹灵芝           NaN            NaN\n",
      "174074   90000           尹灵芝           NaN            NaN\n",
      "\n",
      "[1566680 rows x 4 columns]\n"
     ]
    }
   ],
   "source": [
    "print(before[['text_id','train_mention','m_label_mean','m_label_count']])\n",
    "print(data_ctr[['text_id','train_mention','m_label_mean','m_label_count']])"
   ]
  },
  {
   "cell_type": "code",
   "execution_count": 6,
   "metadata": {},
   "outputs": [],
   "source": [
    "# rank 特征\n",
    "to_rank = ['label_mean', 'label_max',\n",
    "       'label_var', 'label_count', 'm_label_mean', 'm_label_max',\n",
    "       'm_label_var', 'm_label_count','kb_m_label_mean_var',\n",
    "       'kb_m_label_mean_mean', 'kb_m_label_mean_max', 'kb_m_label_mean_min',\n",
    "       'kb_m_label_max_var', 'kb_m_label_max_mean', 'kb_m_label_max_max',\n",
    "       'kb_m_label_max_min', 'kb_m_label_var_var', 'kb_m_label_var_mean',\n",
    "       'kb_m_label_var_max', 'kb_m_label_var_min', 'kb_m_label_count_var',\n",
    "       'kb_m_label_count_mean', 'kb_m_label_count_max', 'kb_m_label_count_min',\n",
    "       'kbid_rank_m_label_mean', 'kbid_rank_m_label_max',\n",
    "       'kbid_rank_m_label_var', 'kbid_rank_m_label_count'\n",
    "          ]\n",
    "for f in to_rank:\n",
    "    data_group = data_ctr.groupby('m_id')[f].rank(ascending=False)\n",
    "    data_ctr['mid_rank_'+f] = data_group\n",
    "    try:\n",
    "        data_ctr['mid_rank_'+f] = data_ctr['mid_rank_'+f].astype('int32')\n",
    "    except:\n",
    "        pass"
   ]
  },
  {
   "cell_type": "code",
   "execution_count": 7,
   "metadata": {},
   "outputs": [
    {
     "name": "stderr",
     "output_type": "stream",
     "text": [
      "  0%|          | 0/8 [00:00<?, ?it/s]/home/zhukaihua/anaconda3/lib/python3.7/site-packages/ipykernel_launcher.py:8: FutureWarning: using a dict on a Series for aggregation\n",
      "is deprecated and will be removed in a future version\n",
      "  \n",
      "100%|██████████| 8/8 [00:09<00:00,  1.23s/it]\n"
     ]
    }
   ],
   "source": [
    "# mean and var\n",
    "to_rank = [ 'label_mean', 'label_max',\n",
    "       'label_var', 'label_count', 'm_label_mean', 'm_label_max',\n",
    "       'm_label_var', 'm_label_count'\n",
    "          ]\n",
    "for f in tqdm(to_rank):\n",
    "    data_group = data_ctr.groupby('m_id')[f].agg({'mid_'+f+'_var':'var','mid_'+f+'_mean':'mean',\n",
    "                                                  'mid_'+f+'_max':'max','mid_'+f+'_min':'min'})\n",
    "    data_ctr = data_ctr.merge(data_group,on='m_id',how='left')"
   ]
  },
  {
   "cell_type": "code",
   "execution_count": 8,
   "metadata": {},
   "outputs": [],
   "source": [
    "# ctr 特征"
   ]
  },
  {
   "cell_type": "code",
   "execution_count": 9,
   "metadata": {},
   "outputs": [
    {
     "name": "stdout",
     "output_type": "stream",
     "text": [
      "label_mean\n",
      "label_max\n",
      "label_var\n",
      "label_count\n",
      "m_label_mean\n",
      "m_label_max\n",
      "m_label_var\n",
      "m_label_count\n",
      "kb_m_label_mean_var\n",
      "kb_m_label_mean_mean\n",
      "kb_m_label_mean_max\n",
      "kb_m_label_mean_min\n",
      "kb_m_label_max_var\n",
      "kb_m_label_max_mean\n",
      "kb_m_label_max_max\n",
      "kb_m_label_max_min\n",
      "kb_m_label_var_var\n",
      "kb_m_label_var_mean\n",
      "kb_m_label_var_max\n",
      "kb_m_label_var_min\n",
      "kb_m_label_count_var\n",
      "kb_m_label_count_mean\n",
      "kb_m_label_count_max\n",
      "kb_m_label_count_min\n",
      "kbid_rank_m_label_mean\n",
      "kbid_rank_m_label_max\n",
      "kbid_rank_m_label_var\n",
      "kbid_rank_m_label_count\n",
      "mid_rank_label_mean\n",
      "mid_rank_label_max\n",
      "mid_rank_label_var\n",
      "mid_rank_label_count\n",
      "mid_rank_m_label_mean\n",
      "mid_rank_m_label_max\n",
      "mid_rank_m_label_var\n",
      "mid_rank_m_label_count\n",
      "mid_rank_kb_m_label_mean_var\n",
      "mid_rank_kb_m_label_mean_mean\n",
      "mid_rank_kb_m_label_mean_max\n",
      "mid_rank_kb_m_label_mean_min\n",
      "mid_rank_kb_m_label_max_var\n",
      "mid_rank_kb_m_label_max_mean\n",
      "mid_rank_kb_m_label_max_max\n",
      "mid_rank_kb_m_label_max_min\n",
      "mid_rank_kb_m_label_var_var\n",
      "mid_rank_kb_m_label_var_mean\n",
      "mid_rank_kb_m_label_var_max\n",
      "mid_rank_kb_m_label_var_min\n",
      "mid_rank_kb_m_label_count_var\n",
      "mid_rank_kb_m_label_count_mean\n",
      "mid_rank_kb_m_label_count_max\n",
      "mid_rank_kb_m_label_count_min\n",
      "mid_rank_kbid_rank_m_label_mean\n",
      "mid_rank_kbid_rank_m_label_max\n",
      "mid_rank_kbid_rank_m_label_var\n",
      "mid_rank_kbid_rank_m_label_count\n",
      "mid_label_mean_var\n",
      "mid_label_mean_mean\n",
      "mid_label_mean_max\n",
      "mid_label_mean_min\n",
      "mid_label_max_var\n",
      "mid_label_max_mean\n",
      "mid_label_max_max\n",
      "mid_label_max_min\n",
      "mid_label_var_var\n",
      "mid_label_var_mean\n",
      "mid_label_var_max\n",
      "mid_label_var_min\n",
      "mid_label_count_var\n",
      "mid_label_count_mean\n",
      "mid_label_count_max\n",
      "mid_label_count_min\n",
      "mid_m_label_mean_var\n",
      "mid_m_label_mean_mean\n",
      "mid_m_label_mean_max\n",
      "mid_m_label_mean_min\n",
      "mid_m_label_max_var\n",
      "mid_m_label_max_mean\n",
      "mid_m_label_max_max\n",
      "mid_m_label_max_min\n",
      "mid_m_label_var_var\n",
      "mid_m_label_var_mean\n",
      "mid_m_label_var_max\n",
      "mid_m_label_var_min\n",
      "mid_m_label_count_var\n",
      "mid_m_label_count_mean\n",
      "mid_m_label_count_max\n",
      "mid_m_label_count_min\n"
     ]
    }
   ],
   "source": [
    "for item in data_ctr.columns:\n",
    "    if data_ctr.dtypes[item]=='float64':\n",
    "        print(item)\n",
    "        data_ctr[item] = data_ctr[item].astype('float32')"
   ]
  },
  {
   "cell_type": "code",
   "execution_count": 10,
   "metadata": {},
   "outputs": [],
   "source": [
    "data_ctr.reset_index(drop=True,inplace=True)\n",
    "data_ctr.to_pickle('features/3_stat_feature.pkl')"
   ]
  },
  {
   "cell_type": "code",
   "execution_count": null,
   "metadata": {},
   "outputs": [],
   "source": []
  },
  {
   "cell_type": "code",
   "execution_count": null,
   "metadata": {},
   "outputs": [],
   "source": []
  },
  {
   "cell_type": "code",
   "execution_count": null,
   "metadata": {},
   "outputs": [],
   "source": []
  },
  {
   "cell_type": "code",
   "execution_count": null,
   "metadata": {},
   "outputs": [],
   "source": []
  }
 ],
 "metadata": {
  "kernelspec": {
   "display_name": "Python 3",
   "language": "python",
   "name": "python3"
  },
  "language_info": {
   "codemirror_mode": {
    "name": "ipython",
    "version": 3
   },
   "file_extension": ".py",
   "mimetype": "text/x-python",
   "name": "python",
   "nbconvert_exporter": "python",
   "pygments_lexer": "ipython3",
   "version": "3.7.3"
  }
 },
 "nbformat": 4,
 "nbformat_minor": 2
}
