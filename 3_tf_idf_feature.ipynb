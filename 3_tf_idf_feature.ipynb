{
 "cells": [
  {
   "cell_type": "code",
   "execution_count": 1,
   "metadata": {},
   "outputs": [],
   "source": [
    "# 数值特征\n",
    "import pandas as pd\n",
    "import numpy as np\n",
    "import json\n",
    "from tqdm import tqdm as tqdm\n",
    "from sklearn.model_selection import KFold\n",
    "from sklearn.feature_extraction.text import TfidfVectorizer, CountVectorizer\n",
    "from sklearn.decomposition import TruncatedSVD\n",
    "import jieba\n",
    "# 获取mention的tfidf\n",
    "from gensim.models import TfidfModel\n",
    "from gensim.corpora import Dictionary\n",
    "import gensim.downloader as api\n",
    "from gensim.models import LsiModel"
   ]
  },
  {
   "cell_type": "code",
   "execution_count": 5,
   "metadata": {},
   "outputs": [],
   "source": [
    "train_data = []\n",
    "train_data_dict = {}\n",
    "with open('data/raw_data/train.json', 'r') as f:\n",
    "    for line in f:\n",
    "        raw = eval(str(json.loads(line)).lower())\n",
    "        train_data.append(raw)\n",
    "        train_data_dict[raw['text_id']] = raw\n",
    "# 读取知识库\n",
    "kb_data = []\n",
    "kb = {}\n",
    "with open('data/raw_data/kb_data','r') as f:\n",
    "    for line in f:\n",
    "        item = eval(str(json.loads(line)).lower())\n",
    "        kb[item['subject_id']] = item\n",
    "        kb_data.append(item)\n",
    "\n",
    "\n",
    "name_id = {}\n",
    "for kb_id in kb:\n",
    "    for item in kb[kb_id]['alias']:\n",
    "        if item not in name_id:\n",
    "            name_id[item] = [kb_id]\n",
    "        else:\n",
    "            name_id[item].append(kb_id)\n",
    "    if kb[kb_id]['subject'] not in name_id:\n",
    "        name_id[kb[kb_id]['subject']] = [kb_id]\n",
    "    else:\n",
    "        name_id[kb[kb_id]['subject']].append(kb_id)\n",
    "for id in name_id:\n",
    "    name_id[id] = sorted(list(set(name_id[id])))\n",
    "for id in name_id:\n",
    "    jieba.add_word(id,freq=10000)"
   ]
  },
  {
   "cell_type": "code",
   "execution_count": 6,
   "metadata": {},
   "outputs": [
    {
     "name": "stderr",
     "output_type": "stream",
     "text": [
      "100%|██████████| 399252/399252 [05:53<00:00, 1129.15it/s]\n"
     ]
    }
   ],
   "source": [
    "sentence = []\n",
    "for item in tqdm(kb_data):\n",
    "    sentence.append([item['subject_id'],item['type'][0]])\n",
    "    for t in item['data']:\n",
    "        temp = []\n",
    "        if t['predicate'] == '摘要':\n",
    "            abstract = jieba.lcut(t['object'])\n",
    "            for word in abstract:\n",
    "                if word !=item['subject']:\n",
    "                    temp.append(word)\n",
    "                else:\n",
    "                    temp.append(item['subject_id'])\n",
    "            sentence.append(temp)\n",
    "        else:\n",
    "            temp.append(item['subject_id'])\n",
    "            temp.append(t['predicate'])\n",
    "            for w in jieba.lcut(t['object']):\n",
    "                temp.append(w)\n",
    "            sentence.append(temp)\n",
    "with open('data/raw_data/train.json','r') as f:\n",
    "    for line in f:\n",
    "        sentence.append(jieba.lcut(eval(str(json.loads(line)).lower())['text']))\n",
    "with open('data/raw_data/develop.json','r') as f:\n",
    "    for line in f:\n",
    "        sentence.append(jieba.lcut(eval(str(json.loads(line)).lower())['text']))"
   ]
  },
  {
   "cell_type": "code",
   "execution_count": 7,
   "metadata": {},
   "outputs": [],
   "source": [
    "word_tf={}\n",
    "for s in sentence:\n",
    "    for w in s:\n",
    "        if w not in word_tf:\n",
    "            word_tf[w]=1\n",
    "        else:\n",
    "            word_tf[w]+=1"
   ]
  },
  {
   "cell_type": "code",
   "execution_count": 8,
   "metadata": {},
   "outputs": [],
   "source": [
    "data = pd.read_pickle('data/step1.pkl').loc[:,['text_id','kb_id','label','m_id','train_mention']]"
   ]
  },
  {
   "cell_type": "code",
   "execution_count": 9,
   "metadata": {},
   "outputs": [],
   "source": [
    "test_data = pd.read_pickle('data/step1_test.pkl').loc[:,['text_id','kb_id','m_id','train_mention']]"
   ]
  },
  {
   "cell_type": "code",
   "execution_count": 10,
   "metadata": {},
   "outputs": [],
   "source": [
    "test_data['label'] = -1"
   ]
  },
  {
   "cell_type": "code",
   "execution_count": 11,
   "metadata": {},
   "outputs": [
    {
     "name": "stderr",
     "output_type": "stream",
     "text": [
      "/home/zhukaihua/anaconda3/lib/python3.7/site-packages/pandas/core/frame.py:6692: FutureWarning: Sorting because non-concatenation axis is not aligned. A future version\n",
      "of pandas will change to not sort by default.\n",
      "\n",
      "To accept the future behavior, pass 'sort=False'.\n",
      "\n",
      "To retain the current behavior and silence the warning, pass 'sort=True'.\n",
      "\n",
      "  sort=sort)\n"
     ]
    }
   ],
   "source": [
    "data_all = data.append(test_data)"
   ]
  },
  {
   "cell_type": "code",
   "execution_count": 12,
   "metadata": {},
   "outputs": [
    {
     "data": {
      "text/plain": [
       "(2128874, 5)"
      ]
     },
     "execution_count": 12,
     "metadata": {},
     "output_type": "execute_result"
    }
   ],
   "source": [
    "data_all.shape"
   ]
  },
  {
   "cell_type": "code",
   "execution_count": 13,
   "metadata": {},
   "outputs": [],
   "source": [
    "# SVD降维后的TFIDF矩阵，n-gram 1-5"
   ]
  },
  {
   "cell_type": "code",
   "execution_count": 14,
   "metadata": {},
   "outputs": [],
   "source": [
    "data_all['text'] = data_all['text_id'].apply(lambda x:train_data_dict[str(x)]['text'])"
   ]
  },
  {
   "cell_type": "code",
   "execution_count": 15,
   "metadata": {},
   "outputs": [
    {
     "data": {
      "text/html": [
       "<div>\n",
       "<style scoped>\n",
       "    .dataframe tbody tr th:only-of-type {\n",
       "        vertical-align: middle;\n",
       "    }\n",
       "\n",
       "    .dataframe tbody tr th {\n",
       "        vertical-align: top;\n",
       "    }\n",
       "\n",
       "    .dataframe thead th {\n",
       "        text-align: right;\n",
       "    }\n",
       "</style>\n",
       "<table border=\"1\" class=\"dataframe\">\n",
       "  <thead>\n",
       "    <tr style=\"text-align: right;\">\n",
       "      <th></th>\n",
       "      <th>kb_id</th>\n",
       "      <th>label</th>\n",
       "      <th>m_id</th>\n",
       "      <th>text_id</th>\n",
       "      <th>train_mention</th>\n",
       "      <th>text</th>\n",
       "    </tr>\n",
       "  </thead>\n",
       "  <tbody>\n",
       "    <tr>\n",
       "      <th>0</th>\n",
       "      <td>130287</td>\n",
       "      <td>0</td>\n",
       "      <td>0</td>\n",
       "      <td>1</td>\n",
       "      <td>南京南站</td>\n",
       "      <td>南京南站:坐高铁在南京南站下。南京南站</td>\n",
       "    </tr>\n",
       "    <tr>\n",
       "      <th>1</th>\n",
       "      <td>311223</td>\n",
       "      <td>1</td>\n",
       "      <td>0</td>\n",
       "      <td>1</td>\n",
       "      <td>南京南站</td>\n",
       "      <td>南京南站:坐高铁在南京南站下。南京南站</td>\n",
       "    </tr>\n",
       "    <tr>\n",
       "      <th>2</th>\n",
       "      <td>341096</td>\n",
       "      <td>1</td>\n",
       "      <td>1</td>\n",
       "      <td>1</td>\n",
       "      <td>高铁</td>\n",
       "      <td>南京南站:坐高铁在南京南站下。南京南站</td>\n",
       "    </tr>\n",
       "    <tr>\n",
       "      <th>3</th>\n",
       "      <td>130287</td>\n",
       "      <td>0</td>\n",
       "      <td>2</td>\n",
       "      <td>1</td>\n",
       "      <td>南京南站</td>\n",
       "      <td>南京南站:坐高铁在南京南站下。南京南站</td>\n",
       "    </tr>\n",
       "    <tr>\n",
       "      <th>4</th>\n",
       "      <td>311223</td>\n",
       "      <td>1</td>\n",
       "      <td>2</td>\n",
       "      <td>1</td>\n",
       "      <td>南京南站</td>\n",
       "      <td>南京南站:坐高铁在南京南站下。南京南站</td>\n",
       "    </tr>\n",
       "  </tbody>\n",
       "</table>\n",
       "</div>"
      ],
      "text/plain": [
       "    kb_id  label  m_id text_id train_mention                 text\n",
       "0  130287      0     0       1          南京南站  南京南站:坐高铁在南京南站下。南京南站\n",
       "1  311223      1     0       1          南京南站  南京南站:坐高铁在南京南站下。南京南站\n",
       "2  341096      1     1       1            高铁  南京南站:坐高铁在南京南站下。南京南站\n",
       "3  130287      0     2       1          南京南站  南京南站:坐高铁在南京南站下。南京南站\n",
       "4  311223      1     2       1          南京南站  南京南站:坐高铁在南京南站下。南京南站"
      ]
     },
     "execution_count": 15,
     "metadata": {},
     "output_type": "execute_result"
    }
   ],
   "source": [
    "data_all.head()"
   ]
  },
  {
   "cell_type": "code",
   "execution_count": 12,
   "metadata": {},
   "outputs": [],
   "source": [
    "group_f = data_all[['text_id','text']].drop_duplicates()\n",
    "group_f['text_segment'] = group_f['text'].apply(lambda x:jieba.lcut(x))"
   ]
  },
  {
   "cell_type": "code",
   "execution_count": 13,
   "metadata": {},
   "outputs": [],
   "source": [
    "dct = Dictionary(group_f['text_segment'])  # fit dictionary\n",
    "corpus = [dct.doc2bow(line) for line in group_f['text_segment']]  # convert corpus to BoW format\n",
    "model = TfidfModel(corpus)  # fit model"
   ]
  },
  {
   "cell_type": "code",
   "execution_count": 14,
   "metadata": {},
   "outputs": [],
   "source": [
    "vector = model[corpus]\n",
    "group_f['vector'] = vector"
   ]
  },
  {
   "cell_type": "code",
   "execution_count": 15,
   "metadata": {},
   "outputs": [],
   "source": [
    "data_all = data_all.merge(group_f[['text_id','vector']],on='text_id')"
   ]
  },
  {
   "cell_type": "code",
   "execution_count": 16,
   "metadata": {},
   "outputs": [],
   "source": [
    "def cal_tfidf(mention,vec):\n",
    "    for v in vec:\n",
    "        try:\n",
    "            if dct.token2id[mention]==v[0]:\n",
    "                return v[1]\n",
    "        except:\n",
    "            pass\n",
    "            #print(mention)\n",
    "            \n",
    "    return -1\n",
    "data_all['mention_tfidf'] = data_all.apply(lambda x:cal_tfidf(x.train_mention,x.vector),axis=1)\n",
    "data_all['sum_tfidf'] = data_all['vector'].apply(lambda x:sum([i[1] for i in x]))"
   ]
  },
  {
   "cell_type": "code",
   "execution_count": 17,
   "metadata": {},
   "outputs": [],
   "source": [
    "# 根据kb提取topic，赋值给data_all #########################################"
   ]
  },
  {
   "cell_type": "code",
   "execution_count": 2,
   "metadata": {},
   "outputs": [],
   "source": [
    "# lsi_model.save('data/lsi_model.pth')  # save model\n",
    "#loaded_model = LsiModel.load(tmp_fname)  #"
   ]
  },
  {
   "cell_type": "code",
   "execution_count": null,
   "metadata": {},
   "outputs": [],
   "source": []
  },
  {
   "cell_type": "code",
   "execution_count": 3,
   "metadata": {},
   "outputs": [],
   "source": [
    "# # 应用于text\n",
    "# dct = Dictionary(group_f['text_segment'])  # fit dictionary\n",
    "# corpus = [dct.doc2bow(line) for line in group_f['text_segment']]"
   ]
  },
  {
   "cell_type": "code",
   "execution_count": null,
   "metadata": {},
   "outputs": [],
   "source": [
    "# 最大topic是否吻合，topic点积，最大topic，topic"
   ]
  },
  {
   "cell_type": "code",
   "execution_count": 106,
   "metadata": {},
   "outputs": [],
   "source": [
    "# vectorized_corpus = model[corpus]"
   ]
  },
  {
   "cell_type": "code",
   "execution_count": 108,
   "metadata": {},
   "outputs": [],
   "source": [
    "# topic_name = ['topics_%d'%i for i in range(50)]"
   ]
  },
  {
   "cell_type": "code",
   "execution_count": 128,
   "metadata": {},
   "outputs": [],
   "source": [
    "# # vectorized = []\n",
    "# for x in vectorized_corpus:\n",
    "#     topic_arr = np.zeros(50)\n",
    "#     for tuple_x in x:\n",
    "#         #print(tuple_x)\n",
    "#         topic_arr[tuple_x[0]] = tuple_x[1]\n",
    "#     vectorized.append(topic_arr)"
   ]
  },
  {
   "cell_type": "code",
   "execution_count": 129,
   "metadata": {},
   "outputs": [],
   "source": [
    "# vec_df = pd.DataFrame(vectorized,columns=topic_name)"
   ]
  },
  {
   "cell_type": "code",
   "execution_count": 4,
   "metadata": {},
   "outputs": [],
   "source": [
    "# vec_df.head()"
   ]
  },
  {
   "cell_type": "code",
   "execution_count": 131,
   "metadata": {},
   "outputs": [],
   "source": [
    "# vec_df['max_topic'] = vec_df.idxmax(axis=1).apply(lambda x:int(x.split('_')[-1]))"
   ]
  }
 ],
 "metadata": {
  "kernelspec": {
   "display_name": "Python 3",
   "language": "python",
   "name": "python3"
  },
  "language_info": {
   "codemirror_mode": {
    "name": "ipython",
    "version": 3
   },
   "file_extension": ".py",
   "mimetype": "text/x-python",
   "name": "python",
   "nbconvert_exporter": "python",
   "pygments_lexer": "ipython3",
   "version": "3.7.3"
  }
 },
 "nbformat": 4,
 "nbformat_minor": 2
}
